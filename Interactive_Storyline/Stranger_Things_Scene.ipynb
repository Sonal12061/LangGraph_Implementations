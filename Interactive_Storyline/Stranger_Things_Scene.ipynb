{
  "nbformat": 4,
  "nbformat_minor": 0,
  "metadata": {
    "colab": {
      "provenance": []
    },
    "kernelspec": {
      "name": "python3",
      "display_name": "Python 3"
    },
    "language_info": {
      "name": "python"
    }
  },
  "cells": [
    {
      "cell_type": "code",
      "execution_count": 1,
      "metadata": {
        "id": "3eNLP-bzJaFk"
      },
      "outputs": [],
      "source": [
        "#! pip install --quiet langgraph langchain_huggingface"
      ]
    },
    {
      "cell_type": "markdown",
      "source": [
        "### **Importing libraries**"
      ],
      "metadata": {
        "id": "psMnMXG1mhKQ"
      }
    },
    {
      "cell_type": "code",
      "source": [
        "                                                                                                                                                                                                                                                                                                                                                          ṇfrom langchain_huggingface import HuggingFaceEndpoint\n",
        "from langgraph.checkpoint.memory import MemorySaver\n",
        "from typing import Annotated, List, Dict, Any, Optional, Tuple\n",
        "from typing_extensions import TypedDict\n",
        "from langgraph.graph import StateGraph, START, END\n",
        "from langgraph.graph.message import add_messages\n",
        "from IPython.display import Image, display\n",
        "from google.colab import userdata\n",
        "import json\n",
        "import requests\n",
        "import os"
      ],
      "metadata": {
        "id": "X_WEd8EJJn_f"
      },
      "execution_count": 2,
      "outputs": []
    },
    {
      "cell_type": "markdown",
      "source": [
        "### **Creating a State Class**"
      ],
      "metadata": {
        "id": "Xp8e--YwLO8X"
      }
    },
    {
      "cell_type": "code",
      "source": [
        "# Cell 2: Base “State” class\n",
        "class State:\n",
        "    \"\"\"\n",
        "    A base class for a “state node.” Subclasses must implement run(context)->str.\n",
        "    \"\"\"\n",
        "    def run(self, context: Dict[str, Any]) -> str:\n",
        "        # Every subclass will fill in context[“state”] if needed.\n",
        "        messages: Annotated[list, add_messages]\n",
        "        raise NotImplementedError(\"Subclasses must override run()\")"
      ],
      "metadata": {
        "id": "sUmCKnOMKD9P"
      },
      "execution_count": 3,
      "outputs": []
    },
    {
      "cell_type": "markdown",
      "source": [
        "### **Setting up Environment Variables**"
      ],
      "metadata": {
        "id": "Q3N8lbV4LXG0"
      }
    },
    {
      "cell_type": "code",
      "source": [
        "HF_TOKEN = userdata.get('HF_TOKEN')\n",
        "if not HF_TOKEN:\n",
        "    raise ValueError(\"Please set HUGGINGFACEHUB_API_TOKEN in your environment.\")\n",
        "\n",
        "MODEL_ID = \"mistralai/Mistral-7B-Instruct-v0.3\"\n",
        "API_URL = \"https://api-inference.huggingface.co/models/mistralai/Mistral-7B-Instruct-v0.3\"\n",
        "HEADERS = {\"Authorization\": f\"Bearer {HF_TOKEN}\"}"
      ],
      "metadata": {
        "id": "uVmjd6cKgRo3"
      },
      "execution_count": 4,
      "outputs": []
    },
    {
      "cell_type": "markdown",
      "source": [
        "### **Defining a class for Mistral LLM**"
      ],
      "metadata": {
        "id": "X9Ly1CRBLew1"
      }
    },
    {
      "cell_type": "code",
      "source": [
        "class MistralLLM:\n",
        "    # This is a wrapper class similar to init_chat_model of langchain\n",
        "    def __init__(self):\n",
        "        # Setting the API URL and HuggingFace Token using __init__() method\n",
        "        self.api_url = API_URL\n",
        "        if not self.api_url:\n",
        "            raise ValueError(\n",
        "                \"Please set both MISTRAL_API_URL and MISTRAL_API_KEY in your environment.\"\n",
        "            )\n",
        "        self.headers = {\n",
        "            \"Authorization\": f\"Bearer {HF_TOKEN}\",\n",
        "            \"Content-Type\": \"application/json\"\n",
        "        }\n",
        "    def invoke(\n",
        "        self,\n",
        "        *,\n",
        "        messages: List[Dict[str, str]],\n",
        "        temperature: Optional[float] = None,\n",
        "        max_tokens: Optional[int] = None,\n",
        "        **kwargs: Any\n",
        "        ) -> Dict[str, Any]:\n",
        "\n",
        "        user_input = messages[-1][\"content\"]\n",
        "        #print(\"User: \" + user_input)\n",
        "        payload: Dict[str, Any] = {\n",
        "            \"inputs\": user_input,\n",
        "            \"parameters\": {\n",
        "              \"temperature\": 0.7,\n",
        "              \"max_new_tokens\": 700\n",
        "            }\n",
        "          }\n",
        "        response = requests.post(self.api_url, headers=self.headers, json=payload)\n",
        "        response.raise_for_status()\n",
        "        return response.json()"
      ],
      "metadata": {
        "id": "4XJNRXO-ikfI"
      },
      "execution_count": 5,
      "outputs": []
    },
    {
      "cell_type": "markdown",
      "source": [
        "### **Functions to extract Json object from the string generated by Mistral**"
      ],
      "metadata": {
        "id": "k-9iO7yuLns3"
      }
    },
    {
      "cell_type": "code",
      "source": [
        "import json\n",
        "from typing import Any, Union\n",
        "\n",
        "def extract_json_object(raw: str) -> Union[dict, None]:\n",
        "    \"\"\"\n",
        "    Finds the last “{ … }” JSON object in `raw` and returns it as a Python dict.\n",
        "    If nothing parseable is found, returns None.\n",
        "    \"\"\"\n",
        "    raw = raw.strip()\n",
        "    start = raw.rfind(\"{\")\n",
        "    end = raw.rfind(\"}\") + 1\n",
        "    if 0 <= start < end:\n",
        "        candidate = raw[start:end]\n",
        "        try:\n",
        "            return json.loads(candidate)\n",
        "        except json.JSONDecodeError:\n",
        "            pass\n",
        "    return None\n",
        "\n",
        "\n",
        "def parse_llm_response(response: Any) -> Union[dict, None]:\n",
        "    \"\"\"\n",
        "    Given an LLM response of the form [{ \"generated_text\": \"…some text… { …final JSON… }\" }],\n",
        "    find the last generated_text, feed it into extract_json_object, and return the dict.\n",
        "    If no valid JSON is found, returns None.\n",
        "    \"\"\"\n",
        "    # 1) If it's a list of dicts, grab the last element’s \"generated_text\"\n",
        "    if isinstance(response, list) and response:\n",
        "        last_item = response[-1]\n",
        "        raw_text = last_item.get(\"generated_text\", \"\")\n",
        "        return extract_json_object(raw_text)\n",
        "\n",
        "    # 2) If it’s a single dict with \"generated_text\", use that directly\n",
        "    if isinstance(response, dict) and \"generated_text\" in response:\n",
        "        return extract_json_object(response[\"generated_text\"])\n",
        "\n",
        "    # 3) If it’s just a raw string, try extracting from it\n",
        "    if isinstance(response, str):\n",
        "        return extract_json_object(response)\n",
        "\n",
        "    return None\n",
        "\n",
        "def extract_json_array_of_strings(raw: str) -> list[str] | None:\n",
        "    \"\"\"\n",
        "    Finds the last “[ … ]” JSON array in `raw` and returns it as a Python list of strings.\n",
        "    If nothing parseable is found, returns None.\n",
        "    \"\"\"\n",
        "    raw = raw.strip()\n",
        "    start = raw.rfind(\"[\")\n",
        "    end = raw.rfind(\"]\") + 1\n",
        "    if 0 <= start < end:\n",
        "        candidate = raw[start:end]\n",
        "        try:\n",
        "            arr = json.loads(candidate)\n",
        "            if isinstance(arr, list) and all(isinstance(x, str) for x in arr):\n",
        "                return arr\n",
        "        except json.JSONDecodeError:\n",
        "            pass\n",
        "    return None"
      ],
      "metadata": {
        "id": "-2waig1QiwlY"
      },
      "execution_count": 6,
      "outputs": []
    },
    {
      "cell_type": "markdown",
      "source": [
        "### **Prompt to Generate the Opening Scene**"
      ],
      "metadata": {
        "id": "bfbeGdDVLz4D"
      }
    },
    {
      "cell_type": "code",
      "source": [
        "def generate_opening_scene() -> tuple[str, list[str]]:\n",
        "    \"\"\"\n",
        "    Ask Mistral to produce a JSON object:\n",
        "      { \"scene\": \"...\", \"choices\": [\"...\",\"...\",\"...\",\"...\"] }\n",
        "    We then extract that last { … } from Mistral’s output.\n",
        "    \"\"\"\n",
        "    prompt = \"\"\"\n",
        "    You are a master storyteller in the style of Stranger Things, weaving a suspenseful, 1980s‐inspired mystery in a small town beset by supernatural forces.\n",
        "    Begin by crafting a vivid opening scene that places the player at ground zero of a strange phenomenon—perhaps a flickering streetlamp, a whispering forest, or the crackle of a mysterious radio signal. Your description should be exactly 2–3 sentences long and evoke the eerie atmosphere, subtle dread, and hint at a hidden otherworldly threat lurking just beyond sight.\n",
        "    After the scene, present exactly four distinct choices for how the player can proceed next.\n",
        "    Each choice should capture the tone of Stranger Things—teams of friends, secret government labs, eerie creatures, or cryptic clues.\n",
        "    Format your output as a single JSON object with two keys:\n",
        "    {\n",
        "      \"scene\": \"<2–3 sentence description of the opening, full of suspense and supernatural hints>\",\n",
        "      \"choices\": [\"<choice 1>\", \"<choice 2>\", \"<choice 3>\", \"<choice 4>\"]\n",
        "    }\n",
        "  **Instructions:**\n",
        "    - Keep the scene concise (2–3 sentences), focusing on sensory details (sight, sound, atmosphere).\n",
        "    - Choices must be numbered implicitly by their order in the array and should be short, action‐oriented strings (no numbers or punctuation inside the choice text).\n",
        "    - Make each choice feel like a genuine “Stranger Things” decision—investigate a dimly lit laboratory, rally a group of friends, follow a strange noise into the woods, or consult a reclusive expert.\n",
        "    - Output **ONLY** valid JSON (no extra narration or commentary).\n",
        "\n",
        "\n",
        "\"\"\".strip()\n",
        "    llm = MistralLLM()\n",
        "    raw = llm.invoke(\n",
        "        messages=[{\"role\": \"user\", \"content\": prompt}],\n",
        "        temperature=0.7,\n",
        "        max_tokens=700\n",
        "    )\n",
        "    #print(f\"The type of raw is {type(raw)}\")\n",
        "    j = parse_llm_response(raw)\n",
        "    if not j or \"scene\" not in j or \"choices\" not in j:\n",
        "        raise RuntimeError(f\"Could not parse opening JSON. Raw output:\\n{raw}\")\n",
        "    return j[\"scene\"], j[\"choices\"]"
      ],
      "metadata": {
        "id": "War_MCRaixLt"
      },
      "execution_count": 7,
      "outputs": []
    },
    {
      "cell_type": "markdown",
      "source": [
        "### **Prompt to Generate Next Scene**"
      ],
      "metadata": {
        "id": "R6OE6_haL7TQ"
      }
    },
    {
      "cell_type": "code",
      "source": [
        "def generate_next_scene(prev_scene: str, chosen_choice: str) -> tuple[str, list[str]]:\n",
        "    \"\"\"\n",
        "    Given the previous scene text and which choice the player picked, ask Mistral\n",
        "    for the next scene (2–3 sentences) plus four new choices. Expect a JSON object back.\n",
        "    \"\"\"\n",
        "    prompt = f\"\"\"\n",
        "      You are continuing a suspenseful, Stranger Things–inspired interactive adventure. The previous scene was:\n",
        "      \\\"\\\"\\\"\n",
        "      {prev_scene}\n",
        "      \\\"\\\"\\\"\n",
        "\n",
        "\n",
        "      The player chose: \"{chosen_choice}\"\n",
        "\n",
        "      Now, describe in vivid detail what happens next, using exactly 2–3 sentences that capture the eerie atmosphere, creeping tension, and hints of supernatural danger. After your description, present exactly four distinct next steps the player can take—each one should feel like a genuine Stranger Things decision (e.g., venturing deeper into a shadowy lab, warning a friend about the strange signals, exploring a hidden tunnel under the school, or seeking help from an expert).\n",
        "\n",
        "      Format your output as a JSON object with two keys:\n",
        "      {{\n",
        "      \"scene\": \"<2–3 sentence continuation, full of suspense, character insight, and supernatural hints>\",\n",
        "      \"choices\": [\"<choice A>\", \"<choice B>\", \"<choice C>\", \"<choice D>\"]\n",
        "      }}\n",
        "    **Instructions:**\n",
        "      - Keep the “scene” concise (2–3 sentences) and focus on sensory details (sound of distant whispers, flickering lights, unsettling silence).\n",
        "      - Integrate character dynamics inspired by Stranger Things—highlight relationships, personal fears, or group motivations (e.g., a loyal friend’s concern, a scientist’s hidden agenda, or a newcomer’s curiosity), so the story feels emotionally insightful from the start.\n",
        "      - Each choice must be a short, action‐oriented string (avoid numbers or punctuation inside the choice text).\n",
        "      - Ensure the tone remains true to Stranger Things (mysterious government projects, loyal friendships, ominous creatures).\n",
        "      - Output **ONLY** valid JSON (no extra commentary or exposition).\n",
        "\n",
        "\"\"\".strip()\n",
        "    llm = MistralLLM()\n",
        "    raw = llm.invoke(\n",
        "        messages=[{\"role\": \"user\", \"content\": prompt}],\n",
        "        temperature=0.7,\n",
        "        max_tokens=700\n",
        "    )\n",
        "    j = parse_llm_response(raw)\n",
        "    if not j or \"scene\" not in j or \"choices\" not in j:\n",
        "        raise RuntimeError(f\"Could not parse next-scene JSON. Raw output:\\n{raw}\")\n",
        "    return j[\"scene\"], j[\"choices\"]"
      ],
      "metadata": {
        "id": "FMqVUVxii05m"
      },
      "execution_count": 8,
      "outputs": []
    },
    {
      "cell_type": "markdown",
      "source": [
        "### **Opening Scene Generation**"
      ],
      "metadata": {
        "id": "uSpf9zo8MAkM"
      }
    },
    {
      "cell_type": "code",
      "source": [
        "# ─── Cell 4 (updated) ───\n",
        "class OpeningSceneState(State):\n",
        "    def __init__(self):\n",
        "        super().__init__()\n",
        "\n",
        "    def run(self, context: Dict[str, Any]) -> Dict[str, Any]:\n",
        "        # 1) Generate opening scene\n",
        "        scene_text, choices = generate_opening_scene()\n",
        "\n",
        "        # 2) Figure out new depth\n",
        "        depth = context.get(\"depth\", 0) + 1\n",
        "\n",
        "        # 3) Print Scene and choices\n",
        "        print(\"\\n\" + \"=\" * 40)\n",
        "        print(f\"Scene (Number {depth}):\\n{scene_text}\\n\")\n",
        "        print(\"Choices:\")\n",
        "        for idx, choice in enumerate(choices, start=1):\n",
        "            print(f\"  {idx}) {choice}\")\n",
        "        print(\"  q) Quit the game\")\n",
        "\n",
        "        sel = input(\"Enter 1–4 or 'q': \").strip().lower()\n",
        "\n",
        "        # 4) Validate\n",
        "        if sel not in {\"1\", \"2\", \"3\", \"4\", \"q\"}:\n",
        "            print(\"Invalid choice. Please enter 1, 2, 3, 4, or q.\")\n",
        "            return {\n",
        "                \"last_sel\": \"invalid\",\n",
        "                \"scene_text\": scene_text,\n",
        "                \"choices\": choices,\n",
        "                \"depth\": depth\n",
        "            }\n",
        "\n",
        "        # 5) Return a dict of all updated fields\n",
        "        return {\n",
        "            \"last_sel\": sel,\n",
        "            \"scene_text\": scene_text,\n",
        "            \"choices\": choices,\n",
        "            \"depth\": depth\n",
        "        }\n"
      ],
      "metadata": {
        "id": "ZQxy_DKoPCBW"
      },
      "execution_count": 9,
      "outputs": []
    },
    {
      "cell_type": "markdown",
      "source": [
        "### **Next Scene Generation**"
      ],
      "metadata": {
        "id": "s78BGFL8MFYx"
      }
    },
    {
      "cell_type": "code",
      "source": [
        "# ─── Cell 5 (updated) ───\n",
        "class NextSceneState(State):\n",
        "    def __init__(self):\n",
        "        super().__init__()\n",
        "\n",
        "    def run(self, context: Dict[str, Any]) -> Dict[str, Any]:\n",
        "\n",
        "        prev_scene   = context.get(\"scene_text\", \"\")\n",
        "        prev_choices = context.get(\"choices\", [])\n",
        "        sel          = context.get(\"last_sel\", None)\n",
        "        depth        = context.get(\"depth\", 1)\n",
        "\n",
        "        # If Opening told us to quit, short‐circuit\n",
        "        if sel == \"q\":\n",
        "            return {\"last_sel\": \"halt\", \"depth\": depth}\n",
        "\n",
        "        if sel not in {\"1\", \"2\", \"3\", \"4\"}:\n",
        "            print(\"Retrying previous scene because the choice was invalid.\")\n",
        "            return {\"last_sel\": \"invalid\", \"depth\": depth}\n",
        "\n",
        "        chosen_text = prev_choices[int(sel) - 1]\n",
        "        next_text, next_choices = generate_next_scene(prev_scene, chosen_text)\n",
        "\n",
        "        new_depth = depth + 1\n",
        "\n",
        "        # 1) Print next scene + choices\n",
        "        print(\"\\n\" + \"=\" * 40)\n",
        "        print(f\"Scene (Number {new_depth}):\\n{next_text}\\n\")\n",
        "        print(\"Choices:\")\n",
        "        for idx, choice in enumerate(next_choices, start=1):\n",
        "            print(f\"  {idx}) {choice}\")\n",
        "        print(\"  q) Quit the game\")\n",
        "\n",
        "        sel2 = input(\"Enter 1–4 or 'q': \").strip().lower()\n",
        "        if sel2 not in {\"1\", \"2\", \"3\", \"4\", \"q\"}:\n",
        "            print(\"Invalid choice. Please enter 1, 2, 3, 4, or q.\")\n",
        "            return {\n",
        "                \"last_sel\": \"invalid\",\n",
        "                \"scene_text\": next_text,\n",
        "                \"choices\": next_choices,\n",
        "                \"depth\": new_depth\n",
        "            }\n",
        "\n",
        "        if sel2 == \"q\":\n",
        "            return {\"last_sel\": \"halt\", \"depth\": new_depth}\n",
        "        # 2) Return updated state for the next iteration\n",
        "        return {\n",
        "            \"last_sel\": sel2,\n",
        "            \"scene_text\": next_text,\n",
        "            \"choices\": next_choices,\n",
        "            \"depth\": new_depth\n",
        "        }\n"
      ],
      "metadata": {
        "id": "NhNdAIuCPLtd"
      },
      "execution_count": 10,
      "outputs": []
    },
    {
      "cell_type": "markdown",
      "source": [
        "### **Path to Generate Opening Scene based on selection**"
      ],
      "metadata": {
        "id": "ea1HW58tMKlC"
      }
    },
    {
      "cell_type": "code",
      "source": [
        "# Cell 6: Two “path” functions for StateGraph\n",
        "#\n",
        "# _opening_path looks at context[\"last_sel\"] (which we set in OpeningSceneState.run)\n",
        "# and decides whether to go to “quit,” retry the opening scene, or move on to next_scene.\n",
        "def _opening_path(ctx: Dict[str, Any]) -> str:\n",
        "    while True:\n",
        "        event = ctx.get(\"last_sel\")\n",
        "        if event is None or event == \"invalid\":\n",
        "            # run the OpeningSceneState again\n",
        "            sel = opening_state_node.run(ctx)\n",
        "            ctx[\"last_sel\"] = sel\n",
        "            if sel == \"invalid\":\n",
        "                continue  # ask again\n",
        "            event = sel\n",
        "        break\n",
        "\n",
        "    # “q” → END, otherwise → “next_scene”\n",
        "    if event == \"quit\":\n",
        "        return END\n",
        "    if event in {\"1\", \"2\", \"3\", \"4\"}:\n",
        "        return \"next_scene\"\n",
        "    # if someone typed “invalid” repeatedly, we’d have looped above\n",
        "    return \"opening_scene\""
      ],
      "metadata": {
        "id": "7m4gFBq-Pe66"
      },
      "execution_count": 11,
      "outputs": []
    },
    {
      "cell_type": "markdown",
      "source": [
        "### **Path to generate Next scene based on selection**"
      ],
      "metadata": {
        "id": "LFBFHanPMQDP"
      }
    },
    {
      "cell_type": "code",
      "source": [
        "# ─── Cell 7 (fixed) ───\n",
        "def _next_path(ctx: Dict[str, Any]) -> str:\n",
        "    sel = ctx.get(\"last_sel\")\n",
        "\n",
        "    # If they typed “halt” (i.e. reached max depth or “q”), go to END\n",
        "    if sel == \"halt\":\n",
        "        return END\n",
        "\n",
        "    # If it was an invalid choice, loop back to next_scene\n",
        "    if sel not in {\"1\", \"2\", \"3\", \"4\"}:\n",
        "        return \"invalid\"\n",
        "\n",
        "    # Otherwise it was a valid choice – advance to next_scene (StateGraph will\n",
        "    # call next_state_node.run for you exactly once)\n",
        "    return \"next_scene\""
      ],
      "metadata": {
        "id": "WgWGmacT1S90"
      },
      "execution_count": 12,
      "outputs": []
    },
    {
      "cell_type": "markdown",
      "source": [
        "### **Starting the Graph**"
      ],
      "metadata": {
        "id": "UmNz6KZVMoLF"
      }
    },
    {
      "cell_type": "code",
      "source": [
        "# ─── Cell 8 (corrected) ───\n",
        "opening_state_node = OpeningSceneState()\n",
        "next_state_node    = NextSceneState()\n",
        "\n",
        "# 1) Remove the “State” argument here. Just call StateGraph() with no parameters.\n",
        "# new: tell StateGraph that our state is a dict\n",
        "graph_builder = StateGraph(input=dict, output=dict)\n",
        "\n",
        "\n",
        "# 2) Pass the .run method itself as the action (callable)\n",
        "graph_builder.add_node(\"opening_scene\", opening_state_node.run)\n",
        "graph_builder.add_node(\"next_scene\",    next_state_node.run)\n",
        "\n",
        "\n",
        "graph_builder.add_edge(START, \"opening_scene\")\n",
        "\n",
        "graph_builder.add_conditional_edges(\n",
        "    source=\"opening_scene\",\n",
        "    path=_opening_path,\n",
        "    path_map={\n",
        "        END:           END,               # Must use the END constant, not the string \"END\"\n",
        "        #\"invalid\":     \"opening_scene\",\n",
        "        \"next_scene\":  \"next_scene\"\n",
        "    },\n",
        ")\n",
        "\n",
        "graph_builder.add_conditional_edges(\n",
        "    source=\"next_scene\",\n",
        "    path=_next_path,\n",
        "    path_map={\n",
        "        END:           END,               # Again, map to the END constant\n",
        "        #\"invalid\":     \"next_scene\",\n",
        "        \"next_scene\":  \"next_scene\"\n",
        "    },\n",
        ")\n",
        "\n",
        "graph = graph_builder.compile()"
      ],
      "metadata": {
        "colab": {
          "base_uri": "https://localhost:8080/"
        },
        "id": "KJd9cytAJbJt",
        "outputId": "b25595b4-7a6b-42ba-f3d2-2652b7d66426"
      },
      "execution_count": 13,
      "outputs": [
        {
          "output_type": "stream",
          "name": "stderr",
          "text": [
            "<ipython-input-13-dcb62f69e3d7>:7: LangGraphDeprecationWarning: Initializing StateGraph without state_schema is deprecated. Please pass in an explicit state_schema instead of just an input and output schema.\n",
            "  graph_builder = StateGraph(input=dict, output=dict)\n"
          ]
        }
      ]
    },
    {
      "cell_type": "markdown",
      "source": [
        "### **Displaying the Graph**"
      ],
      "metadata": {
        "id": "sDHv1juaMs7l"
      }
    },
    {
      "cell_type": "code",
      "source": [
        "from IPython.display import Image, display\n",
        "\n",
        "try:\n",
        "    display(Image(graph.get_graph().draw_mermaid_png()))\n",
        "except Exception:\n",
        "    # This requires some extra dependencies and is optional\n",
        "    raise(Exception)"
      ],
      "metadata": {
        "colab": {
          "base_uri": "https://localhost:8080/",
          "height": 400
        },
        "id": "vVHyriBP6IHM",
        "outputId": "81bcae23-8c69-40f1-c99c-7a8161b37957"
      },
      "execution_count": 14,
      "outputs": [
        {
          "output_type": "display_data",
          "data": {
            "image/png": "[encoded data removed]",
            "text/plain": [
              "<IPython.core.display.Image object>"
            ]
          },
          "metadata": {}
        }
      ]
    },
    {
      "cell_type": "markdown",
      "source": [
        "### **Graph Invoking**"
      ],
      "metadata": {
        "id": "BPx3u3sdMw76"
      }
    },
    {
      "cell_type": "code",
      "source": [
        "# Cell 9: invoke the graph in a “main” guard\n",
        "if __name__ == \"__main__\":\n",
        "    # initial_context must include a place to store “last_sel” and “depth”\n",
        "    initial_context: Dict[str, Any] = {\n",
        "        \"last_sel\": None,\n",
        "        \"depth\": 0\n",
        "    }\n",
        "\n",
        "    final_context = graph.invoke(\n",
        "        initial_context,\n",
        "        config={\"recursion_limit\": 1000}\n",
        "    )\n",
        "\n",
        "    print(\"\\n\" + \"=\" * 60)\n",
        "    print(\"Sorry to see you go. We were having so much fun\")\n",
        "    print(\"Done. Thanks for playing!\")\n"
      ],
      "metadata": {
        "colab": {
          "base_uri": "https://localhost:8080/"
        },
        "id": "AQQWSJXHPpfD",
        "outputId": "7abf31a9-2e25-4520-8394-f484926f359e"
      },
      "execution_count": 15,
      "outputs": [
        {
          "output_type": "stream",
          "name": "stdout",
          "text": [
            "\n",
            "========================================\n",
            "Scene (Number 1):\n",
            "The player stumbles upon a dark, foggy forest, the trees whispering secrets as a faint, eerie melody floats through the air.\n",
            "\n",
            "Choices:\n",
            "  1) Press deeper into the woods, following the music.\n",
            "  2) Return to the safety of the nearby town.\n",
            "  3) Send a message to the local radio station to ask about the music.\n",
            "  4) Search for clues among the fallen leaves on the forest floor.\n",
            "  q) Quit the game\n",
            "Enter 1–4 or 'q': 1\n",
            "\n",
            "========================================\n",
            "Scene (Number 2):\n",
            "As the player ventures deeper into the woods, the music grows louder, and the trees' whispers become clearer. A sense of unease washes over the player, as if they're being watched by unseen eyes. A faint, flickering light pulses in the distance, casting eerie shadows.\n",
            "\n",
            "Choices:\n",
            "  1) Follow the music and the light\n",
            "  2) Turn back, convinced it's a trap\n",
            "  3) Split up to explore different paths\n",
            "  4) Find a place to hide and observe from afar\n",
            "  q) Quit the game\n",
            "Enter 1–4 or 'q': 1\n",
            "\n",
            "========================================\n",
            "Scene (Number 3):\n",
            "The music intensifies, and the light pulses rhythmically, like a heartbeat in the darkness. A chilling silence descends, broken only by the haunting whispers of the wind. Distant footsteps echo through the trees, hinting at unseen intruders. Mike looks to his friends, concern etched on his face.\n",
            "\n",
            "Choices:\n",
            "  1) Follow the music and the light\n",
            "  2) Stay with Mike and the group\n",
            "  3) Investigate the footsteps\n",
            "  4) Hide and wait for the danger to pass\n",
            "  q) Quit the game\n",
            "Enter 1–4 or 'q': 1\n",
            "\n",
            "========================================\n",
            "Scene (Number 4):\n",
            "The music and pulsing light draw you deeper into the forest, as the whispers grow louder, piercing the silence. Mike's eyes meet yours, a mix of determination and fear. The shadows dance around him, as if playing a sinister game.\n",
            "\n",
            "Choices:\n",
            "  1) Join forces with Mike to investigate the source of the music and light\n",
            "  2) Follow the distant footsteps, hoping to find an ally in the woods\n",
            "  3) Return to the group and share your findings\n",
            "  4) Hide and observe, seeking to uncover the mystery alone\n",
            "  q) Quit the game\n",
            "Enter 1–4 or 'q': 2\n",
            "\n",
            "========================================\n",
            "Scene (Number 5):\n",
            "As you follow the distant footsteps, the whispers grow louder, echoing off the trees. Mike's face contorts in fear, but his eyes remain locked on the path ahead. 'We can't turn back now,' he whispers, his voice barely audible over the cacophony.\n",
            "\n",
            "Choices:\n",
            "  1) Venture deeper into the shadows, hoping to find the source of the whispers\n",
            "  2) Turn back and warn Eleven about the strange occurrences\n",
            "  3) Stay hidden and observe the mysterious figures\n",
            "  4) Collaborate with Mike and the group to uncover the secrets of the woods\n",
            "  q) Quit the game\n",
            "Enter 1–4 or 'q': 3\n",
            "\n",
            "========================================\n",
            "Scene (Number 6):\n",
            "The whispers grow louder, swirling around the group like a spectral wind, sending chills down their spines. Mike clenches his fists, his fear giving way to determination. 'We've got to find Eleven,' he growls, leading the way deeper into the forest, guided by the footsteps.\n",
            "\n",
            "Choices:\n",
            "  1) Follow Mike deeper into the forest\n",
            "  2) Split up and search for Eleven\n",
            "  3) Huddle together and form a plan\n",
            "  4) Run back to the safety of the town\n",
            "  q) Quit the game\n",
            "Enter 1–4 or 'q': 2\n",
            "\n",
            "========================================\n",
            "Scene (Number 7):\n",
            "The forest grows denser and darker, the whispers louder and more insistent. The group's flashlights flicker erratically, illuminating twisted branches and the ghostly outlines of trees. Lucas grips his bike tightly, his eyes fixed on Mike, his loyalty to his friend unwavering.\n",
            "\n",
            "Choices:\n",
            "  1) Press on deeper into the forest, guided by the whispers\n",
            "  2) Attempt to communicate with the whispers\n",
            "  3) Follow the bike tracks left by the Demogorgon\n",
            "  4) Return to the safety of the town and regroup\n",
            "  q) Quit the game\n",
            "Enter 1–4 or 'q': q\n",
            "\n",
            "============================================================\n",
            "Sorry to see you go. We were having so much fun\n",
            "Done. Thanks for playing!\n"
          ]
        }
      ]
    }
  ]
}