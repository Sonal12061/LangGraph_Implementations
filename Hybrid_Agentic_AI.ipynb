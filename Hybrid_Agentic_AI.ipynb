{
  "nbformat": 4,
  "nbformat_minor": 0,
  "metadata": {
    "colab": {
      "provenance": [],
      "authorship_tag": "ABX9TyOsDbdcPCByqF4wM6QxqJLq",
      "include_colab_link": true
    },
    "kernelspec": {
      "name": "python3",
      "display_name": "Python 3"
    },
    "language_info": {
      "name": "python"
    }
  },
  "cells": [
    {
      "cell_type": "markdown",
      "metadata": {
        "id": "view-in-github",
        "colab_type": "text"
      },
      "source": [
        "<a href=\"https://colab.research.google.com/github/Sonal12061/LangGraph_Implementations/blob/main/Hybrid_Agentic_AI.ipynb\" target=\"_parent\"><img src=\"https://colab.research.google.com/assets/colab-badge.svg\" alt=\"Open In Colab\"/></a>"
      ]
    },
    {
      "cell_type": "code",
      "execution_count": null,
      "metadata": {
        "id": "3BICWi8ypltC"
      },
      "outputs": [],
      "source": []
    },
    {
      "cell_type": "markdown",
      "source": [
        "## **Pre-requistes**"
      ],
      "metadata": {
        "id": "L5wffvdl3dgj"
      }
    },
    {
      "cell_type": "markdown",
      "source": [
        "### **Installing Libraries**"
      ],
      "metadata": {
        "id": "CCsSR6pz2pWG"
      }
    },
    {
      "cell_type": "code",
      "source": [
        "#!pip -q install --upgrade langgraph redis huggingface_hub chromadb langchain-huggingface"
      ],
      "metadata": {
        "id": "qESo_5VH1x2n"
      },
      "execution_count": 1,
      "outputs": []
    },
    {
      "cell_type": "markdown",
      "source": [
        "### **Running Redis locally**"
      ],
      "metadata": {
        "id": "BHvvoLOU2vOd"
      }
    },
    {
      "cell_type": "code",
      "source": [
        "!apt-get update && \\\n",
        "apt-get install -y redis-server && \\\n",
        "redis-server --daemonize yes"
      ],
      "metadata": {
        "colab": {
          "base_uri": "https://localhost:8080/"
        },
        "id": "vzfpKaeT1x5x",
        "outputId": "d072975e-5a98-421b-b159-5521f645adfe"
      },
      "execution_count": 2,
      "outputs": [
        {
          "output_type": "stream",
          "name": "stdout",
          "text": [
            "\r0% [Working]\r            \rHit:1 http://security.ubuntu.com/ubuntu jammy-security InRelease\n",
            "\r0% [Connecting to archive.ubuntu.com (185.125.190.81)] [Connected to cloud.r-pr\r                                                                               \rHit:2 https://cloud.r-project.org/bin/linux/ubuntu jammy-cran40/ InRelease\n",
            "\r0% [Waiting for headers] [Waiting for headers] [Waiting for headers] [Connected\r                                                                               \rHit:3 https://developer.download.nvidia.com/compute/cuda/repos/ubuntu2204/x86_64  InRelease\n",
            "\r0% [Waiting for headers] [Waiting for headers] [Connected to ppa.launchpadconte\r                                                                               \rHit:4 http://archive.ubuntu.com/ubuntu jammy InRelease\n",
            "\r0% [Waiting for headers] [Waiting for headers] [Connected to ppa.launchpadconte\r                                                                               \rHit:5 https://r2u.stat.illinois.edu/ubuntu jammy InRelease\n",
            "Hit:6 http://archive.ubuntu.com/ubuntu jammy-updates InRelease\n",
            "Hit:7 http://archive.ubuntu.com/ubuntu jammy-backports InRelease\n",
            "Hit:8 https://ppa.launchpadcontent.net/deadsnakes/ppa/ubuntu jammy InRelease\n",
            "Hit:9 https://ppa.launchpadcontent.net/graphics-drivers/ppa/ubuntu jammy InRelease\n",
            "Hit:10 https://ppa.launchpadcontent.net/ubuntugis/ppa/ubuntu jammy InRelease\n",
            "Reading package lists... Done\n",
            "W: Skipping acquire of configured file 'main/source/Sources' as repository 'https://r2u.stat.illinois.edu/ubuntu jammy InRelease' does not seem to provide it (sources.list entry misspelt?)\n",
            "Reading package lists... Done\n",
            "Building dependency tree... Done\n",
            "Reading state information... Done\n",
            "redis-server is already the newest version (5:6.0.16-1ubuntu1).\n",
            "0 upgraded, 0 newly installed, 0 to remove and 39 not upgraded.\n"
          ]
        }
      ]
    },
    {
      "cell_type": "markdown",
      "source": [
        "### **Running checks on redis, chromadb, huggingface**"
      ],
      "metadata": {
        "id": "OwE6H3lB27PM"
      }
    },
    {
      "cell_type": "code",
      "source": [
        "import redis, chromadb\n",
        "from google.colab import userdata\n",
        "\n",
        "try:\n",
        "    r = redis.Redis(host=\"localhost\", port=6379, db=0)\n",
        "    r.ping()\n",
        "    print(\"✅ Redis: up & reachable\")\n",
        "except redis.exceptions.ConnectionError as e:\n",
        "    sys.exit(\"❌ Redis failed to start ‑ check the logs\")\n",
        "\n",
        "print(f\"✅ ChromaDB imported (version {chromadb.__version__})\")\n",
        "HF_TOKEN = userdata.get('HF_TOKEN')\n",
        "print(f\"✅ Got Hugging Face Token\")"
      ],
      "metadata": {
        "colab": {
          "base_uri": "https://localhost:8080/"
        },
        "id": "olc7jjAX2_Pf",
        "outputId": "5ccf2f2e-52bf-4948-9d9c-9d180050b21a"
      },
      "execution_count": 3,
      "outputs": [
        {
          "output_type": "stream",
          "name": "stdout",
          "text": [
            "✅ Redis: up & reachable\n",
            "✅ ChromaDB imported (version 1.0.15)\n",
            "✅ Got Hugging Face Token\n"
          ]
        }
      ]
    },
    {
      "cell_type": "markdown",
      "source": [
        "### **Analyzing with Mistral**"
      ],
      "metadata": {
        "id": "xUnotx8N4VdC"
      }
    },
    {
      "cell_type": "code",
      "source": [
        "import os, re, json, random, textwrap\n",
        "from huggingface_hub import InferenceClient\n",
        "\n",
        "# Environment\n",
        "DRY_RUN = False  # set True to stub API calls\n",
        "\n",
        "# Initialize HuggingFace Inference client\n",
        "if not DRY_RUN:\n",
        "    client = InferenceClient(\n",
        "        model=\"mistralai/Mistral-7B-Instruct-v0.2\",\n",
        "        token=HF_TOKEN,\n",
        "        timeout=120,\n",
        "    )\n",
        "else:\n",
        "    client = None\n",
        "\n",
        "\n",
        "def analyze_with_mistral(text: str, *, content: str) -> dict:\n",
        "    \"\"\"\n",
        "    Returns JSON with:\n",
        "      {\"primary_intent\": \"billing|tech_support|return|general_query\",\n",
        "       \"secondary_intents\": [<optional>]}\n",
        "    Uses Mistral and a tailored prompt for intent classification.\n",
        "    \"\"\"\n",
        "    if DRY_RUN:\n",
        "        return {\n",
        "            \"primary_intent\": random.choice([\"billing\", \"tech_support\", \"return\", \"general_query\"]),\n",
        "            \"secondary_intents\": []\n",
        "        }\n",
        "\n",
        "    # System prompt for customer support intent classification\n",
        "    system_msg = {\n",
        "        \"role\": \"system\",\n",
        "        \"content\": content\n",
        "    }\n",
        "    user_msg = {\"role\": \"user\", \"content\": text}\n",
        "\n",
        "    # Call Mistral\n",
        "    resp = client.chat_completion(\n",
        "        messages=[system_msg, user_msg],\n",
        "        temperature=0.2,\n",
        "        max_tokens=200,\n",
        "    )\n",
        "\n",
        "    # Normalize response\n",
        "    if isinstance(resp, dict) and \"generated_text\" in resp:\n",
        "        raw = resp[\"generated_text\"]\n",
        "    elif getattr(resp, \"choices\", None):\n",
        "        raw = resp.choices[0].message.content\n",
        "    else:\n",
        "        raise ValueError(f\"Unexpected response from Mistral:\\n{resp!r}\")\n",
        "\n",
        "    # Extract JSON\n",
        "    match = re.search(r\"\\{.*\\}\", raw, re.S)\n",
        "    if not match:\n",
        "        #raise ValueError(\"❌ JSON not found in model output:\\n\" + raw[:500])\n",
        "        return raw\n",
        "    return json.loads(match.group())"
      ],
      "metadata": {
        "id": "KU_ac5di4aAF"
      },
      "execution_count": 41,
      "outputs": []
    },
    {
      "cell_type": "markdown",
      "source": [
        "### **CustomerSupportState**"
      ],
      "metadata": {
        "id": "sfsj49P79KkU"
      }
    },
    {
      "cell_type": "code",
      "source": [
        "from typing import TypedDict, List, Optional, Tuple\n",
        "\n",
        "# ---- 1. Updated State ----\n",
        "class CustomerSupportState(TypedDict, total=False):\n",
        "    # raw input\n",
        "    message_text: str\n",
        "    # intent node outputs\n",
        "    primary_intent: Optional[str]\n",
        "    secondary_intents: List[str]\n",
        "    intent_count: int\n",
        "    intent_status: str          # NEW – only intent_node writes here\n",
        "    # kb node outputs\n",
        "    kb_results: str\n",
        "    kb_count: int\n",
        "    kb_status: str              # NEW – only kb_retriever_node writes here\n",
        "    sentiment: str              # e.g. frustrated | polite | neutral\n",
        "    urgency: str                # low | medium | high\n",
        "    sent_count: int\n",
        "    sent_status: str\n",
        "\n",
        "    response_text: str\n",
        "    comp_count: int\n",
        "    comp_status: str"
      ],
      "metadata": {
        "id": "GYcZ52IV9JSY"
      },
      "execution_count": 31,
      "outputs": []
    },
    {
      "cell_type": "markdown",
      "source": [
        "## **Intent Node**"
      ],
      "metadata": {
        "id": "Ntf-bt9Z3ZBO"
      }
    },
    {
      "cell_type": "code",
      "source": [
        "import json\n",
        "\n",
        "def intent_node(state: CustomerSupportState) -> CustomerSupportState:\n",
        "    \"\"\"\n",
        "    IntentClassification node (horizontal, no central status key).\n",
        "\n",
        "    - Runs whenever a new `message_text` is present.\n",
        "    - Uses `analyze_with_mistral(text, content)` to infer intents.\n",
        "    - Writes only to its own keys: `intent_status`, `primary_intent`,\n",
        "      `secondary_intents`, and `intent_count`.\n",
        "    \"\"\"\n",
        "    # Skip if we've already processed this message\n",
        "    if state.get(\"intent_status\") == \"done\":\n",
        "        print(\"⏸️  IntentClassification: already processed.\")\n",
        "        return {}\n",
        "\n",
        "    message = state.get(\"message_text\", \"\")\n",
        "    if not message:\n",
        "        print(\"⏸️  IntentClassification: no message to process.\")\n",
        "        return {}\n",
        "\n",
        "    print(f\"🔍 IntentClassification: analyzing message '{message[:30]}...'\")\n",
        "\n",
        "    content = (\n",
        "        \"You are a customer support AI specialized in intent classification. \"\n",
        "        \"Given a user message, identify the primary intent (billing, tech_support, \"\n",
        "        \"return, general_query) and any secondary intents. Respond ONLY with JSON \"\n",
        "        'exactly in the form: {\"primary_intent\":\"...\", \"secondary_intents\":[\"...\", ...]}.'\n",
        "    )\n",
        "\n",
        "    result = analyze_with_mistral(message, content=content)\n",
        "    primary_intent      = result.get(\"primary_intent\")\n",
        "    secondary_intents   = result.get(\"secondary_intents\", [])\n",
        "\n",
        "    updated_state: CustomerSupportState = {\n",
        "    \"primary_intent\": primary_intent,\n",
        "    \"secondary_intents\": secondary_intents,\n",
        "    \"intent_count\": state.get(\"intent_count\", 0) + 1,\n",
        "    \"intent_status\": \"done\"\n",
        "    }\n",
        "\n",
        "    print(f\"✅ IntentClassification complete: {primary_intent} (+{len(secondary_intents)} secondary)\")\n",
        "\n",
        "    # Publish result to Redis (optional cross‑agent communication)\n",
        "    payload = {\n",
        "        \"primary_intent\": primary_intent,\n",
        "        \"secondary_intents\": secondary_intents,\n",
        "    }\n",
        "    bus.publish(\"IntentClassified\", json.dumps(payload))\n",
        "\n",
        "    return updated_state"
      ],
      "metadata": {
        "id": "mkRY-NCK1x8i"
      },
      "execution_count": 6,
      "outputs": []
    },
    {
      "cell_type": "markdown",
      "source": [
        "## **KB Retrieval node**"
      ],
      "metadata": {
        "id": "5tZR05tCDuJV"
      }
    },
    {
      "cell_type": "markdown",
      "source": [
        "### **Adding Documents in ChromaDB**"
      ],
      "metadata": {
        "id": "tQvm1qCUNHrM"
      }
    },
    {
      "cell_type": "code",
      "source": [
        "# Install ChromaDB if needed:\n",
        "# !pip install chromadb\n",
        "\n",
        "import chromadb\n",
        "from chromadb.config import Settings\n",
        "\n",
        "CHROMA_DIR        = \"/content/chroma_store\"\n",
        "client = chromadb.PersistentClient(path=CHROMA_DIR)\n",
        "# Connect to Chroma (local in‑memory by default)\n",
        "client = chromadb.Client(Settings())\n",
        "collection = client.create_collection(\"customer_support_kb\")\n",
        "\n",
        "# Prepare 20+ detailed KB documents\n",
        "ids = [f\"doc_{i:02d}\" for i in range(1, 21)]\n",
        "documents = [\n",
        "    \"\"\"How to Reset Your Account Password:\n",
        "1. Go to the login page and click “Forgot Password.”\n",
        "2. Enter your registered email address and click “Submit.”\n",
        "3. Check your email for the reset link.\n",
        "4. Click the link, enter a new password twice, and save.\n",
        "5. Return to the login page and sign in with your new password.\"\"\",\n",
        "\n",
        "    \"\"\"Updating Your Billing Information:\n",
        "• Sign in to your account dashboard.\n",
        "• Navigate to “Payment Methods” under Settings.\n",
        "• Click “Edit” next to the card you wish to update.\n",
        "• Enter the new card number, expiration date, and CVV.\n",
        "• Click “Save” and verify the update via the confirmation email.\"\"\",\n",
        "\n",
        "    \"\"\"Refund & Return Policy Overview:\n",
        "Our standard policy allows returns within 30 days of delivery. To initiate:\n",
        "1. Visit “Order History” in your profile.\n",
        "2. Select the order and click “Request Refund.”\n",
        "3. Choose the items to return and provide a reason.\n",
        "4. Print the provided shipping label and send the package.\n",
        "5. Once we receive and inspect the items, funds will be credited within 5–7 business days.\"\"\",\n",
        "\n",
        "    \"\"\"Troubleshooting Internet Connectivity:\n",
        "1. Restart your modem and router by unplugging for 30 seconds.\n",
        "2. Check that all cables are securely connected.\n",
        "3. Run a speed test at speedtest.net.\n",
        "4. If speeds are low, clear your browser cache and retry.\n",
        "5. Contact support with your speed test results if issues persist.\"\"\",\n",
        "\n",
        "    \"\"\"Tracking Your Order Status:\n",
        "• Log in and click “My Orders.”\n",
        "• Locate the relevant order number.\n",
        "• Click “Track Package” to view real‑time delivery updates.\n",
        "• If tracking is unavailable, allow 24 hours for carrier sync.\"\"\",\n",
        "\n",
        "    \"\"\"Changing Your Shipping Address:\n",
        "1. Before the order ships, go to “My Orders.”\n",
        "2. Select the pending order and click “Change Address.”\n",
        "3. Enter the new address details and click “Confirm.”\n",
        "4. If the order has already shipped, contact support immediately.\"\"\",\n",
        "\n",
        "    \"\"\"Canceling or Pausing a Subscription:\n",
        "• Go to “Subscriptions” in your account settings.\n",
        "• Locate your active plan and click “Manage Subscription.”\n",
        "• Choose “Cancel” or “Pause,” then confirm your choice.\n",
        "• You will retain access until the end of your billing cycle.\"\"\",\n",
        "\n",
        "    \"\"\"How to Download Your Invoice:\n",
        "1. Access “Billing History” under your profile.\n",
        "2. Find the invoice you need and click “Download PDF.”\n",
        "3. Save or print the file for your records.\"\"\",\n",
        "\n",
        "    \"\"\"Understanding Your Loyalty Points:\n",
        "• Points are earned at 1 point per $1 spent.\n",
        "• View your balance on the dashboard home.\n",
        "• Redeem points at checkout for discounts or rewards.\n",
        "• Points expire one year after they’re earned.\"\"\",\n",
        "\n",
        "    \"\"\"Using Gift Cards on Our Platform:\n",
        "1. At checkout, select “Gift Card” as your payment method.\n",
        "2. Enter the gift card code and click “Apply.”\n",
        "3. Any remaining balance will be charged to your default payment method.\"\"\",\n",
        "\n",
        "    \"\"\"Contacting Technical Support:\n",
        "• For live chat, click the chat icon in the bottom right.\n",
        "• For email support, send detailed issue descriptions to support@example.com.\n",
        "• Include screenshots and steps to reproduce any errors.\"\"\",\n",
        "\n",
        "    \"\"\"Setting Up Two‑Factor Authentication (2FA):\n",
        "1. Go to “Security Settings” in your profile.\n",
        "2. Click “Enable 2FA” and choose SMS or authenticator app.\n",
        "3. Follow the on‑screen steps to scan the QR code or enter your phone number.\n",
        "4. Save your backup codes in a secure place.\"\"\",\n",
        "\n",
        "    \"\"\"Managing Notification Preferences:\n",
        "• Under “Notifications,” toggle email, SMS, or push alerts.\n",
        "• Adjust frequency (instant, daily summary, weekly summary).\n",
        "• Click “Save Preferences” when done.\"\"\",\n",
        "\n",
        "    \"\"\"Upgrading Your Service Plan:\n",
        "1. Navigate to “Plans & Pricing” in your account.\n",
        "2. Select the higher‑tier plan and click “Upgrade.”\n",
        "3. Review prorated charges and confirm.\n",
        "4. Enjoy your new features immediately.\"\"\",\n",
        "\n",
        "    \"\"\"API Usage Limits & Best Practices:\n",
        "• Free tier: 1,000 requests/day; Pro tier: 10,000 requests/day.\n",
        "• Include exponential backoff on 429 responses.\n",
        "• Cache frequent responses to reduce load.\"\"\",\n",
        "\n",
        "    \"\"\"Resolving Mobile App Login Errors:\n",
        "1. Ensure you’re on the latest app version from your store.\n",
        "2. Clear the app cache in your device settings.\n",
        "3. Restart your device and attempt login again.\n",
        "4. If the error persists, uninstall and reinstall the app.\"\"\",\n",
        "\n",
        "    \"\"\"International Shipping Rates:\n",
        "• Rates vary by destination; view the calculator at checkout.\n",
        "• Duties and taxes are estimated and payable on delivery.\n",
        "• Delivery times range from 7–21 business days depending on location.\"\"\",\n",
        "\n",
        "    \"\"\"Warranty Claim Process for Hardware:\n",
        "1. Register your device on our warranty portal.\n",
        "2. Submit a claim form with serial number and purchase proof.\n",
        "3. Ship the defective item using our prepaid label.\n",
        "4. We will repair or replace and ship back within 10 days.\"\"\",\n",
        "\n",
        "    \"\"\"Data Privacy & GDPR Compliance:\n",
        "• You can request a copy or deletion of your data under GDPR.\n",
        "• Visit “Privacy Center” and select “Data Request” or “Account Deletion.”\n",
        "• We respond to requests within 30 days.\"\"\",\n",
        "\n",
        "    \"\"\"Reporting a Software Bug:\n",
        "1. Navigate to “Help & Feedback” in the app or website.\n",
        "2. Click “Report a Bug” and attach logs or screenshots.\n",
        "3. Provide steps to reproduce and your environment details.\n",
        "4. Our engineering team will follow up within 48 hours.\"\"\",\n",
        "]\n",
        "\n",
        "metadatas = [\n",
        "    {\"topic\": \"account_management\"},\n",
        "    {\"topic\": \"billing\"},\n",
        "    {\"topic\": \"billing\"},\n",
        "    {\"topic\": \"tech_support\"},\n",
        "    {\"topic\": \"order_management\"},\n",
        "    {\"topic\": \"order_management\"},\n",
        "    {\"topic\": \"subscription\"},\n",
        "    {\"topic\": \"billing\"},\n",
        "    {\"topic\": \"loyalty_program\"},\n",
        "    {\"topic\": \"billing\"},\n",
        "    {\"topic\": \"tech_support\"},\n",
        "    {\"topic\": \"security\"},\n",
        "    {\"topic\": \"account_management\"},\n",
        "    {\"topic\": \"subscription\"},\n",
        "    {\"topic\": \"developer_api\"},\n",
        "    {\"topic\": \"tech_support\"},\n",
        "    {\"topic\": \"shipping\"},\n",
        "    {\"topic\": \"warranty\"},\n",
        "    {\"topic\": \"privacy\"},\n",
        "    {\"topic\": \"tech_support\"},\n",
        "]\n",
        "\n",
        "# Insert into ChromaDB\n",
        "collection.add(\n",
        "    ids=ids,\n",
        "    documents=documents,\n",
        "    metadatas=metadatas\n",
        ")\n",
        "\n",
        "print(f\"Inserted {len(documents)} detailed KB documents into 'customer_support_kb'\")"
      ],
      "metadata": {
        "colab": {
          "base_uri": "https://localhost:8080/"
        },
        "id": "JCZOjnsrMO8S",
        "outputId": "519ce8f3-d4bd-460c-a287-a258f508c6a1"
      },
      "execution_count": 7,
      "outputs": [
        {
          "output_type": "stream",
          "name": "stdout",
          "text": [
            "Inserted 20 detailed KB documents into 'customer_support_kb'\n"
          ]
        }
      ]
    },
    {
      "cell_type": "markdown",
      "source": [
        "### **Defining Query KB**"
      ],
      "metadata": {
        "id": "UKEocT65NUCv"
      }
    },
    {
      "cell_type": "code",
      "source": [
        "import chromadb\n",
        "from chromadb.config import Settings\n",
        "\n",
        "def query_kb(query: str, top_k: int = 3) -> List[Tuple[str, str, float]]:\n",
        "    chroma_client = chromadb.Client(Settings())\n",
        "    collection = chroma_client.get_collection(name=\"customer_support_kb\")\n",
        "    # Perform text search using query_texts\n",
        "    results = collection.query(\n",
        "        query_texts=[query],\n",
        "        n_results=top_k,\n",
        "        include=[\"documents\", \"metadatas\"]\n",
        "    )\n",
        "    print(f\"Here are the results  {results}\")\n",
        "    # Package and return the results with dummy scores\n",
        "    articles = []\n",
        "    for idx in range(len(results[\"ids\"][0])):\n",
        "        article_id = results[\"ids\"][0][idx]\n",
        "        snippet = results[\"documents\"][0][idx]\n",
        "        score = 1.0 - (idx * 0.05)  # Simple descending confidence\n",
        "        articles.append((article_id, snippet, score))\n",
        "\n",
        "    return articles"
      ],
      "metadata": {
        "id": "RfyRPLf8LW32"
      },
      "execution_count": 8,
      "outputs": []
    },
    {
      "cell_type": "markdown",
      "source": [
        "### **Summarizing with Mistral**"
      ],
      "metadata": {
        "id": "3w3qFUJWH-4D"
      }
    },
    {
      "cell_type": "code",
      "source": [
        "import os, re, json, textwrap\n",
        "from huggingface_hub import InferenceClient\n",
        "\n",
        "# Initialize HF client (reuse your existing model/version)\n",
        "client = InferenceClient(\n",
        "    model=\"mistralai/Mistral-7B-Instruct-v0.2\",\n",
        "    token=HF_TOKEN,\n",
        "    timeout=120,\n",
        ")\n",
        "\n",
        "def summarize_with_mistral(text: str) -> str:\n",
        "    \"\"\"\n",
        "    Returns a one‑sentence summary of `text`.\n",
        "    If `text` is empty or whitespace, returns \"No documents found\".\n",
        "    \"\"\"\n",
        "    if not text or not text.strip():\n",
        "        return \"No documents found\"\n",
        "\n",
        "    system_msg = {\n",
        "        \"role\": \"system\",\n",
        "        \"content\": (\n",
        "            \"You are an AI assistant specialized in summarizing knowledge-base snippets. \"\n",
        "            \"Given the following snippet, produce a single concise sentence summary. \"\n",
        "            \"Respond ONLY with the summary text.\"\n",
        "        )\n",
        "    }\n",
        "    user_msg = {\n",
        "        \"role\": \"user\",\n",
        "        \"content\": textwrap.dedent(f\"\"\"\n",
        "            Snippet:\n",
        "            \\\"\\\"\\\"{text}\\\"\\\"\\\"\n",
        "        \"\"\").strip()\n",
        "    }\n",
        "\n",
        "    resp = client.chat_completion(\n",
        "        messages=[system_msg, user_msg],\n",
        "        temperature=0.2,\n",
        "        max_tokens=100,\n",
        "    )\n",
        "\n",
        "    # extract the actual summary\n",
        "    if isinstance(resp, dict) and \"generated_text\" in resp:\n",
        "        raw = resp[\"generated_text\"]\n",
        "    elif getattr(resp, \"choices\", None):\n",
        "        raw = resp.choices[0].message.content\n",
        "    else:\n",
        "        raise ValueError(f\"Unexpected response from Mistral:\\n{resp!r}\")\n",
        "\n",
        "    return raw.strip()\n"
      ],
      "metadata": {
        "id": "jqryUOmTEzxC"
      },
      "execution_count": 10,
      "outputs": []
    },
    {
      "cell_type": "markdown",
      "source": [
        "### **Retrieving articles from the collection**"
      ],
      "metadata": {
        "id": "99h13esBIEH1"
      }
    },
    {
      "cell_type": "code",
      "source": [
        "import json\n",
        "from typing import List\n",
        "\n",
        "def kb_retriever_node(state: CustomerSupportState) -> CustomerSupportState:\n",
        "    \"\"\"\n",
        "    KB Retrieval node (horizontal, own status key).\n",
        "\n",
        "    - Runs whenever a new `message_text` is present.\n",
        "    - Queries the KB with `query_kb`, summarises snippets, and writes results.\n",
        "    - Writes only to its own keys: `kb_status`, `kb_results`, `kb_count`.\n",
        "    \"\"\"\n",
        "    # Skip if we've already handled this message\n",
        "    if state.get(\"kb_status\") == \"done\":\n",
        "        print(\"⏸️  KB_Retrieval: already processed.\")\n",
        "        return {}\n",
        "\n",
        "    query = state.get(\"message_text\", \"\")\n",
        "    if not query:\n",
        "        print(\"⏸️  KB_Retrieval: no message to process.\")\n",
        "        return {}\n",
        "\n",
        "    print(f\"🔍 KB_Retrieval: searching KB for '{query[:30]}...'\")\n",
        "\n",
        "    raw_hits = query_kb(query, top_k=3)           # [(id, snippet, score), …]\n",
        "    snippets = [snippet for _, snippet, _ in raw_hits]\n",
        "    final_snippet = ' '.join(snippets)\n",
        "    summary = summarize_with_mistral(final_snippet)\n",
        "\n",
        "    updated_state: CustomerSupportState = {\n",
        "        \"kb_results\": summary,\n",
        "        \"kb_count\":  state.get(\"kb_count\", 0) + 1,\n",
        "        \"kb_status\": \"done\",\n",
        "    }\n",
        "\n",
        "    # Optional cross‑agent publish\n",
        "    bus.publish(\"KBRetrieved\", summary)\n",
        "\n",
        "    print(f\"✅ KB_Retrieval complete: returned {len(snippets)} items\")\n",
        "    return updated_state\n"
      ],
      "metadata": {
        "id": "Dk9W968eD0YP"
      },
      "execution_count": 17,
      "outputs": []
    },
    {
      "cell_type": "markdown",
      "source": [
        "## **Sentiment & Urgency Node**"
      ],
      "metadata": {
        "id": "Owl2fLA6Z_fu"
      }
    },
    {
      "cell_type": "markdown",
      "source": [
        "### **Node Code**"
      ],
      "metadata": {
        "id": "IhJeggUHaHPg"
      }
    },
    {
      "cell_type": "code",
      "source": [
        "import json\n",
        "\n",
        "def sentiment_node(state: CustomerSupportState) -> CustomerSupportState:\n",
        "    \"\"\"\n",
        "    Sentiment & Urgency node (runs horizontally).\n",
        "\n",
        "    • Skips work if `sent_status == \"done\"`.\n",
        "    • Reads only `message_text`.\n",
        "    • Writes only its own keys: sentiment, urgency, sent_count, sent_status.\n",
        "    \"\"\"\n",
        "    if state.get(\"sent_status\") == \"done\":\n",
        "        return {}                             # already processed\n",
        "\n",
        "    message = state.get(\"message_text\", \"\")\n",
        "    if not message:\n",
        "        return {}                             # nothing to do\n",
        "\n",
        "    print(f\"🔍 Sentiment/Urgency: analyzing '{message[:30]}...'\")\n",
        "\n",
        "    prompt = (\n",
        "        \"You are a sentiment and urgency detector for customer support. \"\n",
        "        \"Analyze the message and respond ONLY with JSON in the form: \"\n",
        "        '{\"sentiment\":\"frustrated|polite|angry|neutral\", \"urgency\":\"low|medium|high\"}.'\n",
        "    )\n",
        "    result = analyze_with_mistral(message, content=prompt)\n",
        "    sentiment = result.get(\"sentiment\", \"neutral\")\n",
        "    urgency   = result.get(\"urgency\",   \"low\")\n",
        "\n",
        "    # Optional cross‑agent publish (if you want to alert others)\n",
        "    bus.publish(\"SentimentDetected\",\n",
        "                json.dumps({\"sentiment\": sentiment, \"urgency\": urgency}))\n",
        "\n",
        "    print(f\"✅ Sentiment/Urgency complete: {sentiment}, {urgency}\")\n",
        "\n",
        "    return {\n",
        "        \"sentiment\":   sentiment,\n",
        "        \"urgency\":     urgency,\n",
        "        \"sent_count\":  state.get(\"sent_count\", 0) + 1,\n",
        "        \"sent_status\": \"done\",\n",
        "    }\n"
      ],
      "metadata": {
        "id": "eDwZHRBXaLDs"
      },
      "execution_count": 23,
      "outputs": []
    },
    {
      "cell_type": "markdown",
      "source": [
        "## **Composer**"
      ],
      "metadata": {
        "id": "rGZx8mmPcUHj"
      }
    },
    {
      "cell_type": "markdown",
      "source": [
        "### **Composer Node**"
      ],
      "metadata": {
        "id": "Kz5aI8D6cW8M"
      }
    },
    {
      "cell_type": "code",
      "source": [
        "import json\n",
        "from typing import List\n",
        "\n",
        "def composer_node(state: CustomerSupportState) -> CustomerSupportState:\n",
        "    \"\"\"\n",
        "    Builds the final answer once intent, KB, and sentiment nodes are all done.\n",
        "    Returns {} until all prerequisites are finished.\n",
        "    \"\"\"\n",
        "    # If already processed, skip\n",
        "    if state.get(\"comp_status\") == \"done\":\n",
        "        return {}\n",
        "\n",
        "    # Wait until prerequisites complete\n",
        "    if not (\n",
        "        state.get(\"intent_status\") == \"done\"\n",
        "        and state.get(\"kb_status\") == \"done\"\n",
        "        and state.get(\"sent_status\") == \"done\"\n",
        "    ):\n",
        "        return {}            # prerequisites not ready\n",
        "\n",
        "    # Gather inputs\n",
        "    message   = state.get(\"message_text\", \"\")\n",
        "    intent    = state.get(\"primary_intent\", \"general_query\")\n",
        "    kb_hits   = state.get(\"kb_results\", [])\n",
        "    sentiment = state.get(\"sentiment\", \"neutral\")\n",
        "    urgency   = state.get(\"urgency\", \"low\")\n",
        "\n",
        "    # Draft a prompt for the LLM\n",
        "    prompt = (\n",
        "        \"You are a customer‑support answer composer. \"\n",
        "        f\"The user message is:\\n\\\"{message}\\\"\\n\\n\"\n",
        "        f\"Detected intent: {intent}\\n\"\n",
        "        f\"Sentiment: {sentiment}, urgency: {urgency}\\n\"\n",
        "        f\"Relevant knowledge‑base summary {kb_hits}:\\n\"\n",
        "        + \"\\n\\nCompose a concise, empathetic answer that addresses the intent, \"\n",
        "          \"uses KB facts where relevant, and matches the user's sentiment. \"\n",
        "          \"Respond in plain text only.\"\n",
        "    )\n",
        "\n",
        "    response_text = analyze_with_mistral(message, content =prompt)\n",
        "\n",
        "    # Optional: notify downstream service\n",
        "    bus.publish(\"ResponseReady\", json.dumps({\"response\": response_text}))\n",
        "\n",
        "    return {\n",
        "        \"response_text\": response_text,\n",
        "        \"comp_count\":    state.get(\"comp_count\", 0) + 1,\n",
        "        \"comp_status\":   \"done\",\n",
        "    }\n"
      ],
      "metadata": {
        "id": "_S1vkL37cZ-W"
      },
      "execution_count": 39,
      "outputs": []
    },
    {
      "cell_type": "markdown",
      "source": [
        "## **Compiling All Together**"
      ],
      "metadata": {
        "id": "DBDXXFMSZ0rl"
      }
    },
    {
      "cell_type": "markdown",
      "source": [],
      "metadata": {
        "id": "EAaN_NLVZ8m3"
      }
    },
    {
      "cell_type": "code",
      "source": [
        "import os\n",
        "import redis\n",
        "from langgraph.graph import StateGraph, END, START\n",
        "\n",
        "# 1) (Assumes you already defined CustomerSupportState, intent_node, kb_retriever_node)\n",
        "\n",
        "# 2) Create the Redis‑backed message bus (not used in this quick test yet)\n",
        "bus = redis.Redis(host=\"localhost\", port=6379, db=0, decode_responses=True)\n",
        "\n",
        "# 3) Build the LangGraph and register your two nodes\n",
        "graph = StateGraph(CustomerSupportState)\n",
        "graph.add_node(\"intent classifier\", intent_node)\n",
        "graph.add_node(\"Knowledge retrieval\", kb_retriever_node)\n",
        "graph.add_node(\"sentiment_node\", sentiment_node)\n",
        "graph.add_node(\"composer_node\", composer_node)\n",
        "\n",
        "# --- Add edges so both nodes run in parallel ---\n",
        "graph.add_edge(START, \"intent classifier\")         # START  ─┐\n",
        "graph.add_edge(START, \"Knowledge retrieval\")   #        ├─> concurrent execution\n",
        "graph.add_edge(\"intent classifier\", END)           # intent_node  ─┐\n",
        "graph.add_edge(\"Knowledge retrieval\", END)     # kb_retriever  ─┘→ END\n",
        "graph.add_edge(START, \"sentiment_node\")   # concurrent with the others\n",
        "graph.add_edge(\"sentiment_node\", END)\n",
        "\n",
        "\n",
        "# Trigger composer when any upstream node finishes\n",
        "graph.add_edge(\"intent classifier\",     \"composer_node\")\n",
        "graph.add_edge(\"Knowledge retrieval\",\"composer_node\")\n",
        "graph.add_edge(\"sentiment_node\",  \"composer_node\")\n",
        "\n",
        "graph.add_edge(\"composer_node\", END)\n",
        "\n",
        "# ----------------------------------------------\n",
        "\n",
        "# 3b) Compile the graph\n",
        "compiled_graph = graph.compile()\n",
        "\n",
        "# 4) Quick direct test (runs the whole compiled graph, still no Redis needed)\n",
        "if __name__ == \"__main__\":\n",
        "    # simulate one message\n",
        "    state = CustomerSupportState()\n",
        "    state[\"status\"] = \"message_received\"\n",
        "    state[\"message_text\"] = \"Can you help me to raise a refund?\"\n",
        "    state[\"intent_count\"] = 0\n",
        "\n",
        "    # invoke the graph (both nodes execute concurrently)\n",
        "    final_state = compiled_graph.invoke(state)\n",
        "    print(\"Final state after concurrent nodes:\", final_state)"
      ],
      "metadata": {
        "colab": {
          "base_uri": "https://localhost:8080/"
        },
        "id": "MKwaqCMT9ZD5",
        "outputId": "d0baddef-5dbe-4eb6-b0f8-700b1799b4bf"
      },
      "execution_count": 42,
      "outputs": [
        {
          "output_type": "stream",
          "name": "stdout",
          "text": [
            "🔍 KB_Retrieval: searching KB for 'Can you help me to raise a ref...'\n",
            "🔍 IntentClassification: analyzing message 'Can you help me to raise a ref...'\n",
            "🔍 Sentiment/Urgency: analyzing 'Can you help me to raise a ref...'\n",
            "Here are the results  {'ids': [['doc_03', 'doc_06', 'doc_14']], 'embeddings': None, 'documents': [['Refund & Return Policy Overview:\\nOur standard policy allows returns within 30 days of delivery. To initiate:\\n1. Visit “Order History” in your profile.\\n2. Select the order and click “Request Refund.”\\n3. Choose the items to return and provide a reason.\\n4. Print the provided shipping label and send the package.\\n5. Once we receive and inspect the items, funds will be credited within 5–7 business days.', 'Changing Your Shipping Address:\\n1. Before the order ships, go to “My Orders.”\\n2. Select the pending order and click “Change Address.”\\n3. Enter the new address details and click “Confirm.”\\n4. If the order has already shipped, contact support immediately.', 'Upgrading Your Service Plan:\\n1. Navigate to “Plans & Pricing” in your account.\\n2. Select the higher‑tier plan and click “Upgrade.”\\n3. Review prorated charges and confirm.\\n4. Enjoy your new features immediately.']], 'uris': None, 'included': ['documents', 'metadatas'], 'data': None, 'metadatas': [[{'topic': 'billing'}, {'topic': 'order_management'}, {'topic': 'subscription'}]], 'distances': None}\n",
            "✅ Sentiment/Urgency complete: neutral, medium\n",
            "✅ KB_Retrieval complete: returned 3 items\n",
            "✅ IntentClassification complete: return (+1 secondary)\n",
            "Final state after concurrent nodes: {'message_text': 'Can you help me to raise a refund?', 'primary_intent': 'return', 'secondary_intents': ['refund'], 'intent_count': 1, 'intent_status': 'done', 'kb_results': 'Our refund policy allows returns within 30 days, initiate through \"Order History\" with provided shipping label, funds credited in 5-7 business days; address changes before order ships, upgrading plans through \"Plans & Pricing\" with prorated charges.', 'kb_count': 1, 'kb_status': 'done', 'sentiment': 'neutral', 'urgency': 'medium', 'sent_count': 1, 'sent_status': 'done', 'response_text': ' Of course, I\\'d be happy to help you initiate a refund. Our refund policy allows returns within 30 days of purchase. To get started, please log in to your account and visit the \"Order History\" section. There, you should find the order you\\'d like to return. Once you\\'ve located it, please follow the instructions provided to generate a shipping label. Once we receive the returned item, your refund will be processed within 5-7 business days. If you need to make an address change before your order ships, or if you\\'d like to upgrade your plan with prorated charges, you can do so through the \"Plans & Pricing\" section of your account. Let me know if you have any questions or need further assistance.', 'comp_count': 1, 'comp_status': 'done'}\n"
          ]
        }
      ]
    },
    {
      "cell_type": "code",
      "source": [
        "print(f\"User Message: {final_state['message_text']}\")\n",
        "print(\"The response generated is:\")\n",
        "print(final_state['response_text'])"
      ],
      "metadata": {
        "colab": {
          "base_uri": "https://localhost:8080/"
        },
        "id": "hgrLzZTsWOgl",
        "outputId": "3aab255e-1c06-405c-afe2-1a8ada798d03"
      },
      "execution_count": 47,
      "outputs": [
        {
          "output_type": "stream",
          "name": "stdout",
          "text": [
            "User Message: Can you help me to raise a refund?\n",
            "The response generated is:\n",
            " Of course, I'd be happy to help you initiate a refund. Our refund policy allows returns within 30 days of purchase. To get started, please log in to your account and visit the \"Order History\" section. There, you should find the order you'd like to return. Once you've located it, please follow the instructions provided to generate a shipping label. Once we receive the returned item, your refund will be processed within 5-7 business days. If you need to make an address change before your order ships, or if you'd like to upgrade your plan with prorated charges, you can do so through the \"Plans & Pricing\" section of your account. Let me know if you have any questions or need further assistance.\n"
          ]
        }
      ]
    },
    {
      "cell_type": "code",
      "source": [
        "\n",
        "from IPython.display import Image, display\n",
        "\n",
        "try:\n",
        "    display(Image(compiled_graph.get_graph().draw_mermaid_png()))\n",
        "except Exception:\n",
        "    # This requires some extra dependencies and is optional\n",
        "    raise(Exception)\n"
      ],
      "metadata": {
        "colab": {
          "base_uri": "https://localhost:8080/",
          "height": 350
        },
        "id": "mhINvnX7-ArQ",
        "outputId": "8eb482f1-bc51-469b-d2d8-4e50df6c2395"
      },
      "execution_count": 48,
      "outputs": [
        {
          "output_type": "display_data",
          "data": {
            "image/png": "[encoded data removed]",
            "text/plain": [
              "<IPython.core.display.Image object>"
            ]
          },
          "metadata": {}
        }
      ]
    },
    {
      "cell_type": "code",
      "source": [],
      "metadata": {
        "id": "XYZn9nXFF7u-"
      },
      "execution_count": 13,
      "outputs": []
    }
  ]
}