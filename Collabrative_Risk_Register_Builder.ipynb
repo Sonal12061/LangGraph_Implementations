{
  "nbformat": 4,
  "nbformat_minor": 0,
  "metadata": {
    "colab": {
      "provenance": [],
      "collapsed_sections": [
        "QHcmPWpZ-moW",
        "txs47CMu-Rxs",
        "PEAV4s_Z_YHc",
        "lj5Hoa4pBNF8",
        "t3Lbxi93BUbZ",
        "gNrO0zZbBi8R",
        "r901gFkR0NSP",
        "mh1hUwKmB4J1"
      ],
      "authorship_tag": "ABX9TyMG642DGo/e4GJJfwWnBSd7",
      "include_colab_link": true
    },
    "kernelspec": {
      "name": "python3",
      "display_name": "Python 3"
    },
    "language_info": {
      "name": "python"
    }
  },
  "cells": [
    {
      "cell_type": "markdown",
      "metadata": {
        "id": "view-in-github",
        "colab_type": "text"
      },
      "source": [
        "<a href=\"https://colab.research.google.com/github/Sonal12061/LangGraph_Implementations/blob/main/Collabrative_Risk_Register_Builder.ipynb\" target=\"_parent\"><img src=\"https://colab.research.google.com/assets/colab-badge.svg\" alt=\"Open In Colab\"/></a>"
      ]
    },
    {
      "cell_type": "markdown",
      "source": [
        "# Pre-requisites"
      ],
      "metadata": {
        "id": "QHcmPWpZ-moW"
      }
    },
    {
      "cell_type": "markdown",
      "source": [
        "## Installing the packages"
      ],
      "metadata": {
        "id": "Fcwg8OtI-vw0"
      }
    },
    {
      "cell_type": "code",
      "source": [
        "!pip -q install --upgrade redis chromadb langchain langgraph \\\n",
        "    huggingface_hub pydantic langchain-huggingface langchain_community"
      ],
      "metadata": {
        "id": "2LmUOaGt-jhs"
      },
      "execution_count": 1,
      "outputs": []
    },
    {
      "cell_type": "markdown",
      "source": [
        "## Running Redis locally"
      ],
      "metadata": {
        "id": "txs47CMu-Rxs"
      }
    },
    {
      "cell_type": "code",
      "source": [
        "!apt-get update && \\\n",
        "apt-get install -y redis-server && \\\n",
        "redis-server --daemonize yes"
      ],
      "metadata": {
        "colab": {
          "base_uri": "https://localhost:8080/"
        },
        "id": "Oic-CFkS-Qgx",
        "outputId": "135af5f0-f180-43ec-d661-f827cfdccfd8"
      },
      "execution_count": 2,
      "outputs": [
        {
          "output_type": "stream",
          "name": "stdout",
          "text": [
            "Hit:1 https://developer.download.nvidia.com/compute/cuda/repos/ubuntu2204/x86_64  InRelease\n",
            "Hit:2 https://cloud.r-project.org/bin/linux/ubuntu jammy-cran40/ InRelease\n",
            "Hit:3 http://security.ubuntu.com/ubuntu jammy-security InRelease\n",
            "Hit:4 http://archive.ubuntu.com/ubuntu jammy InRelease\n",
            "Hit:5 http://archive.ubuntu.com/ubuntu jammy-updates InRelease\n",
            "Hit:6 https://r2u.stat.illinois.edu/ubuntu jammy InRelease\n",
            "Hit:7 https://ppa.launchpadcontent.net/deadsnakes/ppa/ubuntu jammy InRelease\n",
            "Hit:8 http://archive.ubuntu.com/ubuntu jammy-backports InRelease\n",
            "Hit:9 https://ppa.launchpadcontent.net/graphics-drivers/ppa/ubuntu jammy InRelease\n",
            "Hit:10 https://ppa.launchpadcontent.net/ubuntugis/ppa/ubuntu jammy InRelease\n",
            "Reading package lists... Done\n",
            "W: Skipping acquire of configured file 'main/source/Sources' as repository 'https://r2u.stat.illinois.edu/ubuntu jammy InRelease' does not seem to provide it (sources.list entry misspelt?)\n",
            "Reading package lists... Done\n",
            "Building dependency tree... Done\n",
            "Reading state information... Done\n",
            "redis-server is already the newest version (5:6.0.16-1ubuntu1).\n",
            "0 upgraded, 0 newly installed, 0 to remove and 40 not upgraded.\n"
          ]
        }
      ]
    },
    {
      "cell_type": "code",
      "source": [
        "# import subprocess, time, os, sys, textwrap\n",
        "\n",
        "# # Daemonise Redis so the notebook keeps running.\n",
        "# subprocess.Popen([\"redis-server\", \"--daemonize\", \"yes\"])\n",
        "# time.sleep(1)  # give it a heartbeat to start"
      ],
      "metadata": {
        "id": "IVhVTwXn-dX6"
      },
      "execution_count": 3,
      "outputs": []
    },
    {
      "cell_type": "markdown",
      "source": [
        "## Quick health checks for redis and chromadb"
      ],
      "metadata": {
        "id": "HnfNsN69_LA9"
      }
    },
    {
      "cell_type": "code",
      "source": [
        "import redis, chromadb\n",
        "\n",
        "try:\n",
        "    r = redis.Redis(host=\"localhost\", port=6379, db=0)\n",
        "    r.ping()\n",
        "    print(\"✅ Redis: up & reachable\")\n",
        "except redis.exceptions.ConnectionError as e:\n",
        "    sys.exit(\"❌ Redis failed to start ‑ check the logs\")\n",
        "\n",
        "print(f\"✅ ChromaDB imported (version {chromadb.__version__})\")"
      ],
      "metadata": {
        "colab": {
          "base_uri": "https://localhost:8080/"
        },
        "id": "KzhCNvrL_FTF",
        "outputId": "9201af7f-6494-47f4-cded-a0d4c4862ef4"
      },
      "execution_count": 4,
      "outputs": [
        {
          "output_type": "stream",
          "name": "stdout",
          "text": [
            "✅ Redis: up & reachable\n",
            "✅ ChromaDB imported (version 1.0.15)\n"
          ]
        }
      ]
    },
    {
      "cell_type": "code",
      "source": [
        "from google.colab import userdata\n",
        "from huggingface_hub import login\n",
        "\n",
        "HF_TOKEN = userdata.get('HF_TOKEN')"
      ],
      "metadata": {
        "id": "GJ2D5m78P7hH"
      },
      "execution_count": 5,
      "outputs": []
    },
    {
      "cell_type": "markdown",
      "source": [
        "## Dataset Creation"
      ],
      "metadata": {
        "id": "lYy816mA68_3"
      }
    },
    {
      "cell_type": "code",
      "source": [
        "# import pathlib, textwrap, random, datetime, json\n",
        "\n",
        "# WORK_DIR = pathlib.Path(\"/content/workpapers\")\n",
        "# WORK_DIR.mkdir(parents=True, exist_ok=True)\n",
        "\n",
        "# today = datetime.date.today().isoformat()\n",
        "\n",
        "# samples = {\n",
        "#     \"CTRL001_FINANCE.txt\": f\"\"\"\n",
        "#         [Control Narrative]\n",
        "#         All capital expenditure above $50 k must be approved by both the Plant\n",
        "#         Manager and the Finance Controller before booking.\n",
        "\n",
        "#         [Testing Evidence]\n",
        "#         • PO #5312 for a 15 kV circuit breaker ($62 880) was approved only by\n",
        "#           the Plant Manager.\n",
        "\n",
        "#         [Implication]\n",
        "#         Potential mis‑classification of CapEx and overstatement of fixed assets.\n",
        "#         (Sample extracted {today})\n",
        "#     \"\"\",\n",
        "\n",
        "#     \"CTRL002_COMPLIANCE.txt\": f\"\"\"\n",
        "#         [Control Narrative]\n",
        "#         Employees handling SF6 gas must hold a current EPA 608 certificate.\n",
        "\n",
        "#         [Testing Evidence]\n",
        "#         Ten out of 42 maintenance staff have certificates expired > 90 days.\n",
        "\n",
        "#         [Implication]\n",
        "#         Non‑compliance with US EPA Subpart LL; risk of regulatory fines.\n",
        "#     \"\"\",\n",
        "\n",
        "#     \"CTRL003_MIXED.txt\": f\"\"\"\n",
        "#         [Control Narrative]\n",
        "#         Energy trading deals above 75 MWh require same‑day confirmation by the\n",
        "#         Risk Management desk.\n",
        "\n",
        "#         [Testing Evidence]\n",
        "#         Two trades (Deal IDs TX412 & TX415) > $1 M each remained unconfirmed for\n",
        "#         three days due to holiday staffing gaps.\n",
        "\n",
        "#         [Implication]\n",
        "#         • Financial: valuation uncertainty may misstate P&L by > $300 k.\n",
        "#         • Compliance: breach of ISO 37001 “timely confirmation” clause.\n",
        "#     \"\"\",\n",
        "\n",
        "#     \"CTRL004_FINANCE.txt\": f\"\"\"\n",
        "#         [Control Narrative]\n",
        "#         Monthly depreciation runs use a system‑generated economic life matrix.\n",
        "\n",
        "#         [Testing Evidence]\n",
        "#         The matrix still contains legacy assets with 35‑year lives which should\n",
        "#         have been revised to 25 years under IFRS 16.\n",
        "\n",
        "#         [Implication]\n",
        "#         Under‑depreciation may overstate 2025 EBITDA by up to $450 k.\n",
        "#     \"\"\",\n",
        "\n",
        "#     \"CTRL005_COMPLIANCE.txt\": f\"\"\"\n",
        "#         [Control Narrative]\n",
        "#         All SCADA access logs must be retained for seven years.\n",
        "\n",
        "#         [Testing Evidence]\n",
        "#         Log retention policy set to 365 days; oldest log available dated\n",
        "#         {today} minus 361 days.\n",
        "\n",
        "#         [Implication]\n",
        "#         Violates NERC CIP‑007‑6 R4; possible mandatory mitigation and penalties.\n",
        "#     \"\"\",\n",
        "# }\n",
        "\n",
        "# for fname, body in samples.items():\n",
        "#     (WORK_DIR / fname).write_text(textwrap.dedent(body).strip())\n",
        "#     print(f\"📝  Created {fname}\")\n",
        "\n",
        "# print(f\"\\n✅ 5 synthetic workpapers saved to {WORK_DIR}\")\n"
      ],
      "metadata": {
        "id": "3WWQ3k0gOq8J"
      },
      "execution_count": 6,
      "outputs": []
    },
    {
      "cell_type": "markdown",
      "source": [
        "## Hugging Face token sanity‑check  "
      ],
      "metadata": {
        "id": "PEAV4s_Z_YHc"
      }
    },
    {
      "cell_type": "code",
      "source": [
        "from google.colab import userdata\n",
        "from huggingface_hub import login\n",
        "\n",
        "HF_TOKEN = userdata.get('HF_TOKEN')\n",
        "try:\n",
        "  login(token=HF_TOKEN)\n",
        "  print(\"✨ Environment ready. Proceed to agent code.\")\n",
        "except:\n",
        "  print(\"❌ HF_TOKEN is not set.\")\n"
      ],
      "metadata": {
        "colab": {
          "base_uri": "https://localhost:8080/"
        },
        "id": "H_Olq84F_Rt-",
        "outputId": "cef4d4d6-5378-444e-f8ad-39b27004c155"
      },
      "execution_count": 7,
      "outputs": [
        {
          "output_type": "stream",
          "name": "stdout",
          "text": [
            "✨ Environment ready. Proceed to agent code.\n"
          ]
        }
      ]
    },
    {
      "cell_type": "markdown",
      "source": [
        "# Creating the Extractor Agent"
      ],
      "metadata": {
        "id": "lj5Hoa4pBNF8"
      }
    },
    {
      "cell_type": "markdown",
      "source": [
        "## Importing Necessary Libraries"
      ],
      "metadata": {
        "id": "t3Lbxi93BUbZ"
      }
    },
    {
      "cell_type": "code",
      "source": [
        "import os, pathlib, re, json, itertools, time, textwrap, redis, uuid\n",
        "from typing import TypedDict, List\n",
        "\n",
        "from langchain.text_splitter import RecursiveCharacterTextSplitter\n",
        "from huggingface_hub import InferenceClient\n",
        "\n",
        "import chromadb\n",
        "from chromadb.utils import embedding_functions\n",
        "\n",
        "from langgraph.graph import StateGraph, END\n",
        "from langgraph.checkpoint.memory import MemorySaver"
      ],
      "metadata": {
        "id": "2nOej5k0BZ2B"
      },
      "execution_count": 8,
      "outputs": []
    },
    {
      "cell_type": "markdown",
      "source": [
        "## Config Setup"
      ],
      "metadata": {
        "id": "gNrO0zZbBi8R"
      }
    },
    {
      "cell_type": "code",
      "source": [
        "WORK_DIR          = pathlib.Path(\"/content/workpapers\")   # <- drop files here\n",
        "REDIS_STREAM      = \"para_ready\"\n",
        "CHROMA_DIR        = \"/content/chroma_store\"\n",
        "CHROMA_COLLECTION = \"audit_paragraphs\"\n",
        "\n",
        "BATCH_SIZE        = 10        # paragraphs per embedding request\n",
        "EMBED_MODEL       = \"sentence-transformers/all-MiniLM-L6-v2\"\n",
        "LLM_EMBED_KWARGS  = {\"device\": \"cpu\"}   # runs quickly on Colab CPU\n",
        "COLLECTION_NAME   = \"audit_paragraphs\"\n",
        "\n",
        "r = redis.Redis(host=\"localhost\", port=6379, db=0, decode_responses=True)\n",
        "hf = InferenceClient(model=EMBED_MODEL, token=HF_TOKEN)"
      ],
      "metadata": {
        "id": "zvXAehtdBm23"
      },
      "execution_count": 9,
      "outputs": []
    },
    {
      "cell_type": "markdown",
      "source": [
        "## ChromaDB client + Collection"
      ],
      "metadata": {
        "id": "6BvYhseQBoP3"
      }
    },
    {
      "cell_type": "code",
      "source": [
        "client = chromadb.PersistentClient(path=CHROMA_DIR)\n",
        "# Iterate through all the collections to check for the collection name\n",
        "if COLLECTION_NAME not in [c.name for c in client.list_collections()]:\n",
        "    # If collection doesnot exists create the collection with the same name\n",
        "    coll = client.create_collection(COLLECTION_NAME)\n",
        "else:\n",
        "    # Fetch the object of the collection\n",
        "    coll = client.get_collection(COLLECTION_NAME)"
      ],
      "metadata": {
        "id": "q7ErvGGSBptv"
      },
      "execution_count": 10,
      "outputs": []
    },
    {
      "cell_type": "markdown",
      "source": [
        "## Helper Function and Recursive Splitter"
      ],
      "metadata": {
        "id": "r901gFkR0NSP"
      }
    },
    {
      "cell_type": "code",
      "source": [
        "# This code functions reads .txt/.md files, splits them into overlapping chunks, batches those chunks, and tags each with a control ID so downstream steps know which source (or audit control) they came from.\n",
        "\n",
        "# The \"paper cutter\"\n",
        "splitter = RecursiveCharacterTextSplitter(\n",
        "    chunk_size=1024,\n",
        "    chunk_overlap=50,\n",
        "    separators=[\"\\n\\n\", \"\\n\", \".\", \" \", \"\"],\n",
        ")\n",
        "# Repalce words like Control‑42_report.docx to CTRL42\n",
        "def extract_control_id(fname: str) -> str:\n",
        "    m = re.search(r\"(CTRL|CONTROL)[-_ ]?(\\d+)\", fname.upper())\n",
        "    return f\"CTRL{m.group(2)}\" if m else pathlib.Path(fname).stem.upper()\n",
        "\n",
        "# Helps to read ONLY .txt and .md files\n",
        "def load_text(fp: pathlib.Path) -> str:\n",
        "    if fp.suffix.lower() in {\".txt\", \".md\"}:\n",
        "        return fp.read_text(errors=\"ignore\")\n",
        "    raise ValueError(f\"Unsupported file type: {fp.name}\")\n",
        "\n",
        "# Creating batches of lists/strings\n",
        "def batched(iterable, n):\n",
        "    it = iter(iterable)\n",
        "    while (chunk := list(itertools.islice(it, n))):\n",
        "        yield chunk"
      ],
      "metadata": {
        "id": "Jng2vASP0N3S"
      },
      "execution_count": 11,
      "outputs": []
    },
    {
      "cell_type": "markdown",
      "source": [
        "## Audit State"
      ],
      "metadata": {
        "id": "FG7s6WYjByLJ"
      }
    },
    {
      "cell_type": "code",
      "source": [
        "class AuditState(TypedDict):\n",
        "    folder: str\n",
        "    processed: int\n",
        "    fin_last_id: str\n",
        "    fin_scored: int\n",
        "    comp_last_id: str\n",
        "    comp_scored: int\n",
        "    resolved: List[str]"
      ],
      "metadata": {
        "id": "1os02cY9Bpwt"
      },
      "execution_count": 12,
      "outputs": []
    },
    {
      "cell_type": "markdown",
      "source": [
        "## Extractor Node"
      ],
      "metadata": {
        "id": "mh1hUwKmB4J1"
      }
    },
    {
      "cell_type": "code",
      "source": [
        "def extractor_node(state: AuditState) -> AuditState:\n",
        "    folder = pathlib.Path(state[\"folder\"])\n",
        "    processed, all_paras, all_ids, all_meta = 0, [], [], []\n",
        "    # Check if all the files in the folder is .txt or .md\n",
        "    for fp in folder.glob(\"**/*.*\"):\n",
        "        try:\n",
        "            raw = load_text(fp)\n",
        "        except Exception as e:\n",
        "            print(f\"⏭️  Skipped {fp.name}: {e}\")\n",
        "            continue\n",
        "\n",
        "        ctrl_id = extract_control_id(fp.name)\n",
        "        paragraphs = splitter.split_text(raw)\n",
        "        processed += len(paragraphs)\n",
        "\n",
        "        for idx, para in enumerate(paragraphs):\n",
        "            # Every paragraph gets announced by the Redis para_ready.\n",
        "            entry_id = r.xadd(REDIS_STREAM, {\n",
        "                \"control_id\": ctrl_id,\n",
        "                \"doc_name\": fp.name,\n",
        "                \"para_idx\": idx,\n",
        "                \"text\": para.strip(),\n",
        "            })\n",
        "            # for batch embedding\n",
        "            uid = f\"{ctrl_id}_{idx}\"\n",
        "            all_paras.append(para.strip())\n",
        "            all_ids.append(uid)\n",
        "            all_meta.append({\"control_id\": ctrl_id, \"doc_name\": fp.name, \"idx\": idx})\n",
        "\n",
        "        print(f\"📄 {fp.name}: {len(paragraphs)} paragraphs emitted.\")\n",
        "\n",
        "    # ── 3a. Batch‑call HF embeddings & upsert to Chroma ──────────\n",
        "    for texts_chunk, ids_chunk, meta_chunk in zip(\n",
        "        batched(all_paras, BATCH_SIZE),\n",
        "        batched(all_ids,  BATCH_SIZE),\n",
        "        batched(all_meta, BATCH_SIZE),\n",
        "        ):\n",
        "\n",
        "        vectors = hf.feature_extraction(texts_chunk, model=EMBED_MODEL)\n",
        "        # feature_extraction returns list[list[float]]\n",
        "        coll.add(\n",
        "            ids=ids_chunk,\n",
        "            documents=texts_chunk,\n",
        "            metadatas=meta_chunk,\n",
        "            embeddings=vectors,\n",
        "        )\n",
        "\n",
        "    print(f\"\\n✅ Extracted {processed} paragraphs → {len(all_paras)} embeddings stored.\")\n",
        "    return {\"folder\": str(folder), \"processed\": processed}"
      ],
      "metadata": {
        "id": "3_wzFHjG_eX7"
      },
      "execution_count": 13,
      "outputs": []
    },
    {
      "cell_type": "markdown",
      "source": [
        "# Creating the Fin-Risk Agent"
      ],
      "metadata": {
        "id": "Y0SzIh0NEjiP"
      }
    },
    {
      "cell_type": "markdown",
      "source": [
        "## Importing Libraries"
      ],
      "metadata": {
        "id": "AsKIfXNHEo0_"
      }
    },
    {
      "cell_type": "code",
      "source": [
        "import redis, re, json, random\n",
        "from typing import TypedDict\n",
        "from langgraph.graph import StateGraph, END\n",
        "from langgraph.checkpoint.memory import MemorySaver"
      ],
      "metadata": {
        "id": "nxqza48ACI7g"
      },
      "execution_count": 14,
      "outputs": []
    },
    {
      "cell_type": "markdown",
      "source": [
        "## Runtime config"
      ],
      "metadata": {
        "id": "fRRTtXUiE2Lu"
      }
    },
    {
      "cell_type": "code",
      "source": [
        "r = redis.Redis(host=\"localhost\", port=6379, db=0, decode_responses=True)\n",
        "REDIS_STREAM = \"para_ready\"\n",
        "RISK_HASH_TPL = \"risk:{}\""
      ],
      "metadata": {
        "id": "xeVMgiK6CJR-"
      },
      "execution_count": 15,
      "outputs": []
    },
    {
      "cell_type": "markdown",
      "source": [
        "## Helper Function"
      ],
      "metadata": {
        "id": "lwf_D8eBE61l"
      }
    },
    {
      "cell_type": "code",
      "source": [
        "FIN_KEYWORDS = [\n",
        "    \"invoice\", \"capital\", \"expense\", \"depreciation\", \"revenue\",\n",
        "    \"EBIT\", \"capex\", \"$\", \"cash\", \"trade\", \"P&L\", \"valuation\"\n",
        "]\n",
        "def is_finance_para(txt: str) -> bool:\n",
        "    txt_low = txt.lower()\n",
        "    return any(kw in txt_low for kw in FIN_KEYWORDS)"
      ],
      "metadata": {
        "id": "7iSD284iE6AB"
      },
      "execution_count": 16,
      "outputs": []
    },
    {
      "cell_type": "code",
      "source": [
        "import os, re, json, random, textwrap\n",
        "from huggingface_hub import InferenceClient\n",
        "\n",
        "\n",
        "DRY_RUN = False                           # flip True to stub out API calls\n",
        "\n",
        "if not DRY_RUN:\n",
        "    client = InferenceClient(\n",
        "        model=\"mistralai/Mistral-7B-Instruct-v0.2\",\n",
        "        token=HF_TOKEN,\n",
        "        timeout=120,            # seconds\n",
        "    )\n",
        "else:\n",
        "    client = None              # placeholder when DRY_RUN\n",
        "\n",
        "def analyze_with_mistral(paragraph: str, *, role: str = \"financial\") -> dict:\n",
        "    \"\"\"\n",
        "    Returns\n",
        "      { \"level\": \"Low|Medium|High\",\n",
        "        \"rationale\": \"<≤50‑word explanation>\" }\n",
        "    `role` = \"financial\" | \"compliance\"\n",
        "    \"\"\"\n",
        "    if DRY_RUN:\n",
        "        return {\n",
        "            \"level\": random.choice([\"Low\", \"Medium\", \"High\"]),\n",
        "            \"rationale\": f\"Stub rationale for {role} (DRY_RUN).\",\n",
        "        }\n",
        "\n",
        "    rubric = (\n",
        "        \"material financial mis‑statement\"\n",
        "        if role == \"financial\"\n",
        "        else \"regulatory or compliance breach\"\n",
        "    )\n",
        "\n",
        "    system_msg = {\n",
        "        \"role\": \"system\",\n",
        "        \"content\": (\n",
        "            f\"You are a senior {role} auditor. \"\n",
        "            \"When given a paragraph, assess the risk of \"\n",
        "            f\"{rubric}. Respond ONLY with JSON:\"\n",
        "            ' {\"level\": \"...\", \"rationale\": \"...\"}'\n",
        "        ),\n",
        "    }\n",
        "    user_msg = {\n",
        "        \"role\": \"user\",\n",
        "        \"content\": textwrap.dedent(f\"\"\"\n",
        "            Paragraph:\n",
        "            \\\"\\\"\\\"{paragraph}\\\"\\\"\\\"\n",
        "        \"\"\").strip(),\n",
        "    }\n",
        "\n",
        "    resp = client.chat_completion(\n",
        "        messages=[system_msg, user_msg],\n",
        "        temperature=0.2,\n",
        "        max_tokens=150,\n",
        "    )\n",
        "    raw = resp.choices[0].message.content\n",
        "\n",
        "    match = re.search(r\"\\{.*\\}\", raw, re.S)\n",
        "    if not match:\n",
        "        raise ValueError(\"❌ JSON not found in model output:\\n\" + raw[:500])\n",
        "\n",
        "    return json.loads(match.group())\n"
      ],
      "metadata": {
        "id": "zFxMUbul_BF8"
      },
      "execution_count": 17,
      "outputs": []
    },
    {
      "cell_type": "markdown",
      "source": [
        "## Fin Risk Node Definition"
      ],
      "metadata": {
        "id": "ydYZ-6YyGiLs"
      }
    },
    {
      "cell_type": "code",
      "source": [
        "from __main__ import analyze_with_mistral      # helper defined earlier\n",
        "\n",
        "def fin_risk_node(state: AuditState) -> AuditState:\n",
        "    last_id   = state.get(\"fin_last_id\", \"0-0\")   # keep namespace “fin_…”\n",
        "    scored    = state.get(\"fin_scored\", 0)\n",
        "    new_id    = last_id\n",
        "    control_ids_processed = {}\n",
        "    # read up to 100 events > last_id\n",
        "    entries = r.xrange(REDIS_STREAM, min=last_id, max=\"+\", count=100)\n",
        "    print(f\"These are the entries in the node: {entries}\")\n",
        "    if entries and entries[0][0] == last_id:\n",
        "        entries = entries[1:]\n",
        "\n",
        "    for ev_id, ev in entries:\n",
        "        txt = ev[\"text\"]\n",
        "        if not is_finance_para(txt):\n",
        "            new_id = ev_id   # checkpoint even if skipped\n",
        "            continue\n",
        "        if ev[\"control_id\"] not in control_ids_processed:\n",
        "          control_ids_processed[ev[\"control_id\"]] = True\n",
        "          verdict = analyze_with_mistral(txt, role=\"financial\")\n",
        "          # optimistic write into shared hash\n",
        "          hkey = RISK_HASH_TPL.format(ev[\"control_id\"])\n",
        "          print(f\"Here is the hkey {hkey}\")\n",
        "          while True:\n",
        "              try:\n",
        "                  with r.pipeline() as pipe:\n",
        "                      pipe.watch(hkey)\n",
        "                      lock = int(pipe.hget(hkey, \"lock_version\") or 0)\n",
        "                      pipe.multi()\n",
        "                      pipe.hset(hkey, mapping={\n",
        "                          \"finance.level\": verdict[\"level\"],\n",
        "                          \"finance.rat\":   verdict[\"rationale\"],\n",
        "                          \"lock_version\":  lock + 1,\n",
        "                      })\n",
        "                      pipe.execute()\n",
        "                      break\n",
        "              except redis.WatchError:\n",
        "                  continue   # retry on collision\n",
        "\n",
        "          scored += 1\n",
        "          new_id = ev_id\n",
        "        else:\n",
        "          continue\n",
        "    # --- inside fin_risk_node ---------------------------------------\n",
        "    delta = scored - state.get(\"fin_scored\", 0)   # <- use fin_scored\n",
        "    print(\"✅ Fin‑Risk analysed\", delta, \"new paragraphs.\" if delta else\n",
        "          \"⏸️  Fin‑Risk: no finance paragraphs to score.\")\n",
        "\n",
        "    state.update({\"fin_last_id\": new_id, \"fin_scored\": scored})\n",
        "    return state"
      ],
      "metadata": {
        "id": "W1cVVN46GdcR"
      },
      "execution_count": 18,
      "outputs": []
    },
    {
      "cell_type": "markdown",
      "source": [
        "# Creating the Comp_Risk Agent"
      ],
      "metadata": {
        "id": "bWPEsJe3_2vG"
      }
    },
    {
      "cell_type": "markdown",
      "source": [
        "## Helper Functions"
      ],
      "metadata": {
        "id": "-u2RxiWcCW32"
      }
    },
    {
      "cell_type": "code",
      "source": [
        "# ── 1. Shared constants & Redis ---------------------------------\n",
        "r = redis.Redis(host=\"localhost\", port=6379, db=0, decode_responses=True)\n",
        "STREAM        = \"para_ready\"\n",
        "RISK_HASH_TPL = \"risk:{}\"\n",
        "\n",
        "# ── 2. Compliance keyword filter --------------------------------\n",
        "COMP_KEYWORDS = [\n",
        "    \"gdpr\", \"regulation\", \"compliance\", \"certificate\",\n",
        "    \"epa\", \"nerc\", \"iso\", \"policy\", \"fine\", \"penalty\",\n",
        "]\n",
        "\n",
        "def is_compliance_para(txt: str) -> bool:\n",
        "    lower = txt.lower()\n",
        "    return any(kw in lower for kw in COMP_KEYWORDS)"
      ],
      "metadata": {
        "id": "mbeb_4rPCZYo"
      },
      "execution_count": 19,
      "outputs": []
    },
    {
      "cell_type": "markdown",
      "source": [
        "## Comp Risk node"
      ],
      "metadata": {
        "id": "3LPfNAjpDFHN"
      }
    },
    {
      "cell_type": "code",
      "source": [
        "def comp_risk_node(state: AuditState) -> AuditState:\n",
        "    last_id   = state.get(\"comp_last_id\", \"0-0\")\n",
        "    scored    = state.get(\"comp_scored\", 0)\n",
        "    new_id    = last_id\n",
        "    control_ids_processed = {}\n",
        "\n",
        "    entries = r.xrange(STREAM, min=last_id, max=\"+\", count=100)\n",
        "    print(f\"Here are the entries {entries}\")\n",
        "    if entries and entries[0][0] == last_id:\n",
        "        entries = entries[1:]\n",
        "\n",
        "    for ev_id, ev in entries:\n",
        "        txt = ev[\"text\"]\n",
        "        if not is_compliance_para(txt):\n",
        "            new_id = ev_id\n",
        "            continue\n",
        "        if ev[\"control_id\"] not in control_ids_processed:\n",
        "          control_ids_processed[ev[\"control_id\"]] = True\n",
        "          verdict = analyze_with_mistral(txt, role=\"compliance\")\n",
        "\n",
        "          hkey = RISK_HASH_TPL.format(ev[\"control_id\"])\n",
        "          while True:\n",
        "              try:\n",
        "                  with r.pipeline() as pipe:\n",
        "                      pipe.watch(hkey)\n",
        "                      lock = int(pipe.hget(hkey, \"lock_version\") or 0)\n",
        "                      pipe.multi()\n",
        "                      pipe.hset(hkey, mapping={\n",
        "                          \"compliance.level\": verdict[\"level\"],\n",
        "                          \"compliance.rat\":   verdict[\"rationale\"],\n",
        "                          \"lock_version\":     lock + 1,\n",
        "                      })\n",
        "                      pipe.execute()\n",
        "                      break\n",
        "              except redis.WatchError:\n",
        "                  continue  # retry on collision\n",
        "\n",
        "          scored += 1\n",
        "          new_id = ev_id\n",
        "        else:\n",
        "          continue\n",
        "\n",
        "    delta = scored - state.get(\"comp_scored\", 0)\n",
        "    print(\"✅ Comp‑Risk analysed\", delta, \"new paragraphs.\" if delta else\n",
        "          \"⏸️  Comp‑Risk: no compliance paragraphs to score.\")\n",
        "\n",
        "    state.update({\"comp_last_id\": new_id, \"comp_scored\": scored})\n",
        "    return state"
      ],
      "metadata": {
        "id": "uu2QyFgs8YkY"
      },
      "execution_count": 20,
      "outputs": []
    },
    {
      "cell_type": "markdown",
      "source": [
        "# Creating the Resolver Agent"
      ],
      "metadata": {
        "id": "qcDMvWE2Hiue"
      }
    },
    {
      "cell_type": "markdown",
      "source": [
        "## Helper Function"
      ],
      "metadata": {
        "id": "cDTUa6H7Id_9"
      }
    },
    {
      "cell_type": "code",
      "source": [
        "\n",
        "\n",
        "def higher_severity(a: str, b: str) -> str:\n",
        "  SEVERITY_RANK = {\"Low\": 1, \"Medium\": 2, \"High\": 3}\n",
        "  if a == \"None\" and b == \"None\":\n",
        "        return \"None\"\n",
        "\n",
        "    # 2. one missing\n",
        "  if a == \"None\":\n",
        "      return b\n",
        "  if b == \"None\":\n",
        "      return a\n",
        "\n",
        "    # 3. both present – pick the higher‑ranked one\n",
        "  if (SEVERITY_RANK[a] >= SEVERITY_RANK[b]):\n",
        "    return a\n",
        "  else:\n",
        "    return b"
      ],
      "metadata": {
        "id": "GnbzuHSlIYes"
      },
      "execution_count": 29,
      "outputs": []
    },
    {
      "cell_type": "markdown",
      "source": [
        "## Resolver Node function"
      ],
      "metadata": {
        "id": "OvMD02ugIkVl"
      }
    },
    {
      "cell_type": "code",
      "source": [
        "def resolver_node(state: AuditState) -> AuditState:\n",
        "    resolved_set = set(state.get(\"resolved\", []))\n",
        "    new_resolved = []\n",
        "\n",
        "    for hkey in r.scan_iter(\"risk:*\"):\n",
        "        ctrl_id = hkey.split(\"risk:\")[1]\n",
        "        if ctrl_id in resolved_set:\n",
        "            continue\n",
        "\n",
        "        h = r.hgetall(hkey)\n",
        "        if not (\"finance.level\" in h and \"compliance.level\" in h):\n",
        "            continue  # still waiting for both views\n",
        "\n",
        "        fin_lvl, comp_lvl = h[\"finance.level\"], h[\"compliance.level\"]\n",
        "        fin_rat, comp_rat = h[\"finance.rat\"],  h[\"compliance.rat\"]\n",
        "        print(f\"This is the {fin_lvl} and this is the {comp_lvl} \")\n",
        "        # 4a. Fast rules\n",
        "        if fin_lvl != comp_lvl:\n",
        "            final_lvl = higher_severity(fin_lvl, comp_lvl)\n",
        "            merged_rat = (\n",
        "                f\"Finance rated {fin_lvl}; Compliance rated {comp_lvl}. \"\n",
        "                f\"Taking higher severity '{final_lvl}'. \"\n",
        "                f\"Key points: {fin_rat} | {comp_rat}\"\n",
        "            )\n",
        "        else:\n",
        "            # Same severity → check rationale similarity\n",
        "            diff_len = abs(len(fin_rat) - len(comp_rat))\n",
        "            if diff_len > 30:   # substantial difference → ask LLM\n",
        "                resp = analyze_with_mistral(\n",
        "                    f\"Finance rationale: {fin_rat}\\n\\n\"\n",
        "                    f\"Compliance rationale: {comp_rat}\\n\\n\"\n",
        "                    \"Merge these into one concise paragraph \"\n",
        "                    \"≤60 words and keep the 'High/Medium/Low' level unchanged.\",\n",
        "                    role=\"financial\",  # role doesn't matter here\n",
        "                )\n",
        "                final_lvl   = fin_lvl\n",
        "                merged_rat  = resp[\"rationale\"]\n",
        "            else:\n",
        "                final_lvl  = fin_lvl\n",
        "                merged_rat = fin_rat  # good enough\n",
        "\n",
        "        # 4b. Write back final fields\n",
        "        while True:\n",
        "            try:\n",
        "                with r.pipeline() as pipe:\n",
        "                    pipe.watch(hkey)\n",
        "                    lock = int(pipe.hget(hkey, \"lock_version\") or 0)\n",
        "                    pipe.multi()\n",
        "                    pipe.hset(hkey, mapping={\n",
        "                        \"final.level\": final_lvl,\n",
        "                        \"final.rationale\": merged_rat,\n",
        "                        \"lock_version\":    lock + 1,\n",
        "                    })\n",
        "                    pipe.execute()\n",
        "                    break\n",
        "            except redis.WatchError:\n",
        "                continue  # retry on race\n",
        "\n",
        "        # 4c. Embed merged rationale into Chroma (once)\n",
        "        embed = hf.feature_extraction([merged_rat])[0]\n",
        "        coll.add(\n",
        "            ids        = [f\"{ctrl_id}_final\"],\n",
        "            documents  = [merged_rat],\n",
        "            metadatas  = [{\"control_id\": ctrl_id, \"type\": \"merged\"}],\n",
        "            embeddings = [embed],\n",
        "        )\n",
        "\n",
        "        new_resolved.append(ctrl_id)\n",
        "\n",
        "    if new_resolved:\n",
        "        print(\"✅ Resolver merged\", len(new_resolved), \"controls:\", new_resolved)\n",
        "    else:\n",
        "        print(\"⏸️  Resolver: nothing new to merge.\")\n",
        "\n",
        "    state.setdefault(\"resolved\", []).extend(new_resolved)\n",
        "    return state\n"
      ],
      "metadata": {
        "id": "BgsPLTw2IPVP"
      },
      "execution_count": 30,
      "outputs": []
    },
    {
      "cell_type": "code",
      "source": [
        "# ── 0. Prereqs already run earlier ───────────────────────────────\n",
        "# • extractor_node, fin_risk_node, comp_risk_node, resolver_node\n",
        "# • helper analyze_with_mistral(), Redis client, Chroma client, etc.\n",
        "\n",
        "# ── 1. One shared AuditState for all nodes ───────────────────────\n",
        "from typing import TypedDict, List\n",
        "from langgraph.graph import StateGraph, END\n",
        "from langgraph.checkpoint.memory import MemorySaver\n",
        "\n",
        "class AuditState(TypedDict):\n",
        "    folder: str\n",
        "    processed: int\n",
        "    fin_last_id: str\n",
        "    fin_scored: int\n",
        "    comp_last_id: str\n",
        "    comp_scored: int\n",
        "    resolved: List[str]\n",
        "\n",
        "# ── 2. Build one graph (reuse SAME MemorySaver) ──────────────────\n",
        "ckpt = MemorySaver()                    # ← keep exactly one saver\n",
        "\n",
        "g = StateGraph(AuditState)\n",
        "g.add_node(\"extractor\", extractor_node)\n",
        "g.add_node(\"fin_risk\",  fin_risk_node)\n",
        "g.add_node(\"comp_risk\", comp_risk_node)\n",
        "g.add_node(\"resolver\",  resolver_node)\n",
        "\n",
        "g.set_entry_point(\"extractor\")\n",
        "g.add_edge(\"extractor\", \"fin_risk\")\n",
        "g.add_edge(\"fin_risk\",  \"comp_risk\")\n",
        "g.add_edge(\"comp_risk\", \"resolver\")\n",
        "g.add_edge(\"resolver\",  END)\n",
        "\n",
        "audit_graph = g.compile(checkpointer=ckpt)\n",
        "\n",
        "# ── 3. FIRST run  →  pass initial state + thread_id  ─────────────\n",
        "cfg = {\"configurable\": {\"thread_id\": \"extract24_session\"}}\n",
        "\n",
        "bootstrap = AuditState(\n",
        "    folder       = str(WORK_DIR),  # \"/content/workpapers\"\n",
        "    processed    = 0,\n",
        "    fin_last_id  = \"0-0\",\n",
        "    fin_scored   = 0,\n",
        "    comp_last_id = \"0-0\",\n",
        "    comp_scored  = 0,\n",
        "    resolved     = [],\n",
        ")\n",
        "\n",
        "audit_graph.invoke(bootstrap, config=cfg)\n",
        "\n",
        "# ── 4. Subsequent runs in the same kernel  →  empty dict ─────────\n",
        "# audit_graph.invoke({}, config=cfg)\n"
      ],
      "metadata": {
        "colab": {
          "base_uri": "https://localhost:8080/"
        },
        "id": "HtIgRT8sO46d",
        "outputId": "7f6d4c15-7192-4562-ed47-31442e8e7552"
      },
      "execution_count": 31,
      "outputs": [
        {
          "output_type": "stream",
          "name": "stdout",
          "text": [
            "📄 CTRL001_FINANCE.txt: 1 paragraphs emitted.\n",
            "📄 CTRL005_COMPLIANCE.txt: 1 paragraphs emitted.\n",
            "📄 CTRL004_FINANCE.txt: 1 paragraphs emitted.\n",
            "📄 CTRL003_MIXED.txt: 1 paragraphs emitted.\n",
            "📄 CTRL002_COMPLIANCE.txt: 1 paragraphs emitted.\n",
            "\n",
            "✅ Extracted 5 paragraphs → 5 embeddings stored.\n",
            "These are the entries in the node: [('1753252805802-0', {'control_id': 'CTRL001', 'doc_name': 'CTRL001_FINANCE.txt', 'para_idx': '0', 'text': '[Control Narrative]\\nAll capital expenditure above $50\\u202fk must be approved by both the Plant\\nManager and the Finance Controller before booking.\\n\\n[Testing Evidence]\\n• PO\\xa0#5312 for a 15\\u202fkV circuit breaker ($62\\u202f880) was approved only by\\n  the Plant Manager.\\n\\n[Implication]\\nPotential mis‑classification of CapEx and overstatement of fixed assets.\\n(Sample extracted 2025-07-23)'}), ('1753252805803-0', {'control_id': 'CTRL005', 'doc_name': 'CTRL005_COMPLIANCE.txt', 'para_idx': '0', 'text': '[Control Narrative]\\nAll SCADA access logs must be retained for seven years.\\n\\n[Testing Evidence]\\nLog retention policy set to 365\\xa0days; oldest log available dated\\n2025-07-23 minus 361\\xa0days.\\n\\n[Implication]\\nViolates NERC\\xa0CIP‑007‑6 R4; possible mandatory mitigation and penalties.'}), ('1753252805804-0', {'control_id': 'CTRL004', 'doc_name': 'CTRL004_FINANCE.txt', 'para_idx': '0', 'text': '[Control Narrative]\\nMonthly depreciation runs use a system‑generated economic life matrix.\\n\\n[Testing Evidence]\\nThe matrix still contains legacy assets with 35‑year lives which should\\nhave been revised to 25\\xa0years under IFRS\\xa016.\\n\\n[Implication]\\nUnder‑depreciation may overstate 2025\\xa0EBITDA by up to $450\\u202fk.'}), ('1753252805804-1', {'control_id': 'CTRL003', 'doc_name': 'CTRL003_MIXED.txt', 'para_idx': '0', 'text': '[Control Narrative]\\nEnergy trading deals above 75\\u202fMWh require same‑day confirmation by the\\nRisk Management desk.\\n\\n[Testing Evidence]\\nTwo trades (Deal\\xa0IDs\\xa0TX412 & TX415) >\\xa0$1\\u202fM each remained unconfirmed for\\nthree days due to holiday staffing gaps.\\n\\n[Implication]\\n• Financial: valuation uncertainty may misstate P&L by >\\xa0$300\\u202fk.\\n• Compliance: breach of ISO\\xa037001 “timely confirmation” clause.'}), ('1753252805805-0', {'control_id': 'CTRL002', 'doc_name': 'CTRL002_COMPLIANCE.txt', 'para_idx': '0', 'text': '[Control Narrative]\\nEmployees handling SF6 gas must hold a current EPA\\xa0608 certificate.\\n\\n[Testing Evidence]\\nTen out of 42 maintenance staff have certificates expired >\\xa090\\u202fdays.\\n\\n[Implication]\\nNon‑compliance with US\\xa0EPA Subpart\\xa0LL; risk of regulatory fines.'}), ('1753252855184-0', {'control_id': 'CTRL001', 'doc_name': 'CTRL001_FINANCE.txt', 'para_idx': '0', 'text': '[Control Narrative]\\nAll capital expenditure above $50\\u202fk must be approved by both the Plant\\nManager and the Finance Controller before booking.\\n\\n[Testing Evidence]\\n• PO\\xa0#5312 for a 15\\u202fkV circuit breaker ($62\\u202f880) was approved only by\\n  the Plant Manager.\\n\\n[Implication]\\nPotential mis‑classification of CapEx and overstatement of fixed assets.\\n(Sample extracted 2025-07-23)'}), ('1753252855185-0', {'control_id': 'CTRL005', 'doc_name': 'CTRL005_COMPLIANCE.txt', 'para_idx': '0', 'text': '[Control Narrative]\\nAll SCADA access logs must be retained for seven years.\\n\\n[Testing Evidence]\\nLog retention policy set to 365\\xa0days; oldest log available dated\\n2025-07-23 minus 361\\xa0days.\\n\\n[Implication]\\nViolates NERC\\xa0CIP‑007‑6 R4; possible mandatory mitigation and penalties.'}), ('1753252855186-0', {'control_id': 'CTRL004', 'doc_name': 'CTRL004_FINANCE.txt', 'para_idx': '0', 'text': '[Control Narrative]\\nMonthly depreciation runs use a system‑generated economic life matrix.\\n\\n[Testing Evidence]\\nThe matrix still contains legacy assets with 35‑year lives which should\\nhave been revised to 25\\xa0years under IFRS\\xa016.\\n\\n[Implication]\\nUnder‑depreciation may overstate 2025\\xa0EBITDA by up to $450\\u202fk.'}), ('1753252855186-1', {'control_id': 'CTRL003', 'doc_name': 'CTRL003_MIXED.txt', 'para_idx': '0', 'text': '[Control Narrative]\\nEnergy trading deals above 75\\u202fMWh require same‑day confirmation by the\\nRisk Management desk.\\n\\n[Testing Evidence]\\nTwo trades (Deal\\xa0IDs\\xa0TX412 & TX415) >\\xa0$1\\u202fM each remained unconfirmed for\\nthree days due to holiday staffing gaps.\\n\\n[Implication]\\n• Financial: valuation uncertainty may misstate P&L by >\\xa0$300\\u202fk.\\n• Compliance: breach of ISO\\xa037001 “timely confirmation” clause.'}), ('1753252855186-2', {'control_id': 'CTRL002', 'doc_name': 'CTRL002_COMPLIANCE.txt', 'para_idx': '0', 'text': '[Control Narrative]\\nEmployees handling SF6 gas must hold a current EPA\\xa0608 certificate.\\n\\n[Testing Evidence]\\nTen out of 42 maintenance staff have certificates expired >\\xa090\\u202fdays.\\n\\n[Implication]\\nNon‑compliance with US\\xa0EPA Subpart\\xa0LL; risk of regulatory fines.'}), ('1753253128697-0', {'control_id': 'CTRL001', 'doc_name': 'CTRL001_FINANCE.txt', 'para_idx': '0', 'text': '[Control Narrative]\\nAll capital expenditure above $50\\u202fk must be approved by both the Plant\\nManager and the Finance Controller before booking.\\n\\n[Testing Evidence]\\n• PO\\xa0#5312 for a 15\\u202fkV circuit breaker ($62\\u202f880) was approved only by\\n  the Plant Manager.\\n\\n[Implication]\\nPotential mis‑classification of CapEx and overstatement of fixed assets.\\n(Sample extracted 2025-07-23)'}), ('1753253128698-0', {'control_id': 'CTRL005', 'doc_name': 'CTRL005_COMPLIANCE.txt', 'para_idx': '0', 'text': '[Control Narrative]\\nAll SCADA access logs must be retained for seven years.\\n\\n[Testing Evidence]\\nLog retention policy set to 365\\xa0days; oldest log available dated\\n2025-07-23 minus 361\\xa0days.\\n\\n[Implication]\\nViolates NERC\\xa0CIP‑007‑6 R4; possible mandatory mitigation and penalties.'}), ('1753253128698-1', {'control_id': 'CTRL004', 'doc_name': 'CTRL004_FINANCE.txt', 'para_idx': '0', 'text': '[Control Narrative]\\nMonthly depreciation runs use a system‑generated economic life matrix.\\n\\n[Testing Evidence]\\nThe matrix still contains legacy assets with 35‑year lives which should\\nhave been revised to 25\\xa0years under IFRS\\xa016.\\n\\n[Implication]\\nUnder‑depreciation may overstate 2025\\xa0EBITDA by up to $450\\u202fk.'}), ('1753253128699-0', {'control_id': 'CTRL003', 'doc_name': 'CTRL003_MIXED.txt', 'para_idx': '0', 'text': '[Control Narrative]\\nEnergy trading deals above 75\\u202fMWh require same‑day confirmation by the\\nRisk Management desk.\\n\\n[Testing Evidence]\\nTwo trades (Deal\\xa0IDs\\xa0TX412 & TX415) >\\xa0$1\\u202fM each remained unconfirmed for\\nthree days due to holiday staffing gaps.\\n\\n[Implication]\\n• Financial: valuation uncertainty may misstate P&L by >\\xa0$300\\u202fk.\\n• Compliance: breach of ISO\\xa037001 “timely confirmation” clause.'}), ('1753253128699-1', {'control_id': 'CTRL002', 'doc_name': 'CTRL002_COMPLIANCE.txt', 'para_idx': '0', 'text': '[Control Narrative]\\nEmployees handling SF6 gas must hold a current EPA\\xa0608 certificate.\\n\\n[Testing Evidence]\\nTen out of 42 maintenance staff have certificates expired >\\xa090\\u202fdays.\\n\\n[Implication]\\nNon‑compliance with US\\xa0EPA Subpart\\xa0LL; risk of regulatory fines.'}), ('1753253146499-0', {'control_id': 'CTRL001', 'doc_name': 'CTRL001_FINANCE.txt', 'para_idx': '0', 'text': '[Control Narrative]\\nAll capital expenditure above $50\\u202fk must be approved by both the Plant\\nManager and the Finance Controller before booking.\\n\\n[Testing Evidence]\\n• PO\\xa0#5312 for a 15\\u202fkV circuit breaker ($62\\u202f880) was approved only by\\n  the Plant Manager.\\n\\n[Implication]\\nPotential mis‑classification of CapEx and overstatement of fixed assets.\\n(Sample extracted 2025-07-23)'}), ('1753253146500-0', {'control_id': 'CTRL005', 'doc_name': 'CTRL005_COMPLIANCE.txt', 'para_idx': '0', 'text': '[Control Narrative]\\nAll SCADA access logs must be retained for seven years.\\n\\n[Testing Evidence]\\nLog retention policy set to 365\\xa0days; oldest log available dated\\n2025-07-23 minus 361\\xa0days.\\n\\n[Implication]\\nViolates NERC\\xa0CIP‑007‑6 R4; possible mandatory mitigation and penalties.'}), ('1753253146500-1', {'control_id': 'CTRL004', 'doc_name': 'CTRL004_FINANCE.txt', 'para_idx': '0', 'text': '[Control Narrative]\\nMonthly depreciation runs use a system‑generated economic life matrix.\\n\\n[Testing Evidence]\\nThe matrix still contains legacy assets with 35‑year lives which should\\nhave been revised to 25\\xa0years under IFRS\\xa016.\\n\\n[Implication]\\nUnder‑depreciation may overstate 2025\\xa0EBITDA by up to $450\\u202fk.'}), ('1753253146501-0', {'control_id': 'CTRL003', 'doc_name': 'CTRL003_MIXED.txt', 'para_idx': '0', 'text': '[Control Narrative]\\nEnergy trading deals above 75\\u202fMWh require same‑day confirmation by the\\nRisk Management desk.\\n\\n[Testing Evidence]\\nTwo trades (Deal\\xa0IDs\\xa0TX412 & TX415) >\\xa0$1\\u202fM each remained unconfirmed for\\nthree days due to holiday staffing gaps.\\n\\n[Implication]\\n• Financial: valuation uncertainty may misstate P&L by >\\xa0$300\\u202fk.\\n• Compliance: breach of ISO\\xa037001 “timely confirmation” clause.'}), ('1753253146501-1', {'control_id': 'CTRL002', 'doc_name': 'CTRL002_COMPLIANCE.txt', 'para_idx': '0', 'text': '[Control Narrative]\\nEmployees handling SF6 gas must hold a current EPA\\xa0608 certificate.\\n\\n[Testing Evidence]\\nTen out of 42 maintenance staff have certificates expired >\\xa090\\u202fdays.\\n\\n[Implication]\\nNon‑compliance with US\\xa0EPA Subpart\\xa0LL; risk of regulatory fines.'}), ('1753256369337-0', {'control_id': 'CTRL001', 'doc_name': 'CTRL001_FINANCE.txt', 'para_idx': '0', 'text': '[Control Narrative]\\nAll capital expenditure above $50\\u202fk must be approved by both the Plant\\nManager and the Finance Controller before booking.\\n\\n[Testing Evidence]\\n• PO\\xa0#5312 for a 15\\u202fkV circuit breaker ($62\\u202f880) was approved only by\\n  the Plant Manager.\\n\\n[Implication]\\nPotential mis‑classification of CapEx and overstatement of fixed assets.\\n(Sample extracted 2025-07-23)'}), ('1753256369338-0', {'control_id': 'CTRL005', 'doc_name': 'CTRL005_COMPLIANCE.txt', 'para_idx': '0', 'text': '[Control Narrative]\\nAll SCADA access logs must be retained for seven years.\\n\\n[Testing Evidence]\\nLog retention policy set to 365\\xa0days; oldest log available dated\\n2025-07-23 minus 361\\xa0days.\\n\\n[Implication]\\nViolates NERC\\xa0CIP‑007‑6 R4; possible mandatory mitigation and penalties.'}), ('1753256369338-1', {'control_id': 'CTRL004', 'doc_name': 'CTRL004_FINANCE.txt', 'para_idx': '0', 'text': '[Control Narrative]\\nMonthly depreciation runs use a system‑generated economic life matrix.\\n\\n[Testing Evidence]\\nThe matrix still contains legacy assets with 35‑year lives which should\\nhave been revised to 25\\xa0years under IFRS\\xa016.\\n\\n[Implication]\\nUnder‑depreciation may overstate 2025\\xa0EBITDA by up to $450\\u202fk.'}), ('1753256369339-0', {'control_id': 'CTRL003', 'doc_name': 'CTRL003_MIXED.txt', 'para_idx': '0', 'text': '[Control Narrative]\\nEnergy trading deals above 75\\u202fMWh require same‑day confirmation by the\\nRisk Management desk.\\n\\n[Testing Evidence]\\nTwo trades (Deal\\xa0IDs\\xa0TX412 & TX415) >\\xa0$1\\u202fM each remained unconfirmed for\\nthree days due to holiday staffing gaps.\\n\\n[Implication]\\n• Financial: valuation uncertainty may misstate P&L by >\\xa0$300\\u202fk.\\n• Compliance: breach of ISO\\xa037001 “timely confirmation” clause.'}), ('1753256369339-1', {'control_id': 'CTRL002', 'doc_name': 'CTRL002_COMPLIANCE.txt', 'para_idx': '0', 'text': '[Control Narrative]\\nEmployees handling SF6 gas must hold a current EPA\\xa0608 certificate.\\n\\n[Testing Evidence]\\nTen out of 42 maintenance staff have certificates expired >\\xa090\\u202fdays.\\n\\n[Implication]\\nNon‑compliance with US\\xa0EPA Subpart\\xa0LL; risk of regulatory fines.'}), ('1753257114412-0', {'control_id': 'CTRL001', 'doc_name': 'CTRL001_FINANCE.txt', 'para_idx': '0', 'text': '[Control Narrative]\\nAll capital expenditure above $50\\u202fk must be approved by both the Plant\\nManager and the Finance Controller before booking.\\n\\n[Testing Evidence]\\n• PO\\xa0#5312 for a 15\\u202fkV circuit breaker ($62\\u202f880) was approved only by\\n  the Plant Manager.\\n\\n[Implication]\\nPotential mis‑classification of CapEx and overstatement of fixed assets.\\n(Sample extracted 2025-07-23)'}), ('1753257114413-0', {'control_id': 'CTRL005', 'doc_name': 'CTRL005_COMPLIANCE.txt', 'para_idx': '0', 'text': '[Control Narrative]\\nAll SCADA access logs must be retained for seven years.\\n\\n[Testing Evidence]\\nLog retention policy set to 365\\xa0days; oldest log available dated\\n2025-07-23 minus 361\\xa0days.\\n\\n[Implication]\\nViolates NERC\\xa0CIP‑007‑6 R4; possible mandatory mitigation and penalties.'}), ('1753257114414-0', {'control_id': 'CTRL004', 'doc_name': 'CTRL004_FINANCE.txt', 'para_idx': '0', 'text': '[Control Narrative]\\nMonthly depreciation runs use a system‑generated economic life matrix.\\n\\n[Testing Evidence]\\nThe matrix still contains legacy assets with 35‑year lives which should\\nhave been revised to 25\\xa0years under IFRS\\xa016.\\n\\n[Implication]\\nUnder‑depreciation may overstate 2025\\xa0EBITDA by up to $450\\u202fk.'}), ('1753257114414-1', {'control_id': 'CTRL003', 'doc_name': 'CTRL003_MIXED.txt', 'para_idx': '0', 'text': '[Control Narrative]\\nEnergy trading deals above 75\\u202fMWh require same‑day confirmation by the\\nRisk Management desk.\\n\\n[Testing Evidence]\\nTwo trades (Deal\\xa0IDs\\xa0TX412 & TX415) >\\xa0$1\\u202fM each remained unconfirmed for\\nthree days due to holiday staffing gaps.\\n\\n[Implication]\\n• Financial: valuation uncertainty may misstate P&L by >\\xa0$300\\u202fk.\\n• Compliance: breach of ISO\\xa037001 “timely confirmation” clause.'}), ('1753257114414-2', {'control_id': 'CTRL002', 'doc_name': 'CTRL002_COMPLIANCE.txt', 'para_idx': '0', 'text': '[Control Narrative]\\nEmployees handling SF6 gas must hold a current EPA\\xa0608 certificate.\\n\\n[Testing Evidence]\\nTen out of 42 maintenance staff have certificates expired >\\xa090\\u202fdays.\\n\\n[Implication]\\nNon‑compliance with US\\xa0EPA Subpart\\xa0LL; risk of regulatory fines.'}), ('1753257398708-0', {'control_id': 'CTRL001', 'doc_name': 'CTRL001_FINANCE.txt', 'para_idx': '0', 'text': '[Control Narrative]\\nAll capital expenditure above $50\\u202fk must be approved by both the Plant\\nManager and the Finance Controller before booking.\\n\\n[Testing Evidence]\\n• PO\\xa0#5312 for a 15\\u202fkV circuit breaker ($62\\u202f880) was approved only by\\n  the Plant Manager.\\n\\n[Implication]\\nPotential mis‑classification of CapEx and overstatement of fixed assets.\\n(Sample extracted 2025-07-23)'}), ('1753257398710-0', {'control_id': 'CTRL005', 'doc_name': 'CTRL005_COMPLIANCE.txt', 'para_idx': '0', 'text': '[Control Narrative]\\nAll SCADA access logs must be retained for seven years.\\n\\n[Testing Evidence]\\nLog retention policy set to 365\\xa0days; oldest log available dated\\n2025-07-23 minus 361\\xa0days.\\n\\n[Implication]\\nViolates NERC\\xa0CIP‑007‑6 R4; possible mandatory mitigation and penalties.'}), ('1753257398710-1', {'control_id': 'CTRL004', 'doc_name': 'CTRL004_FINANCE.txt', 'para_idx': '0', 'text': '[Control Narrative]\\nMonthly depreciation runs use a system‑generated economic life matrix.\\n\\n[Testing Evidence]\\nThe matrix still contains legacy assets with 35‑year lives which should\\nhave been revised to 25\\xa0years under IFRS\\xa016.\\n\\n[Implication]\\nUnder‑depreciation may overstate 2025\\xa0EBITDA by up to $450\\u202fk.'}), ('1753257398710-2', {'control_id': 'CTRL003', 'doc_name': 'CTRL003_MIXED.txt', 'para_idx': '0', 'text': '[Control Narrative]\\nEnergy trading deals above 75\\u202fMWh require same‑day confirmation by the\\nRisk Management desk.\\n\\n[Testing Evidence]\\nTwo trades (Deal\\xa0IDs\\xa0TX412 & TX415) >\\xa0$1\\u202fM each remained unconfirmed for\\nthree days due to holiday staffing gaps.\\n\\n[Implication]\\n• Financial: valuation uncertainty may misstate P&L by >\\xa0$300\\u202fk.\\n• Compliance: breach of ISO\\xa037001 “timely confirmation” clause.'}), ('1753257398711-0', {'control_id': 'CTRL002', 'doc_name': 'CTRL002_COMPLIANCE.txt', 'para_idx': '0', 'text': '[Control Narrative]\\nEmployees handling SF6 gas must hold a current EPA\\xa0608 certificate.\\n\\n[Testing Evidence]\\nTen out of 42 maintenance staff have certificates expired >\\xa090\\u202fdays.\\n\\n[Implication]\\nNon‑compliance with US\\xa0EPA Subpart\\xa0LL; risk of regulatory fines.'}), ('1753258078034-0', {'control_id': 'CTRL001', 'doc_name': 'CTRL001_FINANCE.txt', 'para_idx': '0', 'text': '[Control Narrative]\\nAll capital expenditure above $50\\u202fk must be approved by both the Plant\\nManager and the Finance Controller before booking.\\n\\n[Testing Evidence]\\n• PO\\xa0#5312 for a 15\\u202fkV circuit breaker ($62\\u202f880) was approved only by\\n  the Plant Manager.\\n\\n[Implication]\\nPotential mis‑classification of CapEx and overstatement of fixed assets.\\n(Sample extracted 2025-07-23)'}), ('1753258078035-0', {'control_id': 'CTRL005', 'doc_name': 'CTRL005_COMPLIANCE.txt', 'para_idx': '0', 'text': '[Control Narrative]\\nAll SCADA access logs must be retained for seven years.\\n\\n[Testing Evidence]\\nLog retention policy set to 365\\xa0days; oldest log available dated\\n2025-07-23 minus 361\\xa0days.\\n\\n[Implication]\\nViolates NERC\\xa0CIP‑007‑6 R4; possible mandatory mitigation and penalties.'}), ('1753258078035-1', {'control_id': 'CTRL004', 'doc_name': 'CTRL004_FINANCE.txt', 'para_idx': '0', 'text': '[Control Narrative]\\nMonthly depreciation runs use a system‑generated economic life matrix.\\n\\n[Testing Evidence]\\nThe matrix still contains legacy assets with 35‑year lives which should\\nhave been revised to 25\\xa0years under IFRS\\xa016.\\n\\n[Implication]\\nUnder‑depreciation may overstate 2025\\xa0EBITDA by up to $450\\u202fk.'}), ('1753258078035-2', {'control_id': 'CTRL003', 'doc_name': 'CTRL003_MIXED.txt', 'para_idx': '0', 'text': '[Control Narrative]\\nEnergy trading deals above 75\\u202fMWh require same‑day confirmation by the\\nRisk Management desk.\\n\\n[Testing Evidence]\\nTwo trades (Deal\\xa0IDs\\xa0TX412 & TX415) >\\xa0$1\\u202fM each remained unconfirmed for\\nthree days due to holiday staffing gaps.\\n\\n[Implication]\\n• Financial: valuation uncertainty may misstate P&L by >\\xa0$300\\u202fk.\\n• Compliance: breach of ISO\\xa037001 “timely confirmation” clause.'}), ('1753258078036-0', {'control_id': 'CTRL002', 'doc_name': 'CTRL002_COMPLIANCE.txt', 'para_idx': '0', 'text': '[Control Narrative]\\nEmployees handling SF6 gas must hold a current EPA\\xa0608 certificate.\\n\\n[Testing Evidence]\\nTen out of 42 maintenance staff have certificates expired >\\xa090\\u202fdays.\\n\\n[Implication]\\nNon‑compliance with US\\xa0EPA Subpart\\xa0LL; risk of regulatory fines.'}), ('1753258284200-0', {'control_id': 'CTRL001', 'doc_name': 'CTRL001_FINANCE.txt', 'para_idx': '0', 'text': '[Control Narrative]\\nAll capital expenditure above $50\\u202fk must be approved by both the Plant\\nManager and the Finance Controller before booking.\\n\\n[Testing Evidence]\\n• PO\\xa0#5312 for a 15\\u202fkV circuit breaker ($62\\u202f880) was approved only by\\n  the Plant Manager.\\n\\n[Implication]\\nPotential mis‑classification of CapEx and overstatement of fixed assets.\\n(Sample extracted 2025-07-23)'}), ('1753258284201-0', {'control_id': 'CTRL005', 'doc_name': 'CTRL005_COMPLIANCE.txt', 'para_idx': '0', 'text': '[Control Narrative]\\nAll SCADA access logs must be retained for seven years.\\n\\n[Testing Evidence]\\nLog retention policy set to 365\\xa0days; oldest log available dated\\n2025-07-23 minus 361\\xa0days.\\n\\n[Implication]\\nViolates NERC\\xa0CIP‑007‑6 R4; possible mandatory mitigation and penalties.'}), ('1753258284201-1', {'control_id': 'CTRL004', 'doc_name': 'CTRL004_FINANCE.txt', 'para_idx': '0', 'text': '[Control Narrative]\\nMonthly depreciation runs use a system‑generated economic life matrix.\\n\\n[Testing Evidence]\\nThe matrix still contains legacy assets with 35‑year lives which should\\nhave been revised to 25\\xa0years under IFRS\\xa016.\\n\\n[Implication]\\nUnder‑depreciation may overstate 2025\\xa0EBITDA by up to $450\\u202fk.'}), ('1753258284202-0', {'control_id': 'CTRL003', 'doc_name': 'CTRL003_MIXED.txt', 'para_idx': '0', 'text': '[Control Narrative]\\nEnergy trading deals above 75\\u202fMWh require same‑day confirmation by the\\nRisk Management desk.\\n\\n[Testing Evidence]\\nTwo trades (Deal\\xa0IDs\\xa0TX412 & TX415) >\\xa0$1\\u202fM each remained unconfirmed for\\nthree days due to holiday staffing gaps.\\n\\n[Implication]\\n• Financial: valuation uncertainty may misstate P&L by >\\xa0$300\\u202fk.\\n• Compliance: breach of ISO\\xa037001 “timely confirmation” clause.'}), ('1753258284202-1', {'control_id': 'CTRL002', 'doc_name': 'CTRL002_COMPLIANCE.txt', 'para_idx': '0', 'text': '[Control Narrative]\\nEmployees handling SF6 gas must hold a current EPA\\xa0608 certificate.\\n\\n[Testing Evidence]\\nTen out of 42 maintenance staff have certificates expired >\\xa090\\u202fdays.\\n\\n[Implication]\\nNon‑compliance with US\\xa0EPA Subpart\\xa0LL; risk of regulatory fines.'}), ('1753258329394-0', {'control_id': 'CTRL001', 'doc_name': 'CTRL001_FINANCE.txt', 'para_idx': '0', 'text': '[Control Narrative]\\nAll capital expenditure above $50\\u202fk must be approved by both the Plant\\nManager and the Finance Controller before booking.\\n\\n[Testing Evidence]\\n• PO\\xa0#5312 for a 15\\u202fkV circuit breaker ($62\\u202f880) was approved only by\\n  the Plant Manager.\\n\\n[Implication]\\nPotential mis‑classification of CapEx and overstatement of fixed assets.\\n(Sample extracted 2025-07-23)'}), ('1753258329395-0', {'control_id': 'CTRL005', 'doc_name': 'CTRL005_COMPLIANCE.txt', 'para_idx': '0', 'text': '[Control Narrative]\\nAll SCADA access logs must be retained for seven years.\\n\\n[Testing Evidence]\\nLog retention policy set to 365\\xa0days; oldest log available dated\\n2025-07-23 minus 361\\xa0days.\\n\\n[Implication]\\nViolates NERC\\xa0CIP‑007‑6 R4; possible mandatory mitigation and penalties.'}), ('1753258329395-1', {'control_id': 'CTRL004', 'doc_name': 'CTRL004_FINANCE.txt', 'para_idx': '0', 'text': '[Control Narrative]\\nMonthly depreciation runs use a system‑generated economic life matrix.\\n\\n[Testing Evidence]\\nThe matrix still contains legacy assets with 35‑year lives which should\\nhave been revised to 25\\xa0years under IFRS\\xa016.\\n\\n[Implication]\\nUnder‑depreciation may overstate 2025\\xa0EBITDA by up to $450\\u202fk.'}), ('1753258329395-2', {'control_id': 'CTRL003', 'doc_name': 'CTRL003_MIXED.txt', 'para_idx': '0', 'text': '[Control Narrative]\\nEnergy trading deals above 75\\u202fMWh require same‑day confirmation by the\\nRisk Management desk.\\n\\n[Testing Evidence]\\nTwo trades (Deal\\xa0IDs\\xa0TX412 & TX415) >\\xa0$1\\u202fM each remained unconfirmed for\\nthree days due to holiday staffing gaps.\\n\\n[Implication]\\n• Financial: valuation uncertainty may misstate P&L by >\\xa0$300\\u202fk.\\n• Compliance: breach of ISO\\xa037001 “timely confirmation” clause.'}), ('1753258329396-0', {'control_id': 'CTRL002', 'doc_name': 'CTRL002_COMPLIANCE.txt', 'para_idx': '0', 'text': '[Control Narrative]\\nEmployees handling SF6 gas must hold a current EPA\\xa0608 certificate.\\n\\n[Testing Evidence]\\nTen out of 42 maintenance staff have certificates expired >\\xa090\\u202fdays.\\n\\n[Implication]\\nNon‑compliance with US\\xa0EPA Subpart\\xa0LL; risk of regulatory fines.'}), ('1753261362524-0', {'control_id': 'CTRL001', 'doc_name': 'CTRL001_FINANCE.txt', 'para_idx': '0', 'text': '[Control Narrative]\\nAll capital expenditure above $50\\u202fk must be approved by both the Plant\\nManager and the Finance Controller before booking.\\n\\n[Testing Evidence]\\n• PO\\xa0#5312 for a 15\\u202fkV circuit breaker ($62\\u202f880) was approved only by\\n  the Plant Manager.\\n\\n[Implication]\\nPotential mis‑classification of CapEx and overstatement of fixed assets.\\n(Sample extracted 2025-07-23)'}), ('1753261362525-0', {'control_id': 'CTRL005', 'doc_name': 'CTRL005_COMPLIANCE.txt', 'para_idx': '0', 'text': '[Control Narrative]\\nAll SCADA access logs must be retained for seven years.\\n\\n[Testing Evidence]\\nLog retention policy set to 365\\xa0days; oldest log available dated\\n2025-07-23 minus 361\\xa0days.\\n\\n[Implication]\\nViolates NERC\\xa0CIP‑007‑6 R4; possible mandatory mitigation and penalties.'}), ('1753261362525-1', {'control_id': 'CTRL004', 'doc_name': 'CTRL004_FINANCE.txt', 'para_idx': '0', 'text': '[Control Narrative]\\nMonthly depreciation runs use a system‑generated economic life matrix.\\n\\n[Testing Evidence]\\nThe matrix still contains legacy assets with 35‑year lives which should\\nhave been revised to 25\\xa0years under IFRS\\xa016.\\n\\n[Implication]\\nUnder‑depreciation may overstate 2025\\xa0EBITDA by up to $450\\u202fk.'}), ('1753261362525-2', {'control_id': 'CTRL003', 'doc_name': 'CTRL003_MIXED.txt', 'para_idx': '0', 'text': '[Control Narrative]\\nEnergy trading deals above 75\\u202fMWh require same‑day confirmation by the\\nRisk Management desk.\\n\\n[Testing Evidence]\\nTwo trades (Deal\\xa0IDs\\xa0TX412 & TX415) >\\xa0$1\\u202fM each remained unconfirmed for\\nthree days due to holiday staffing gaps.\\n\\n[Implication]\\n• Financial: valuation uncertainty may misstate P&L by >\\xa0$300\\u202fk.\\n• Compliance: breach of ISO\\xa037001 “timely confirmation” clause.'}), ('1753261362526-0', {'control_id': 'CTRL002', 'doc_name': 'CTRL002_COMPLIANCE.txt', 'para_idx': '0', 'text': '[Control Narrative]\\nEmployees handling SF6 gas must hold a current EPA\\xa0608 certificate.\\n\\n[Testing Evidence]\\nTen out of 42 maintenance staff have certificates expired >\\xa090\\u202fdays.\\n\\n[Implication]\\nNon‑compliance with US\\xa0EPA Subpart\\xa0LL; risk of regulatory fines.'}), ('1753261567952-0', {'control_id': 'CTRL001', 'doc_name': 'CTRL001_FINANCE.txt', 'para_idx': '0', 'text': '[Control Narrative]\\nAll capital expenditure above $50\\u202fk must be approved by both the Plant\\nManager and the Finance Controller before booking.\\n\\n[Testing Evidence]\\n• PO\\xa0#5312 for a 15\\u202fkV circuit breaker ($62\\u202f880) was approved only by\\n  the Plant Manager.\\n\\n[Implication]\\nPotential mis‑classification of CapEx and overstatement of fixed assets.\\n(Sample extracted 2025-07-23)'}), ('1753261567953-0', {'control_id': 'CTRL005', 'doc_name': 'CTRL005_COMPLIANCE.txt', 'para_idx': '0', 'text': '[Control Narrative]\\nAll SCADA access logs must be retained for seven years.\\n\\n[Testing Evidence]\\nLog retention policy set to 365\\xa0days; oldest log available dated\\n2025-07-23 minus 361\\xa0days.\\n\\n[Implication]\\nViolates NERC\\xa0CIP‑007‑6 R4; possible mandatory mitigation and penalties.'}), ('1753261567953-1', {'control_id': 'CTRL004', 'doc_name': 'CTRL004_FINANCE.txt', 'para_idx': '0', 'text': '[Control Narrative]\\nMonthly depreciation runs use a system‑generated economic life matrix.\\n\\n[Testing Evidence]\\nThe matrix still contains legacy assets with 35‑year lives which should\\nhave been revised to 25\\xa0years under IFRS\\xa016.\\n\\n[Implication]\\nUnder‑depreciation may overstate 2025\\xa0EBITDA by up to $450\\u202fk.'}), ('1753261567953-2', {'control_id': 'CTRL003', 'doc_name': 'CTRL003_MIXED.txt', 'para_idx': '0', 'text': '[Control Narrative]\\nEnergy trading deals above 75\\u202fMWh require same‑day confirmation by the\\nRisk Management desk.\\n\\n[Testing Evidence]\\nTwo trades (Deal\\xa0IDs\\xa0TX412 & TX415) >\\xa0$1\\u202fM each remained unconfirmed for\\nthree days due to holiday staffing gaps.\\n\\n[Implication]\\n• Financial: valuation uncertainty may misstate P&L by >\\xa0$300\\u202fk.\\n• Compliance: breach of ISO\\xa037001 “timely confirmation” clause.'}), ('1753261567954-0', {'control_id': 'CTRL002', 'doc_name': 'CTRL002_COMPLIANCE.txt', 'para_idx': '0', 'text': '[Control Narrative]\\nEmployees handling SF6 gas must hold a current EPA\\xa0608 certificate.\\n\\n[Testing Evidence]\\nTen out of 42 maintenance staff have certificates expired >\\xa090\\u202fdays.\\n\\n[Implication]\\nNon‑compliance with US\\xa0EPA Subpart\\xa0LL; risk of regulatory fines.'}), ('1753261673514-0', {'control_id': 'CTRL001', 'doc_name': 'CTRL001_FINANCE.txt', 'para_idx': '0', 'text': '[Control Narrative]\\nAll capital expenditure above $50\\u202fk must be approved by both the Plant\\nManager and the Finance Controller before booking.\\n\\n[Testing Evidence]\\n• PO\\xa0#5312 for a 15\\u202fkV circuit breaker ($62\\u202f880) was approved only by\\n  the Plant Manager.\\n\\n[Implication]\\nPotential mis‑classification of CapEx and overstatement of fixed assets.\\n(Sample extracted 2025-07-23)'}), ('1753261673515-0', {'control_id': 'CTRL005', 'doc_name': 'CTRL005_COMPLIANCE.txt', 'para_idx': '0', 'text': '[Control Narrative]\\nAll SCADA access logs must be retained for seven years.\\n\\n[Testing Evidence]\\nLog retention policy set to 365\\xa0days; oldest log available dated\\n2025-07-23 minus 361\\xa0days.\\n\\n[Implication]\\nViolates NERC\\xa0CIP‑007‑6 R4; possible mandatory mitigation and penalties.'}), ('1753261673515-1', {'control_id': 'CTRL004', 'doc_name': 'CTRL004_FINANCE.txt', 'para_idx': '0', 'text': '[Control Narrative]\\nMonthly depreciation runs use a system‑generated economic life matrix.\\n\\n[Testing Evidence]\\nThe matrix still contains legacy assets with 35‑year lives which should\\nhave been revised to 25\\xa0years under IFRS\\xa016.\\n\\n[Implication]\\nUnder‑depreciation may overstate 2025\\xa0EBITDA by up to $450\\u202fk.'}), ('1753261673515-2', {'control_id': 'CTRL003', 'doc_name': 'CTRL003_MIXED.txt', 'para_idx': '0', 'text': '[Control Narrative]\\nEnergy trading deals above 75\\u202fMWh require same‑day confirmation by the\\nRisk Management desk.\\n\\n[Testing Evidence]\\nTwo trades (Deal\\xa0IDs\\xa0TX412 & TX415) >\\xa0$1\\u202fM each remained unconfirmed for\\nthree days due to holiday staffing gaps.\\n\\n[Implication]\\n• Financial: valuation uncertainty may misstate P&L by >\\xa0$300\\u202fk.\\n• Compliance: breach of ISO\\xa037001 “timely confirmation” clause.'}), ('1753261673516-0', {'control_id': 'CTRL002', 'doc_name': 'CTRL002_COMPLIANCE.txt', 'para_idx': '0', 'text': '[Control Narrative]\\nEmployees handling SF6 gas must hold a current EPA\\xa0608 certificate.\\n\\n[Testing Evidence]\\nTen out of 42 maintenance staff have certificates expired >\\xa090\\u202fdays.\\n\\n[Implication]\\nNon‑compliance with US\\xa0EPA Subpart\\xa0LL; risk of regulatory fines.'}), ('1753261811187-0', {'control_id': 'CTRL001', 'doc_name': 'CTRL001_FINANCE.txt', 'para_idx': '0', 'text': '[Control Narrative]\\nAll capital expenditure above $50\\u202fk must be approved by both the Plant\\nManager and the Finance Controller before booking.\\n\\n[Testing Evidence]\\n• PO\\xa0#5312 for a 15\\u202fkV circuit breaker ($62\\u202f880) was approved only by\\n  the Plant Manager.\\n\\n[Implication]\\nPotential mis‑classification of CapEx and overstatement of fixed assets.\\n(Sample extracted 2025-07-23)'}), ('1753261811188-0', {'control_id': 'CTRL005', 'doc_name': 'CTRL005_COMPLIANCE.txt', 'para_idx': '0', 'text': '[Control Narrative]\\nAll SCADA access logs must be retained for seven years.\\n\\n[Testing Evidence]\\nLog retention policy set to 365\\xa0days; oldest log available dated\\n2025-07-23 minus 361\\xa0days.\\n\\n[Implication]\\nViolates NERC\\xa0CIP‑007‑6 R4; possible mandatory mitigation and penalties.'}), ('1753261811188-1', {'control_id': 'CTRL004', 'doc_name': 'CTRL004_FINANCE.txt', 'para_idx': '0', 'text': '[Control Narrative]\\nMonthly depreciation runs use a system‑generated economic life matrix.\\n\\n[Testing Evidence]\\nThe matrix still contains legacy assets with 35‑year lives which should\\nhave been revised to 25\\xa0years under IFRS\\xa016.\\n\\n[Implication]\\nUnder‑depreciation may overstate 2025\\xa0EBITDA by up to $450\\u202fk.'}), ('1753261811188-2', {'control_id': 'CTRL003', 'doc_name': 'CTRL003_MIXED.txt', 'para_idx': '0', 'text': '[Control Narrative]\\nEnergy trading deals above 75\\u202fMWh require same‑day confirmation by the\\nRisk Management desk.\\n\\n[Testing Evidence]\\nTwo trades (Deal\\xa0IDs\\xa0TX412 & TX415) >\\xa0$1\\u202fM each remained unconfirmed for\\nthree days due to holiday staffing gaps.\\n\\n[Implication]\\n• Financial: valuation uncertainty may misstate P&L by >\\xa0$300\\u202fk.\\n• Compliance: breach of ISO\\xa037001 “timely confirmation” clause.'}), ('1753261811189-0', {'control_id': 'CTRL002', 'doc_name': 'CTRL002_COMPLIANCE.txt', 'para_idx': '0', 'text': '[Control Narrative]\\nEmployees handling SF6 gas must hold a current EPA\\xa0608 certificate.\\n\\n[Testing Evidence]\\nTen out of 42 maintenance staff have certificates expired >\\xa090\\u202fdays.\\n\\n[Implication]\\nNon‑compliance with US\\xa0EPA Subpart\\xa0LL; risk of regulatory fines.'}), ('1753262024866-0', {'control_id': 'CTRL001', 'doc_name': 'CTRL001_FINANCE.txt', 'para_idx': '0', 'text': '[Control Narrative]\\nAll capital expenditure above $50\\u202fk must be approved by both the Plant\\nManager and the Finance Controller before booking.\\n\\n[Testing Evidence]\\n• PO\\xa0#5312 for a 15\\u202fkV circuit breaker ($62\\u202f880) was approved only by\\n  the Plant Manager.\\n\\n[Implication]\\nPotential mis‑classification of CapEx and overstatement of fixed assets.\\n(Sample extracted 2025-07-23)'}), ('1753262024867-0', {'control_id': 'CTRL005', 'doc_name': 'CTRL005_COMPLIANCE.txt', 'para_idx': '0', 'text': '[Control Narrative]\\nAll SCADA access logs must be retained for seven years.\\n\\n[Testing Evidence]\\nLog retention policy set to 365\\xa0days; oldest log available dated\\n2025-07-23 minus 361\\xa0days.\\n\\n[Implication]\\nViolates NERC\\xa0CIP‑007‑6 R4; possible mandatory mitigation and penalties.'}), ('1753262024868-0', {'control_id': 'CTRL004', 'doc_name': 'CTRL004_FINANCE.txt', 'para_idx': '0', 'text': '[Control Narrative]\\nMonthly depreciation runs use a system‑generated economic life matrix.\\n\\n[Testing Evidence]\\nThe matrix still contains legacy assets with 35‑year lives which should\\nhave been revised to 25\\xa0years under IFRS\\xa016.\\n\\n[Implication]\\nUnder‑depreciation may overstate 2025\\xa0EBITDA by up to $450\\u202fk.'}), ('1753262024868-1', {'control_id': 'CTRL003', 'doc_name': 'CTRL003_MIXED.txt', 'para_idx': '0', 'text': '[Control Narrative]\\nEnergy trading deals above 75\\u202fMWh require same‑day confirmation by the\\nRisk Management desk.\\n\\n[Testing Evidence]\\nTwo trades (Deal\\xa0IDs\\xa0TX412 & TX415) >\\xa0$1\\u202fM each remained unconfirmed for\\nthree days due to holiday staffing gaps.\\n\\n[Implication]\\n• Financial: valuation uncertainty may misstate P&L by >\\xa0$300\\u202fk.\\n• Compliance: breach of ISO\\xa037001 “timely confirmation” clause.'}), ('1753262024868-2', {'control_id': 'CTRL002', 'doc_name': 'CTRL002_COMPLIANCE.txt', 'para_idx': '0', 'text': '[Control Narrative]\\nEmployees handling SF6 gas must hold a current EPA\\xa0608 certificate.\\n\\n[Testing Evidence]\\nTen out of 42 maintenance staff have certificates expired >\\xa090\\u202fdays.\\n\\n[Implication]\\nNon‑compliance with US\\xa0EPA Subpart\\xa0LL; risk of regulatory fines.'})]\n",
            "Here is the hkey risk:CTRL001\n",
            "Here is the hkey risk:CTRL004\n",
            "Here is the hkey risk:CTRL003\n",
            "✅ Fin‑Risk analysed 3 new paragraphs.\n",
            "Here are the entries [('1753252805802-0', {'control_id': 'CTRL001', 'doc_name': 'CTRL001_FINANCE.txt', 'para_idx': '0', 'text': '[Control Narrative]\\nAll capital expenditure above $50\\u202fk must be approved by both the Plant\\nManager and the Finance Controller before booking.\\n\\n[Testing Evidence]\\n• PO\\xa0#5312 for a 15\\u202fkV circuit breaker ($62\\u202f880) was approved only by\\n  the Plant Manager.\\n\\n[Implication]\\nPotential mis‑classification of CapEx and overstatement of fixed assets.\\n(Sample extracted 2025-07-23)'}), ('1753252805803-0', {'control_id': 'CTRL005', 'doc_name': 'CTRL005_COMPLIANCE.txt', 'para_idx': '0', 'text': '[Control Narrative]\\nAll SCADA access logs must be retained for seven years.\\n\\n[Testing Evidence]\\nLog retention policy set to 365\\xa0days; oldest log available dated\\n2025-07-23 minus 361\\xa0days.\\n\\n[Implication]\\nViolates NERC\\xa0CIP‑007‑6 R4; possible mandatory mitigation and penalties.'}), ('1753252805804-0', {'control_id': 'CTRL004', 'doc_name': 'CTRL004_FINANCE.txt', 'para_idx': '0', 'text': '[Control Narrative]\\nMonthly depreciation runs use a system‑generated economic life matrix.\\n\\n[Testing Evidence]\\nThe matrix still contains legacy assets with 35‑year lives which should\\nhave been revised to 25\\xa0years under IFRS\\xa016.\\n\\n[Implication]\\nUnder‑depreciation may overstate 2025\\xa0EBITDA by up to $450\\u202fk.'}), ('1753252805804-1', {'control_id': 'CTRL003', 'doc_name': 'CTRL003_MIXED.txt', 'para_idx': '0', 'text': '[Control Narrative]\\nEnergy trading deals above 75\\u202fMWh require same‑day confirmation by the\\nRisk Management desk.\\n\\n[Testing Evidence]\\nTwo trades (Deal\\xa0IDs\\xa0TX412 & TX415) >\\xa0$1\\u202fM each remained unconfirmed for\\nthree days due to holiday staffing gaps.\\n\\n[Implication]\\n• Financial: valuation uncertainty may misstate P&L by >\\xa0$300\\u202fk.\\n• Compliance: breach of ISO\\xa037001 “timely confirmation” clause.'}), ('1753252805805-0', {'control_id': 'CTRL002', 'doc_name': 'CTRL002_COMPLIANCE.txt', 'para_idx': '0', 'text': '[Control Narrative]\\nEmployees handling SF6 gas must hold a current EPA\\xa0608 certificate.\\n\\n[Testing Evidence]\\nTen out of 42 maintenance staff have certificates expired >\\xa090\\u202fdays.\\n\\n[Implication]\\nNon‑compliance with US\\xa0EPA Subpart\\xa0LL; risk of regulatory fines.'}), ('1753252855184-0', {'control_id': 'CTRL001', 'doc_name': 'CTRL001_FINANCE.txt', 'para_idx': '0', 'text': '[Control Narrative]\\nAll capital expenditure above $50\\u202fk must be approved by both the Plant\\nManager and the Finance Controller before booking.\\n\\n[Testing Evidence]\\n• PO\\xa0#5312 for a 15\\u202fkV circuit breaker ($62\\u202f880) was approved only by\\n  the Plant Manager.\\n\\n[Implication]\\nPotential mis‑classification of CapEx and overstatement of fixed assets.\\n(Sample extracted 2025-07-23)'}), ('1753252855185-0', {'control_id': 'CTRL005', 'doc_name': 'CTRL005_COMPLIANCE.txt', 'para_idx': '0', 'text': '[Control Narrative]\\nAll SCADA access logs must be retained for seven years.\\n\\n[Testing Evidence]\\nLog retention policy set to 365\\xa0days; oldest log available dated\\n2025-07-23 minus 361\\xa0days.\\n\\n[Implication]\\nViolates NERC\\xa0CIP‑007‑6 R4; possible mandatory mitigation and penalties.'}), ('1753252855186-0', {'control_id': 'CTRL004', 'doc_name': 'CTRL004_FINANCE.txt', 'para_idx': '0', 'text': '[Control Narrative]\\nMonthly depreciation runs use a system‑generated economic life matrix.\\n\\n[Testing Evidence]\\nThe matrix still contains legacy assets with 35‑year lives which should\\nhave been revised to 25\\xa0years under IFRS\\xa016.\\n\\n[Implication]\\nUnder‑depreciation may overstate 2025\\xa0EBITDA by up to $450\\u202fk.'}), ('1753252855186-1', {'control_id': 'CTRL003', 'doc_name': 'CTRL003_MIXED.txt', 'para_idx': '0', 'text': '[Control Narrative]\\nEnergy trading deals above 75\\u202fMWh require same‑day confirmation by the\\nRisk Management desk.\\n\\n[Testing Evidence]\\nTwo trades (Deal\\xa0IDs\\xa0TX412 & TX415) >\\xa0$1\\u202fM each remained unconfirmed for\\nthree days due to holiday staffing gaps.\\n\\n[Implication]\\n• Financial: valuation uncertainty may misstate P&L by >\\xa0$300\\u202fk.\\n• Compliance: breach of ISO\\xa037001 “timely confirmation” clause.'}), ('1753252855186-2', {'control_id': 'CTRL002', 'doc_name': 'CTRL002_COMPLIANCE.txt', 'para_idx': '0', 'text': '[Control Narrative]\\nEmployees handling SF6 gas must hold a current EPA\\xa0608 certificate.\\n\\n[Testing Evidence]\\nTen out of 42 maintenance staff have certificates expired >\\xa090\\u202fdays.\\n\\n[Implication]\\nNon‑compliance with US\\xa0EPA Subpart\\xa0LL; risk of regulatory fines.'}), ('1753253128697-0', {'control_id': 'CTRL001', 'doc_name': 'CTRL001_FINANCE.txt', 'para_idx': '0', 'text': '[Control Narrative]\\nAll capital expenditure above $50\\u202fk must be approved by both the Plant\\nManager and the Finance Controller before booking.\\n\\n[Testing Evidence]\\n• PO\\xa0#5312 for a 15\\u202fkV circuit breaker ($62\\u202f880) was approved only by\\n  the Plant Manager.\\n\\n[Implication]\\nPotential mis‑classification of CapEx and overstatement of fixed assets.\\n(Sample extracted 2025-07-23)'}), ('1753253128698-0', {'control_id': 'CTRL005', 'doc_name': 'CTRL005_COMPLIANCE.txt', 'para_idx': '0', 'text': '[Control Narrative]\\nAll SCADA access logs must be retained for seven years.\\n\\n[Testing Evidence]\\nLog retention policy set to 365\\xa0days; oldest log available dated\\n2025-07-23 minus 361\\xa0days.\\n\\n[Implication]\\nViolates NERC\\xa0CIP‑007‑6 R4; possible mandatory mitigation and penalties.'}), ('1753253128698-1', {'control_id': 'CTRL004', 'doc_name': 'CTRL004_FINANCE.txt', 'para_idx': '0', 'text': '[Control Narrative]\\nMonthly depreciation runs use a system‑generated economic life matrix.\\n\\n[Testing Evidence]\\nThe matrix still contains legacy assets with 35‑year lives which should\\nhave been revised to 25\\xa0years under IFRS\\xa016.\\n\\n[Implication]\\nUnder‑depreciation may overstate 2025\\xa0EBITDA by up to $450\\u202fk.'}), ('1753253128699-0', {'control_id': 'CTRL003', 'doc_name': 'CTRL003_MIXED.txt', 'para_idx': '0', 'text': '[Control Narrative]\\nEnergy trading deals above 75\\u202fMWh require same‑day confirmation by the\\nRisk Management desk.\\n\\n[Testing Evidence]\\nTwo trades (Deal\\xa0IDs\\xa0TX412 & TX415) >\\xa0$1\\u202fM each remained unconfirmed for\\nthree days due to holiday staffing gaps.\\n\\n[Implication]\\n• Financial: valuation uncertainty may misstate P&L by >\\xa0$300\\u202fk.\\n• Compliance: breach of ISO\\xa037001 “timely confirmation” clause.'}), ('1753253128699-1', {'control_id': 'CTRL002', 'doc_name': 'CTRL002_COMPLIANCE.txt', 'para_idx': '0', 'text': '[Control Narrative]\\nEmployees handling SF6 gas must hold a current EPA\\xa0608 certificate.\\n\\n[Testing Evidence]\\nTen out of 42 maintenance staff have certificates expired >\\xa090\\u202fdays.\\n\\n[Implication]\\nNon‑compliance with US\\xa0EPA Subpart\\xa0LL; risk of regulatory fines.'}), ('1753253146499-0', {'control_id': 'CTRL001', 'doc_name': 'CTRL001_FINANCE.txt', 'para_idx': '0', 'text': '[Control Narrative]\\nAll capital expenditure above $50\\u202fk must be approved by both the Plant\\nManager and the Finance Controller before booking.\\n\\n[Testing Evidence]\\n• PO\\xa0#5312 for a 15\\u202fkV circuit breaker ($62\\u202f880) was approved only by\\n  the Plant Manager.\\n\\n[Implication]\\nPotential mis‑classification of CapEx and overstatement of fixed assets.\\n(Sample extracted 2025-07-23)'}), ('1753253146500-0', {'control_id': 'CTRL005', 'doc_name': 'CTRL005_COMPLIANCE.txt', 'para_idx': '0', 'text': '[Control Narrative]\\nAll SCADA access logs must be retained for seven years.\\n\\n[Testing Evidence]\\nLog retention policy set to 365\\xa0days; oldest log available dated\\n2025-07-23 minus 361\\xa0days.\\n\\n[Implication]\\nViolates NERC\\xa0CIP‑007‑6 R4; possible mandatory mitigation and penalties.'}), ('1753253146500-1', {'control_id': 'CTRL004', 'doc_name': 'CTRL004_FINANCE.txt', 'para_idx': '0', 'text': '[Control Narrative]\\nMonthly depreciation runs use a system‑generated economic life matrix.\\n\\n[Testing Evidence]\\nThe matrix still contains legacy assets with 35‑year lives which should\\nhave been revised to 25\\xa0years under IFRS\\xa016.\\n\\n[Implication]\\nUnder‑depreciation may overstate 2025\\xa0EBITDA by up to $450\\u202fk.'}), ('1753253146501-0', {'control_id': 'CTRL003', 'doc_name': 'CTRL003_MIXED.txt', 'para_idx': '0', 'text': '[Control Narrative]\\nEnergy trading deals above 75\\u202fMWh require same‑day confirmation by the\\nRisk Management desk.\\n\\n[Testing Evidence]\\nTwo trades (Deal\\xa0IDs\\xa0TX412 & TX415) >\\xa0$1\\u202fM each remained unconfirmed for\\nthree days due to holiday staffing gaps.\\n\\n[Implication]\\n• Financial: valuation uncertainty may misstate P&L by >\\xa0$300\\u202fk.\\n• Compliance: breach of ISO\\xa037001 “timely confirmation” clause.'}), ('1753253146501-1', {'control_id': 'CTRL002', 'doc_name': 'CTRL002_COMPLIANCE.txt', 'para_idx': '0', 'text': '[Control Narrative]\\nEmployees handling SF6 gas must hold a current EPA\\xa0608 certificate.\\n\\n[Testing Evidence]\\nTen out of 42 maintenance staff have certificates expired >\\xa090\\u202fdays.\\n\\n[Implication]\\nNon‑compliance with US\\xa0EPA Subpart\\xa0LL; risk of regulatory fines.'}), ('1753256369337-0', {'control_id': 'CTRL001', 'doc_name': 'CTRL001_FINANCE.txt', 'para_idx': '0', 'text': '[Control Narrative]\\nAll capital expenditure above $50\\u202fk must be approved by both the Plant\\nManager and the Finance Controller before booking.\\n\\n[Testing Evidence]\\n• PO\\xa0#5312 for a 15\\u202fkV circuit breaker ($62\\u202f880) was approved only by\\n  the Plant Manager.\\n\\n[Implication]\\nPotential mis‑classification of CapEx and overstatement of fixed assets.\\n(Sample extracted 2025-07-23)'}), ('1753256369338-0', {'control_id': 'CTRL005', 'doc_name': 'CTRL005_COMPLIANCE.txt', 'para_idx': '0', 'text': '[Control Narrative]\\nAll SCADA access logs must be retained for seven years.\\n\\n[Testing Evidence]\\nLog retention policy set to 365\\xa0days; oldest log available dated\\n2025-07-23 minus 361\\xa0days.\\n\\n[Implication]\\nViolates NERC\\xa0CIP‑007‑6 R4; possible mandatory mitigation and penalties.'}), ('1753256369338-1', {'control_id': 'CTRL004', 'doc_name': 'CTRL004_FINANCE.txt', 'para_idx': '0', 'text': '[Control Narrative]\\nMonthly depreciation runs use a system‑generated economic life matrix.\\n\\n[Testing Evidence]\\nThe matrix still contains legacy assets with 35‑year lives which should\\nhave been revised to 25\\xa0years under IFRS\\xa016.\\n\\n[Implication]\\nUnder‑depreciation may overstate 2025\\xa0EBITDA by up to $450\\u202fk.'}), ('1753256369339-0', {'control_id': 'CTRL003', 'doc_name': 'CTRL003_MIXED.txt', 'para_idx': '0', 'text': '[Control Narrative]\\nEnergy trading deals above 75\\u202fMWh require same‑day confirmation by the\\nRisk Management desk.\\n\\n[Testing Evidence]\\nTwo trades (Deal\\xa0IDs\\xa0TX412 & TX415) >\\xa0$1\\u202fM each remained unconfirmed for\\nthree days due to holiday staffing gaps.\\n\\n[Implication]\\n• Financial: valuation uncertainty may misstate P&L by >\\xa0$300\\u202fk.\\n• Compliance: breach of ISO\\xa037001 “timely confirmation” clause.'}), ('1753256369339-1', {'control_id': 'CTRL002', 'doc_name': 'CTRL002_COMPLIANCE.txt', 'para_idx': '0', 'text': '[Control Narrative]\\nEmployees handling SF6 gas must hold a current EPA\\xa0608 certificate.\\n\\n[Testing Evidence]\\nTen out of 42 maintenance staff have certificates expired >\\xa090\\u202fdays.\\n\\n[Implication]\\nNon‑compliance with US\\xa0EPA Subpart\\xa0LL; risk of regulatory fines.'}), ('1753257114412-0', {'control_id': 'CTRL001', 'doc_name': 'CTRL001_FINANCE.txt', 'para_idx': '0', 'text': '[Control Narrative]\\nAll capital expenditure above $50\\u202fk must be approved by both the Plant\\nManager and the Finance Controller before booking.\\n\\n[Testing Evidence]\\n• PO\\xa0#5312 for a 15\\u202fkV circuit breaker ($62\\u202f880) was approved only by\\n  the Plant Manager.\\n\\n[Implication]\\nPotential mis‑classification of CapEx and overstatement of fixed assets.\\n(Sample extracted 2025-07-23)'}), ('1753257114413-0', {'control_id': 'CTRL005', 'doc_name': 'CTRL005_COMPLIANCE.txt', 'para_idx': '0', 'text': '[Control Narrative]\\nAll SCADA access logs must be retained for seven years.\\n\\n[Testing Evidence]\\nLog retention policy set to 365\\xa0days; oldest log available dated\\n2025-07-23 minus 361\\xa0days.\\n\\n[Implication]\\nViolates NERC\\xa0CIP‑007‑6 R4; possible mandatory mitigation and penalties.'}), ('1753257114414-0', {'control_id': 'CTRL004', 'doc_name': 'CTRL004_FINANCE.txt', 'para_idx': '0', 'text': '[Control Narrative]\\nMonthly depreciation runs use a system‑generated economic life matrix.\\n\\n[Testing Evidence]\\nThe matrix still contains legacy assets with 35‑year lives which should\\nhave been revised to 25\\xa0years under IFRS\\xa016.\\n\\n[Implication]\\nUnder‑depreciation may overstate 2025\\xa0EBITDA by up to $450\\u202fk.'}), ('1753257114414-1', {'control_id': 'CTRL003', 'doc_name': 'CTRL003_MIXED.txt', 'para_idx': '0', 'text': '[Control Narrative]\\nEnergy trading deals above 75\\u202fMWh require same‑day confirmation by the\\nRisk Management desk.\\n\\n[Testing Evidence]\\nTwo trades (Deal\\xa0IDs\\xa0TX412 & TX415) >\\xa0$1\\u202fM each remained unconfirmed for\\nthree days due to holiday staffing gaps.\\n\\n[Implication]\\n• Financial: valuation uncertainty may misstate P&L by >\\xa0$300\\u202fk.\\n• Compliance: breach of ISO\\xa037001 “timely confirmation” clause.'}), ('1753257114414-2', {'control_id': 'CTRL002', 'doc_name': 'CTRL002_COMPLIANCE.txt', 'para_idx': '0', 'text': '[Control Narrative]\\nEmployees handling SF6 gas must hold a current EPA\\xa0608 certificate.\\n\\n[Testing Evidence]\\nTen out of 42 maintenance staff have certificates expired >\\xa090\\u202fdays.\\n\\n[Implication]\\nNon‑compliance with US\\xa0EPA Subpart\\xa0LL; risk of regulatory fines.'}), ('1753257398708-0', {'control_id': 'CTRL001', 'doc_name': 'CTRL001_FINANCE.txt', 'para_idx': '0', 'text': '[Control Narrative]\\nAll capital expenditure above $50\\u202fk must be approved by both the Plant\\nManager and the Finance Controller before booking.\\n\\n[Testing Evidence]\\n• PO\\xa0#5312 for a 15\\u202fkV circuit breaker ($62\\u202f880) was approved only by\\n  the Plant Manager.\\n\\n[Implication]\\nPotential mis‑classification of CapEx and overstatement of fixed assets.\\n(Sample extracted 2025-07-23)'}), ('1753257398710-0', {'control_id': 'CTRL005', 'doc_name': 'CTRL005_COMPLIANCE.txt', 'para_idx': '0', 'text': '[Control Narrative]\\nAll SCADA access logs must be retained for seven years.\\n\\n[Testing Evidence]\\nLog retention policy set to 365\\xa0days; oldest log available dated\\n2025-07-23 minus 361\\xa0days.\\n\\n[Implication]\\nViolates NERC\\xa0CIP‑007‑6 R4; possible mandatory mitigation and penalties.'}), ('1753257398710-1', {'control_id': 'CTRL004', 'doc_name': 'CTRL004_FINANCE.txt', 'para_idx': '0', 'text': '[Control Narrative]\\nMonthly depreciation runs use a system‑generated economic life matrix.\\n\\n[Testing Evidence]\\nThe matrix still contains legacy assets with 35‑year lives which should\\nhave been revised to 25\\xa0years under IFRS\\xa016.\\n\\n[Implication]\\nUnder‑depreciation may overstate 2025\\xa0EBITDA by up to $450\\u202fk.'}), ('1753257398710-2', {'control_id': 'CTRL003', 'doc_name': 'CTRL003_MIXED.txt', 'para_idx': '0', 'text': '[Control Narrative]\\nEnergy trading deals above 75\\u202fMWh require same‑day confirmation by the\\nRisk Management desk.\\n\\n[Testing Evidence]\\nTwo trades (Deal\\xa0IDs\\xa0TX412 & TX415) >\\xa0$1\\u202fM each remained unconfirmed for\\nthree days due to holiday staffing gaps.\\n\\n[Implication]\\n• Financial: valuation uncertainty may misstate P&L by >\\xa0$300\\u202fk.\\n• Compliance: breach of ISO\\xa037001 “timely confirmation” clause.'}), ('1753257398711-0', {'control_id': 'CTRL002', 'doc_name': 'CTRL002_COMPLIANCE.txt', 'para_idx': '0', 'text': '[Control Narrative]\\nEmployees handling SF6 gas must hold a current EPA\\xa0608 certificate.\\n\\n[Testing Evidence]\\nTen out of 42 maintenance staff have certificates expired >\\xa090\\u202fdays.\\n\\n[Implication]\\nNon‑compliance with US\\xa0EPA Subpart\\xa0LL; risk of regulatory fines.'}), ('1753258078034-0', {'control_id': 'CTRL001', 'doc_name': 'CTRL001_FINANCE.txt', 'para_idx': '0', 'text': '[Control Narrative]\\nAll capital expenditure above $50\\u202fk must be approved by both the Plant\\nManager and the Finance Controller before booking.\\n\\n[Testing Evidence]\\n• PO\\xa0#5312 for a 15\\u202fkV circuit breaker ($62\\u202f880) was approved only by\\n  the Plant Manager.\\n\\n[Implication]\\nPotential mis‑classification of CapEx and overstatement of fixed assets.\\n(Sample extracted 2025-07-23)'}), ('1753258078035-0', {'control_id': 'CTRL005', 'doc_name': 'CTRL005_COMPLIANCE.txt', 'para_idx': '0', 'text': '[Control Narrative]\\nAll SCADA access logs must be retained for seven years.\\n\\n[Testing Evidence]\\nLog retention policy set to 365\\xa0days; oldest log available dated\\n2025-07-23 minus 361\\xa0days.\\n\\n[Implication]\\nViolates NERC\\xa0CIP‑007‑6 R4; possible mandatory mitigation and penalties.'}), ('1753258078035-1', {'control_id': 'CTRL004', 'doc_name': 'CTRL004_FINANCE.txt', 'para_idx': '0', 'text': '[Control Narrative]\\nMonthly depreciation runs use a system‑generated economic life matrix.\\n\\n[Testing Evidence]\\nThe matrix still contains legacy assets with 35‑year lives which should\\nhave been revised to 25\\xa0years under IFRS\\xa016.\\n\\n[Implication]\\nUnder‑depreciation may overstate 2025\\xa0EBITDA by up to $450\\u202fk.'}), ('1753258078035-2', {'control_id': 'CTRL003', 'doc_name': 'CTRL003_MIXED.txt', 'para_idx': '0', 'text': '[Control Narrative]\\nEnergy trading deals above 75\\u202fMWh require same‑day confirmation by the\\nRisk Management desk.\\n\\n[Testing Evidence]\\nTwo trades (Deal\\xa0IDs\\xa0TX412 & TX415) >\\xa0$1\\u202fM each remained unconfirmed for\\nthree days due to holiday staffing gaps.\\n\\n[Implication]\\n• Financial: valuation uncertainty may misstate P&L by >\\xa0$300\\u202fk.\\n• Compliance: breach of ISO\\xa037001 “timely confirmation” clause.'}), ('1753258078036-0', {'control_id': 'CTRL002', 'doc_name': 'CTRL002_COMPLIANCE.txt', 'para_idx': '0', 'text': '[Control Narrative]\\nEmployees handling SF6 gas must hold a current EPA\\xa0608 certificate.\\n\\n[Testing Evidence]\\nTen out of 42 maintenance staff have certificates expired >\\xa090\\u202fdays.\\n\\n[Implication]\\nNon‑compliance with US\\xa0EPA Subpart\\xa0LL; risk of regulatory fines.'}), ('1753258284200-0', {'control_id': 'CTRL001', 'doc_name': 'CTRL001_FINANCE.txt', 'para_idx': '0', 'text': '[Control Narrative]\\nAll capital expenditure above $50\\u202fk must be approved by both the Plant\\nManager and the Finance Controller before booking.\\n\\n[Testing Evidence]\\n• PO\\xa0#5312 for a 15\\u202fkV circuit breaker ($62\\u202f880) was approved only by\\n  the Plant Manager.\\n\\n[Implication]\\nPotential mis‑classification of CapEx and overstatement of fixed assets.\\n(Sample extracted 2025-07-23)'}), ('1753258284201-0', {'control_id': 'CTRL005', 'doc_name': 'CTRL005_COMPLIANCE.txt', 'para_idx': '0', 'text': '[Control Narrative]\\nAll SCADA access logs must be retained for seven years.\\n\\n[Testing Evidence]\\nLog retention policy set to 365\\xa0days; oldest log available dated\\n2025-07-23 minus 361\\xa0days.\\n\\n[Implication]\\nViolates NERC\\xa0CIP‑007‑6 R4; possible mandatory mitigation and penalties.'}), ('1753258284201-1', {'control_id': 'CTRL004', 'doc_name': 'CTRL004_FINANCE.txt', 'para_idx': '0', 'text': '[Control Narrative]\\nMonthly depreciation runs use a system‑generated economic life matrix.\\n\\n[Testing Evidence]\\nThe matrix still contains legacy assets with 35‑year lives which should\\nhave been revised to 25\\xa0years under IFRS\\xa016.\\n\\n[Implication]\\nUnder‑depreciation may overstate 2025\\xa0EBITDA by up to $450\\u202fk.'}), ('1753258284202-0', {'control_id': 'CTRL003', 'doc_name': 'CTRL003_MIXED.txt', 'para_idx': '0', 'text': '[Control Narrative]\\nEnergy trading deals above 75\\u202fMWh require same‑day confirmation by the\\nRisk Management desk.\\n\\n[Testing Evidence]\\nTwo trades (Deal\\xa0IDs\\xa0TX412 & TX415) >\\xa0$1\\u202fM each remained unconfirmed for\\nthree days due to holiday staffing gaps.\\n\\n[Implication]\\n• Financial: valuation uncertainty may misstate P&L by >\\xa0$300\\u202fk.\\n• Compliance: breach of ISO\\xa037001 “timely confirmation” clause.'}), ('1753258284202-1', {'control_id': 'CTRL002', 'doc_name': 'CTRL002_COMPLIANCE.txt', 'para_idx': '0', 'text': '[Control Narrative]\\nEmployees handling SF6 gas must hold a current EPA\\xa0608 certificate.\\n\\n[Testing Evidence]\\nTen out of 42 maintenance staff have certificates expired >\\xa090\\u202fdays.\\n\\n[Implication]\\nNon‑compliance with US\\xa0EPA Subpart\\xa0LL; risk of regulatory fines.'}), ('1753258329394-0', {'control_id': 'CTRL001', 'doc_name': 'CTRL001_FINANCE.txt', 'para_idx': '0', 'text': '[Control Narrative]\\nAll capital expenditure above $50\\u202fk must be approved by both the Plant\\nManager and the Finance Controller before booking.\\n\\n[Testing Evidence]\\n• PO\\xa0#5312 for a 15\\u202fkV circuit breaker ($62\\u202f880) was approved only by\\n  the Plant Manager.\\n\\n[Implication]\\nPotential mis‑classification of CapEx and overstatement of fixed assets.\\n(Sample extracted 2025-07-23)'}), ('1753258329395-0', {'control_id': 'CTRL005', 'doc_name': 'CTRL005_COMPLIANCE.txt', 'para_idx': '0', 'text': '[Control Narrative]\\nAll SCADA access logs must be retained for seven years.\\n\\n[Testing Evidence]\\nLog retention policy set to 365\\xa0days; oldest log available dated\\n2025-07-23 minus 361\\xa0days.\\n\\n[Implication]\\nViolates NERC\\xa0CIP‑007‑6 R4; possible mandatory mitigation and penalties.'}), ('1753258329395-1', {'control_id': 'CTRL004', 'doc_name': 'CTRL004_FINANCE.txt', 'para_idx': '0', 'text': '[Control Narrative]\\nMonthly depreciation runs use a system‑generated economic life matrix.\\n\\n[Testing Evidence]\\nThe matrix still contains legacy assets with 35‑year lives which should\\nhave been revised to 25\\xa0years under IFRS\\xa016.\\n\\n[Implication]\\nUnder‑depreciation may overstate 2025\\xa0EBITDA by up to $450\\u202fk.'}), ('1753258329395-2', {'control_id': 'CTRL003', 'doc_name': 'CTRL003_MIXED.txt', 'para_idx': '0', 'text': '[Control Narrative]\\nEnergy trading deals above 75\\u202fMWh require same‑day confirmation by the\\nRisk Management desk.\\n\\n[Testing Evidence]\\nTwo trades (Deal\\xa0IDs\\xa0TX412 & TX415) >\\xa0$1\\u202fM each remained unconfirmed for\\nthree days due to holiday staffing gaps.\\n\\n[Implication]\\n• Financial: valuation uncertainty may misstate P&L by >\\xa0$300\\u202fk.\\n• Compliance: breach of ISO\\xa037001 “timely confirmation” clause.'}), ('1753258329396-0', {'control_id': 'CTRL002', 'doc_name': 'CTRL002_COMPLIANCE.txt', 'para_idx': '0', 'text': '[Control Narrative]\\nEmployees handling SF6 gas must hold a current EPA\\xa0608 certificate.\\n\\n[Testing Evidence]\\nTen out of 42 maintenance staff have certificates expired >\\xa090\\u202fdays.\\n\\n[Implication]\\nNon‑compliance with US\\xa0EPA Subpart\\xa0LL; risk of regulatory fines.'}), ('1753261362524-0', {'control_id': 'CTRL001', 'doc_name': 'CTRL001_FINANCE.txt', 'para_idx': '0', 'text': '[Control Narrative]\\nAll capital expenditure above $50\\u202fk must be approved by both the Plant\\nManager and the Finance Controller before booking.\\n\\n[Testing Evidence]\\n• PO\\xa0#5312 for a 15\\u202fkV circuit breaker ($62\\u202f880) was approved only by\\n  the Plant Manager.\\n\\n[Implication]\\nPotential mis‑classification of CapEx and overstatement of fixed assets.\\n(Sample extracted 2025-07-23)'}), ('1753261362525-0', {'control_id': 'CTRL005', 'doc_name': 'CTRL005_COMPLIANCE.txt', 'para_idx': '0', 'text': '[Control Narrative]\\nAll SCADA access logs must be retained for seven years.\\n\\n[Testing Evidence]\\nLog retention policy set to 365\\xa0days; oldest log available dated\\n2025-07-23 minus 361\\xa0days.\\n\\n[Implication]\\nViolates NERC\\xa0CIP‑007‑6 R4; possible mandatory mitigation and penalties.'}), ('1753261362525-1', {'control_id': 'CTRL004', 'doc_name': 'CTRL004_FINANCE.txt', 'para_idx': '0', 'text': '[Control Narrative]\\nMonthly depreciation runs use a system‑generated economic life matrix.\\n\\n[Testing Evidence]\\nThe matrix still contains legacy assets with 35‑year lives which should\\nhave been revised to 25\\xa0years under IFRS\\xa016.\\n\\n[Implication]\\nUnder‑depreciation may overstate 2025\\xa0EBITDA by up to $450\\u202fk.'}), ('1753261362525-2', {'control_id': 'CTRL003', 'doc_name': 'CTRL003_MIXED.txt', 'para_idx': '0', 'text': '[Control Narrative]\\nEnergy trading deals above 75\\u202fMWh require same‑day confirmation by the\\nRisk Management desk.\\n\\n[Testing Evidence]\\nTwo trades (Deal\\xa0IDs\\xa0TX412 & TX415) >\\xa0$1\\u202fM each remained unconfirmed for\\nthree days due to holiday staffing gaps.\\n\\n[Implication]\\n• Financial: valuation uncertainty may misstate P&L by >\\xa0$300\\u202fk.\\n• Compliance: breach of ISO\\xa037001 “timely confirmation” clause.'}), ('1753261362526-0', {'control_id': 'CTRL002', 'doc_name': 'CTRL002_COMPLIANCE.txt', 'para_idx': '0', 'text': '[Control Narrative]\\nEmployees handling SF6 gas must hold a current EPA\\xa0608 certificate.\\n\\n[Testing Evidence]\\nTen out of 42 maintenance staff have certificates expired >\\xa090\\u202fdays.\\n\\n[Implication]\\nNon‑compliance with US\\xa0EPA Subpart\\xa0LL; risk of regulatory fines.'}), ('1753261567952-0', {'control_id': 'CTRL001', 'doc_name': 'CTRL001_FINANCE.txt', 'para_idx': '0', 'text': '[Control Narrative]\\nAll capital expenditure above $50\\u202fk must be approved by both the Plant\\nManager and the Finance Controller before booking.\\n\\n[Testing Evidence]\\n• PO\\xa0#5312 for a 15\\u202fkV circuit breaker ($62\\u202f880) was approved only by\\n  the Plant Manager.\\n\\n[Implication]\\nPotential mis‑classification of CapEx and overstatement of fixed assets.\\n(Sample extracted 2025-07-23)'}), ('1753261567953-0', {'control_id': 'CTRL005', 'doc_name': 'CTRL005_COMPLIANCE.txt', 'para_idx': '0', 'text': '[Control Narrative]\\nAll SCADA access logs must be retained for seven years.\\n\\n[Testing Evidence]\\nLog retention policy set to 365\\xa0days; oldest log available dated\\n2025-07-23 minus 361\\xa0days.\\n\\n[Implication]\\nViolates NERC\\xa0CIP‑007‑6 R4; possible mandatory mitigation and penalties.'}), ('1753261567953-1', {'control_id': 'CTRL004', 'doc_name': 'CTRL004_FINANCE.txt', 'para_idx': '0', 'text': '[Control Narrative]\\nMonthly depreciation runs use a system‑generated economic life matrix.\\n\\n[Testing Evidence]\\nThe matrix still contains legacy assets with 35‑year lives which should\\nhave been revised to 25\\xa0years under IFRS\\xa016.\\n\\n[Implication]\\nUnder‑depreciation may overstate 2025\\xa0EBITDA by up to $450\\u202fk.'}), ('1753261567953-2', {'control_id': 'CTRL003', 'doc_name': 'CTRL003_MIXED.txt', 'para_idx': '0', 'text': '[Control Narrative]\\nEnergy trading deals above 75\\u202fMWh require same‑day confirmation by the\\nRisk Management desk.\\n\\n[Testing Evidence]\\nTwo trades (Deal\\xa0IDs\\xa0TX412 & TX415) >\\xa0$1\\u202fM each remained unconfirmed for\\nthree days due to holiday staffing gaps.\\n\\n[Implication]\\n• Financial: valuation uncertainty may misstate P&L by >\\xa0$300\\u202fk.\\n• Compliance: breach of ISO\\xa037001 “timely confirmation” clause.'}), ('1753261567954-0', {'control_id': 'CTRL002', 'doc_name': 'CTRL002_COMPLIANCE.txt', 'para_idx': '0', 'text': '[Control Narrative]\\nEmployees handling SF6 gas must hold a current EPA\\xa0608 certificate.\\n\\n[Testing Evidence]\\nTen out of 42 maintenance staff have certificates expired >\\xa090\\u202fdays.\\n\\n[Implication]\\nNon‑compliance with US\\xa0EPA Subpart\\xa0LL; risk of regulatory fines.'}), ('1753261673514-0', {'control_id': 'CTRL001', 'doc_name': 'CTRL001_FINANCE.txt', 'para_idx': '0', 'text': '[Control Narrative]\\nAll capital expenditure above $50\\u202fk must be approved by both the Plant\\nManager and the Finance Controller before booking.\\n\\n[Testing Evidence]\\n• PO\\xa0#5312 for a 15\\u202fkV circuit breaker ($62\\u202f880) was approved only by\\n  the Plant Manager.\\n\\n[Implication]\\nPotential mis‑classification of CapEx and overstatement of fixed assets.\\n(Sample extracted 2025-07-23)'}), ('1753261673515-0', {'control_id': 'CTRL005', 'doc_name': 'CTRL005_COMPLIANCE.txt', 'para_idx': '0', 'text': '[Control Narrative]\\nAll SCADA access logs must be retained for seven years.\\n\\n[Testing Evidence]\\nLog retention policy set to 365\\xa0days; oldest log available dated\\n2025-07-23 minus 361\\xa0days.\\n\\n[Implication]\\nViolates NERC\\xa0CIP‑007‑6 R4; possible mandatory mitigation and penalties.'}), ('1753261673515-1', {'control_id': 'CTRL004', 'doc_name': 'CTRL004_FINANCE.txt', 'para_idx': '0', 'text': '[Control Narrative]\\nMonthly depreciation runs use a system‑generated economic life matrix.\\n\\n[Testing Evidence]\\nThe matrix still contains legacy assets with 35‑year lives which should\\nhave been revised to 25\\xa0years under IFRS\\xa016.\\n\\n[Implication]\\nUnder‑depreciation may overstate 2025\\xa0EBITDA by up to $450\\u202fk.'}), ('1753261673515-2', {'control_id': 'CTRL003', 'doc_name': 'CTRL003_MIXED.txt', 'para_idx': '0', 'text': '[Control Narrative]\\nEnergy trading deals above 75\\u202fMWh require same‑day confirmation by the\\nRisk Management desk.\\n\\n[Testing Evidence]\\nTwo trades (Deal\\xa0IDs\\xa0TX412 & TX415) >\\xa0$1\\u202fM each remained unconfirmed for\\nthree days due to holiday staffing gaps.\\n\\n[Implication]\\n• Financial: valuation uncertainty may misstate P&L by >\\xa0$300\\u202fk.\\n• Compliance: breach of ISO\\xa037001 “timely confirmation” clause.'}), ('1753261673516-0', {'control_id': 'CTRL002', 'doc_name': 'CTRL002_COMPLIANCE.txt', 'para_idx': '0', 'text': '[Control Narrative]\\nEmployees handling SF6 gas must hold a current EPA\\xa0608 certificate.\\n\\n[Testing Evidence]\\nTen out of 42 maintenance staff have certificates expired >\\xa090\\u202fdays.\\n\\n[Implication]\\nNon‑compliance with US\\xa0EPA Subpart\\xa0LL; risk of regulatory fines.'}), ('1753261811187-0', {'control_id': 'CTRL001', 'doc_name': 'CTRL001_FINANCE.txt', 'para_idx': '0', 'text': '[Control Narrative]\\nAll capital expenditure above $50\\u202fk must be approved by both the Plant\\nManager and the Finance Controller before booking.\\n\\n[Testing Evidence]\\n• PO\\xa0#5312 for a 15\\u202fkV circuit breaker ($62\\u202f880) was approved only by\\n  the Plant Manager.\\n\\n[Implication]\\nPotential mis‑classification of CapEx and overstatement of fixed assets.\\n(Sample extracted 2025-07-23)'}), ('1753261811188-0', {'control_id': 'CTRL005', 'doc_name': 'CTRL005_COMPLIANCE.txt', 'para_idx': '0', 'text': '[Control Narrative]\\nAll SCADA access logs must be retained for seven years.\\n\\n[Testing Evidence]\\nLog retention policy set to 365\\xa0days; oldest log available dated\\n2025-07-23 minus 361\\xa0days.\\n\\n[Implication]\\nViolates NERC\\xa0CIP‑007‑6 R4; possible mandatory mitigation and penalties.'}), ('1753261811188-1', {'control_id': 'CTRL004', 'doc_name': 'CTRL004_FINANCE.txt', 'para_idx': '0', 'text': '[Control Narrative]\\nMonthly depreciation runs use a system‑generated economic life matrix.\\n\\n[Testing Evidence]\\nThe matrix still contains legacy assets with 35‑year lives which should\\nhave been revised to 25\\xa0years under IFRS\\xa016.\\n\\n[Implication]\\nUnder‑depreciation may overstate 2025\\xa0EBITDA by up to $450\\u202fk.'}), ('1753261811188-2', {'control_id': 'CTRL003', 'doc_name': 'CTRL003_MIXED.txt', 'para_idx': '0', 'text': '[Control Narrative]\\nEnergy trading deals above 75\\u202fMWh require same‑day confirmation by the\\nRisk Management desk.\\n\\n[Testing Evidence]\\nTwo trades (Deal\\xa0IDs\\xa0TX412 & TX415) >\\xa0$1\\u202fM each remained unconfirmed for\\nthree days due to holiday staffing gaps.\\n\\n[Implication]\\n• Financial: valuation uncertainty may misstate P&L by >\\xa0$300\\u202fk.\\n• Compliance: breach of ISO\\xa037001 “timely confirmation” clause.'}), ('1753261811189-0', {'control_id': 'CTRL002', 'doc_name': 'CTRL002_COMPLIANCE.txt', 'para_idx': '0', 'text': '[Control Narrative]\\nEmployees handling SF6 gas must hold a current EPA\\xa0608 certificate.\\n\\n[Testing Evidence]\\nTen out of 42 maintenance staff have certificates expired >\\xa090\\u202fdays.\\n\\n[Implication]\\nNon‑compliance with US\\xa0EPA Subpart\\xa0LL; risk of regulatory fines.'}), ('1753262024866-0', {'control_id': 'CTRL001', 'doc_name': 'CTRL001_FINANCE.txt', 'para_idx': '0', 'text': '[Control Narrative]\\nAll capital expenditure above $50\\u202fk must be approved by both the Plant\\nManager and the Finance Controller before booking.\\n\\n[Testing Evidence]\\n• PO\\xa0#5312 for a 15\\u202fkV circuit breaker ($62\\u202f880) was approved only by\\n  the Plant Manager.\\n\\n[Implication]\\nPotential mis‑classification of CapEx and overstatement of fixed assets.\\n(Sample extracted 2025-07-23)'}), ('1753262024867-0', {'control_id': 'CTRL005', 'doc_name': 'CTRL005_COMPLIANCE.txt', 'para_idx': '0', 'text': '[Control Narrative]\\nAll SCADA access logs must be retained for seven years.\\n\\n[Testing Evidence]\\nLog retention policy set to 365\\xa0days; oldest log available dated\\n2025-07-23 minus 361\\xa0days.\\n\\n[Implication]\\nViolates NERC\\xa0CIP‑007‑6 R4; possible mandatory mitigation and penalties.'}), ('1753262024868-0', {'control_id': 'CTRL004', 'doc_name': 'CTRL004_FINANCE.txt', 'para_idx': '0', 'text': '[Control Narrative]\\nMonthly depreciation runs use a system‑generated economic life matrix.\\n\\n[Testing Evidence]\\nThe matrix still contains legacy assets with 35‑year lives which should\\nhave been revised to 25\\xa0years under IFRS\\xa016.\\n\\n[Implication]\\nUnder‑depreciation may overstate 2025\\xa0EBITDA by up to $450\\u202fk.'}), ('1753262024868-1', {'control_id': 'CTRL003', 'doc_name': 'CTRL003_MIXED.txt', 'para_idx': '0', 'text': '[Control Narrative]\\nEnergy trading deals above 75\\u202fMWh require same‑day confirmation by the\\nRisk Management desk.\\n\\n[Testing Evidence]\\nTwo trades (Deal\\xa0IDs\\xa0TX412 & TX415) >\\xa0$1\\u202fM each remained unconfirmed for\\nthree days due to holiday staffing gaps.\\n\\n[Implication]\\n• Financial: valuation uncertainty may misstate P&L by >\\xa0$300\\u202fk.\\n• Compliance: breach of ISO\\xa037001 “timely confirmation” clause.'}), ('1753262024868-2', {'control_id': 'CTRL002', 'doc_name': 'CTRL002_COMPLIANCE.txt', 'para_idx': '0', 'text': '[Control Narrative]\\nEmployees handling SF6 gas must hold a current EPA\\xa0608 certificate.\\n\\n[Testing Evidence]\\nTen out of 42 maintenance staff have certificates expired >\\xa090\\u202fdays.\\n\\n[Implication]\\nNon‑compliance with US\\xa0EPA Subpart\\xa0LL; risk of regulatory fines.'})]\n",
            "✅ Comp‑Risk analysed 3 new paragraphs.\n",
            "This is the High and this is the High \n",
            "✅ Resolver merged 1 controls: ['CTRL003']\n"
          ]
        },
        {
          "output_type": "execute_result",
          "data": {
            "text/plain": [
              "{'folder': '/content/workpapers',\n",
              " 'processed': 5,\n",
              " 'fin_last_id': '1753262024868-2',\n",
              " 'fin_scored': 3,\n",
              " 'comp_last_id': '1753262024868-0',\n",
              " 'comp_scored': 3,\n",
              " 'resolved': ['CTRL003']}"
            ]
          },
          "metadata": {},
          "execution_count": 31
        }
      ]
    },
    {
      "cell_type": "code",
      "source": [
        "\n",
        "from IPython.display import Image, display\n",
        "\n",
        "try:\n",
        "    display(Image(audit_graph .get_graph().draw_mermaid_png()))\n",
        "except Exception:\n",
        "    # This requires some extra dependencies and is optional\n",
        "    raise(Exception)\n"
      ],
      "metadata": {
        "id": "-K9NuhN1NX8i",
        "colab": {
          "base_uri": "https://localhost:8080/",
          "height": 548
        },
        "outputId": "9c836805-c5b9-41fc-8c8e-b2e202d9a801"
      },
      "execution_count": 32,
      "outputs": [
        {
          "output_type": "display_data",
          "data": {
            "image/png": "[encoded data removed]",
            "text/plain": [
              "<IPython.core.display.Image object>"
            ]
          },
          "metadata": {}
        }
      ]
    },
    {
      "cell_type": "code",
      "source": [
        "import redis, pandas as pd, pprint\n",
        "from langchain.text_splitter import RecursiveCharacterTextSplitter\n",
        "\n",
        "# ── 1. Pull all risk hashes into a DataFrame ─────────────────────\n",
        "r = redis.Redis(host=\"localhost\", port=6379, db=0, decode_responses=True)\n",
        "\n",
        "rows = []\n",
        "for hkey in r.scan_iter(\"risk:*\"):\n",
        "    ctrl_id = hkey.split(\"risk:\")[1]\n",
        "    h = r.hgetall(hkey)\n",
        "    rows.append({\n",
        "        \"control_id\":      ctrl_id,\n",
        "        \"finance.level\":   h.get(\"finance.level\"),\n",
        "        \"compliance.level\":h.get(\"compliance.level\"),\n",
        "        \"final.level\":     h.get(\"final.level\"),\n",
        "        \"final.rationale\": h.get(\"final.rationale\", \"\")[:120] + \"…\",\n",
        "    })\n",
        "\n",
        "df = pd.DataFrame(rows).sort_values(\"control_id\").reset_index(drop=True)\n",
        "pd.set_option(\"display.max_colwidth\", None)\n",
        "display(df)                  # Colab shows a nice table\n",
        "\n",
        "# ── 2. Semantic search helper over Chroma ────────────────────────\n",
        "def semantic_search(query: str, k: int = 3):\n",
        "    print(f\"\\n🔎 Top {k} hits for: “{query}”\")\n",
        "    res = coll.query(\n",
        "        query_texts=[query],\n",
        "        n_results=k,\n",
        "        include=[\"documents\", \"metadatas\", \"distances\"],\n",
        "    )\n",
        "    for doc, meta, dist in zip(\n",
        "        res[\"documents\"][0], res[\"metadatas\"][0], res[\"distances\"][0]\n",
        "    ):\n",
        "        print(f\"\\n— Distance {dist:.3f} | Control {meta.get('control_id')}\")\n",
        "        pprint.pprint(doc)\n",
        "\n",
        "# Example query:\n",
        "semantic_search(\"GDPR violation overdue certificates\", k=2)\n"
      ],
      "metadata": {
        "id": "es5e_K7iIrb-",
        "colab": {
          "base_uri": "https://localhost:8080/",
          "height": 712
        },
        "outputId": "bac54e02-1fd8-40c2-fcd0-1d40cb1bd518"
      },
      "execution_count": 28,
      "outputs": [
        {
          "output_type": "display_data",
          "data": {
            "text/plain": [
              "  control_id finance.level compliance.level final.level  \\\n",
              "0    CTRL001          High             None        None   \n",
              "1    CTRL002          None             High        None   \n",
              "2    CTRL003          High             High        High   \n",
              "3    CTRL004          High             None        None   \n",
              "4    CTRL005          None             High        None   \n",
              "\n",
              "                                                                                                             final.rationale  \n",
              "0                                                                                                                          …  \n",
              "1                                                                                                                          …  \n",
              "2  The unconfirmed trades worth over $1M each and valued over $300k collectively, remaining unconfirmed for three days due …  \n",
              "3                                                                                                                          …  \n",
              "4                                                                                                                          …  "
            ],
            "text/html": [
              "\n",
              "  <div id=\"df-1ecda55c-b1c1-49e1-8eca-956e6b6b487f\" class=\"colab-df-container\">\n",
              "    <div>\n",
              "<style scoped>\n",
              "    .dataframe tbody tr th:only-of-type {\n",
              "        vertical-align: middle;\n",
              "    }\n",
              "\n",
              "    .dataframe tbody tr th {\n",
              "        vertical-align: top;\n",
              "    }\n",
              "\n",
              "    .dataframe thead th {\n",
              "        text-align: right;\n",
              "    }\n",
              "</style>\n",
              "<table border=\"1\" class=\"dataframe\">\n",
              "  <thead>\n",
              "    <tr style=\"text-align: right;\">\n",
              "      <th></th>\n",
              "      <th>control_id</th>\n",
              "      <th>finance.level</th>\n",
              "      <th>compliance.level</th>\n",
              "      <th>final.level</th>\n",
              "      <th>final.rationale</th>\n",
              "    </tr>\n",
              "  </thead>\n",
              "  <tbody>\n",
              "    <tr>\n",
              "      <th>0</th>\n",
              "      <td>CTRL001</td>\n",
              "      <td>High</td>\n",
              "      <td>None</td>\n",
              "      <td>None</td>\n",
              "      <td>…</td>\n",
              "    </tr>\n",
              "    <tr>\n",
              "      <th>1</th>\n",
              "      <td>CTRL002</td>\n",
              "      <td>None</td>\n",
              "      <td>High</td>\n",
              "      <td>None</td>\n",
              "      <td>…</td>\n",
              "    </tr>\n",
              "    <tr>\n",
              "      <th>2</th>\n",
              "      <td>CTRL003</td>\n",
              "      <td>High</td>\n",
              "      <td>High</td>\n",
              "      <td>High</td>\n",
              "      <td>The unconfirmed trades worth over $1M each and valued over $300k collectively, remaining unconfirmed for three days due …</td>\n",
              "    </tr>\n",
              "    <tr>\n",
              "      <th>3</th>\n",
              "      <td>CTRL004</td>\n",
              "      <td>High</td>\n",
              "      <td>None</td>\n",
              "      <td>None</td>\n",
              "      <td>…</td>\n",
              "    </tr>\n",
              "    <tr>\n",
              "      <th>4</th>\n",
              "      <td>CTRL005</td>\n",
              "      <td>None</td>\n",
              "      <td>High</td>\n",
              "      <td>None</td>\n",
              "      <td>…</td>\n",
              "    </tr>\n",
              "  </tbody>\n",
              "</table>\n",
              "</div>\n",
              "    <div class=\"colab-df-buttons\">\n",
              "\n",
              "  <div class=\"colab-df-container\">\n",
              "    <button class=\"colab-df-convert\" onclick=\"convertToInteractive('df-1ecda55c-b1c1-49e1-8eca-956e6b6b487f')\"\n",
              "            title=\"Convert this dataframe to an interactive table.\"\n",
              "            style=\"display:none;\">\n",
              "\n",
              "  <svg xmlns=\"http://www.w3.org/2000/svg\" height=\"24px\" viewBox=\"0 -960 960 960\">\n",
              "    <path d=\"M120-120v-720h720v720H120Zm60-500h600v-160H180v160Zm220 220h160v-160H400v160Zm0 220h160v-160H400v160ZM180-400h160v-160H180v160Zm440 0h160v-160H620v160ZM180-180h160v-160H180v160Zm440 0h160v-160H620v160Z\"/>\n",
              "  </svg>\n",
              "    </button>\n",
              "\n",
              "  <style>\n",
              "    .colab-df-container {\n",
              "      display:flex;\n",
              "      gap: 12px;\n",
              "    }\n",
              "\n",
              "    .colab-df-convert {\n",
              "      background-color: #E8F0FE;\n",
              "      border: none;\n",
              "      border-radius: 50%;\n",
              "      cursor: pointer;\n",
              "      display: none;\n",
              "      fill: #1967D2;\n",
              "      height: 32px;\n",
              "      padding: 0 0 0 0;\n",
              "      width: 32px;\n",
              "    }\n",
              "\n",
              "    .colab-df-convert:hover {\n",
              "      background-color: #E2EBFA;\n",
              "      box-shadow: 0px 1px 2px rgba(60, 64, 67, 0.3), 0px 1px 3px 1px rgba(60, 64, 67, 0.15);\n",
              "      fill: #174EA6;\n",
              "    }\n",
              "\n",
              "    .colab-df-buttons div {\n",
              "      margin-bottom: 4px;\n",
              "    }\n",
              "\n",
              "    [theme=dark] .colab-df-convert {\n",
              "      background-color: #3B4455;\n",
              "      fill: #D2E3FC;\n",
              "    }\n",
              "\n",
              "    [theme=dark] .colab-df-convert:hover {\n",
              "      background-color: #434B5C;\n",
              "      box-shadow: 0px 1px 3px 1px rgba(0, 0, 0, 0.15);\n",
              "      filter: drop-shadow(0px 1px 2px rgba(0, 0, 0, 0.3));\n",
              "      fill: #FFFFFF;\n",
              "    }\n",
              "  </style>\n",
              "\n",
              "    <script>\n",
              "      const buttonEl =\n",
              "        document.querySelector('#df-1ecda55c-b1c1-49e1-8eca-956e6b6b487f button.colab-df-convert');\n",
              "      buttonEl.style.display =\n",
              "        google.colab.kernel.accessAllowed ? 'block' : 'none';\n",
              "\n",
              "      async function convertToInteractive(key) {\n",
              "        const element = document.querySelector('#df-1ecda55c-b1c1-49e1-8eca-956e6b6b487f');\n",
              "        const dataTable =\n",
              "          await google.colab.kernel.invokeFunction('convertToInteractive',\n",
              "                                                    [key], {});\n",
              "        if (!dataTable) return;\n",
              "\n",
              "        const docLinkHtml = 'Like what you see? Visit the ' +\n",
              "          '<a target=\"_blank\" href=https://colab.research.google.com/notebooks/data_table.ipynb>data table notebook</a>'\n",
              "          + ' to learn more about interactive tables.';\n",
              "        element.innerHTML = '';\n",
              "        dataTable['output_type'] = 'display_data';\n",
              "        await google.colab.output.renderOutput(dataTable, element);\n",
              "        const docLink = document.createElement('div');\n",
              "        docLink.innerHTML = docLinkHtml;\n",
              "        element.appendChild(docLink);\n",
              "      }\n",
              "    </script>\n",
              "  </div>\n",
              "\n",
              "\n",
              "    <div id=\"df-09c356a7-1a1c-4e5d-8451-1cfebbc14d7b\">\n",
              "      <button class=\"colab-df-quickchart\" onclick=\"quickchart('df-09c356a7-1a1c-4e5d-8451-1cfebbc14d7b')\"\n",
              "                title=\"Suggest charts\"\n",
              "                style=\"display:none;\">\n",
              "\n",
              "<svg xmlns=\"http://www.w3.org/2000/svg\" height=\"24px\"viewBox=\"0 0 24 24\"\n",
              "     width=\"24px\">\n",
              "    <g>\n",
              "        <path d=\"M19 3H5c-1.1 0-2 .9-2 2v14c0 1.1.9 2 2 2h14c1.1 0 2-.9 2-2V5c0-1.1-.9-2-2-2zM9 17H7v-7h2v7zm4 0h-2V7h2v10zm4 0h-2v-4h2v4z\"/>\n",
              "    </g>\n",
              "</svg>\n",
              "      </button>\n",
              "\n",
              "<style>\n",
              "  .colab-df-quickchart {\n",
              "      --bg-color: #E8F0FE;\n",
              "      --fill-color: #1967D2;\n",
              "      --hover-bg-color: #E2EBFA;\n",
              "      --hover-fill-color: #174EA6;\n",
              "      --disabled-fill-color: #AAA;\n",
              "      --disabled-bg-color: #DDD;\n",
              "  }\n",
              "\n",
              "  [theme=dark] .colab-df-quickchart {\n",
              "      --bg-color: #3B4455;\n",
              "      --fill-color: #D2E3FC;\n",
              "      --hover-bg-color: #434B5C;\n",
              "      --hover-fill-color: #FFFFFF;\n",
              "      --disabled-bg-color: #3B4455;\n",
              "      --disabled-fill-color: #666;\n",
              "  }\n",
              "\n",
              "  .colab-df-quickchart {\n",
              "    background-color: var(--bg-color);\n",
              "    border: none;\n",
              "    border-radius: 50%;\n",
              "    cursor: pointer;\n",
              "    display: none;\n",
              "    fill: var(--fill-color);\n",
              "    height: 32px;\n",
              "    padding: 0;\n",
              "    width: 32px;\n",
              "  }\n",
              "\n",
              "  .colab-df-quickchart:hover {\n",
              "    background-color: var(--hover-bg-color);\n",
              "    box-shadow: 0 1px 2px rgba(60, 64, 67, 0.3), 0 1px 3px 1px rgba(60, 64, 67, 0.15);\n",
              "    fill: var(--button-hover-fill-color);\n",
              "  }\n",
              "\n",
              "  .colab-df-quickchart-complete:disabled,\n",
              "  .colab-df-quickchart-complete:disabled:hover {\n",
              "    background-color: var(--disabled-bg-color);\n",
              "    fill: var(--disabled-fill-color);\n",
              "    box-shadow: none;\n",
              "  }\n",
              "\n",
              "  .colab-df-spinner {\n",
              "    border: 2px solid var(--fill-color);\n",
              "    border-color: transparent;\n",
              "    border-bottom-color: var(--fill-color);\n",
              "    animation:\n",
              "      spin 1s steps(1) infinite;\n",
              "  }\n",
              "\n",
              "  @keyframes spin {\n",
              "    0% {\n",
              "      border-color: transparent;\n",
              "      border-bottom-color: var(--fill-color);\n",
              "      border-left-color: var(--fill-color);\n",
              "    }\n",
              "    20% {\n",
              "      border-color: transparent;\n",
              "      border-left-color: var(--fill-color);\n",
              "      border-top-color: var(--fill-color);\n",
              "    }\n",
              "    30% {\n",
              "      border-color: transparent;\n",
              "      border-left-color: var(--fill-color);\n",
              "      border-top-color: var(--fill-color);\n",
              "      border-right-color: var(--fill-color);\n",
              "    }\n",
              "    40% {\n",
              "      border-color: transparent;\n",
              "      border-right-color: var(--fill-color);\n",
              "      border-top-color: var(--fill-color);\n",
              "    }\n",
              "    60% {\n",
              "      border-color: transparent;\n",
              "      border-right-color: var(--fill-color);\n",
              "    }\n",
              "    80% {\n",
              "      border-color: transparent;\n",
              "      border-right-color: var(--fill-color);\n",
              "      border-bottom-color: var(--fill-color);\n",
              "    }\n",
              "    90% {\n",
              "      border-color: transparent;\n",
              "      border-bottom-color: var(--fill-color);\n",
              "    }\n",
              "  }\n",
              "</style>\n",
              "\n",
              "      <script>\n",
              "        async function quickchart(key) {\n",
              "          const quickchartButtonEl =\n",
              "            document.querySelector('#' + key + ' button');\n",
              "          quickchartButtonEl.disabled = true;  // To prevent multiple clicks.\n",
              "          quickchartButtonEl.classList.add('colab-df-spinner');\n",
              "          try {\n",
              "            const charts = await google.colab.kernel.invokeFunction(\n",
              "                'suggestCharts', [key], {});\n",
              "          } catch (error) {\n",
              "            console.error('Error during call to suggestCharts:', error);\n",
              "          }\n",
              "          quickchartButtonEl.classList.remove('colab-df-spinner');\n",
              "          quickchartButtonEl.classList.add('colab-df-quickchart-complete');\n",
              "        }\n",
              "        (() => {\n",
              "          let quickchartButtonEl =\n",
              "            document.querySelector('#df-09c356a7-1a1c-4e5d-8451-1cfebbc14d7b button');\n",
              "          quickchartButtonEl.style.display =\n",
              "            google.colab.kernel.accessAllowed ? 'block' : 'none';\n",
              "        })();\n",
              "      </script>\n",
              "    </div>\n",
              "\n",
              "  <div id=\"id_69923e4c-b07c-4a44-b142-32fadc8144de\">\n",
              "    <style>\n",
              "      .colab-df-generate {\n",
              "        background-color: #E8F0FE;\n",
              "        border: none;\n",
              "        border-radius: 50%;\n",
              "        cursor: pointer;\n",
              "        display: none;\n",
              "        fill: #1967D2;\n",
              "        height: 32px;\n",
              "        padding: 0 0 0 0;\n",
              "        width: 32px;\n",
              "      }\n",
              "\n",
              "      .colab-df-generate:hover {\n",
              "        background-color: #E2EBFA;\n",
              "        box-shadow: 0px 1px 2px rgba(60, 64, 67, 0.3), 0px 1px 3px 1px rgba(60, 64, 67, 0.15);\n",
              "        fill: #174EA6;\n",
              "      }\n",
              "\n",
              "      [theme=dark] .colab-df-generate {\n",
              "        background-color: #3B4455;\n",
              "        fill: #D2E3FC;\n",
              "      }\n",
              "\n",
              "      [theme=dark] .colab-df-generate:hover {\n",
              "        background-color: #434B5C;\n",
              "        box-shadow: 0px 1px 3px 1px rgba(0, 0, 0, 0.15);\n",
              "        filter: drop-shadow(0px 1px 2px rgba(0, 0, 0, 0.3));\n",
              "        fill: #FFFFFF;\n",
              "      }\n",
              "    </style>\n",
              "    <button class=\"colab-df-generate\" onclick=\"generateWithVariable('df')\"\n",
              "            title=\"Generate code using this dataframe.\"\n",
              "            style=\"display:none;\">\n",
              "\n",
              "  <svg xmlns=\"http://www.w3.org/2000/svg\" height=\"24px\"viewBox=\"0 0 24 24\"\n",
              "       width=\"24px\">\n",
              "    <path d=\"M7,19H8.4L18.45,9,17,7.55,7,17.6ZM5,21V16.75L18.45,3.32a2,2,0,0,1,2.83,0l1.4,1.43a1.91,1.91,0,0,1,.58,1.4,1.91,1.91,0,0,1-.58,1.4L9.25,21ZM18.45,9,17,7.55Zm-12,3A5.31,5.31,0,0,0,4.9,8.1,5.31,5.31,0,0,0,1,6.5,5.31,5.31,0,0,0,4.9,4.9,5.31,5.31,0,0,0,6.5,1,5.31,5.31,0,0,0,8.1,4.9,5.31,5.31,0,0,0,12,6.5,5.46,5.46,0,0,0,6.5,12Z\"/>\n",
              "  </svg>\n",
              "    </button>\n",
              "    <script>\n",
              "      (() => {\n",
              "      const buttonEl =\n",
              "        document.querySelector('#id_69923e4c-b07c-4a44-b142-32fadc8144de button.colab-df-generate');\n",
              "      buttonEl.style.display =\n",
              "        google.colab.kernel.accessAllowed ? 'block' : 'none';\n",
              "\n",
              "      buttonEl.onclick = () => {\n",
              "        google.colab.notebook.generateWithVariable('df');\n",
              "      }\n",
              "      })();\n",
              "    </script>\n",
              "  </div>\n",
              "\n",
              "    </div>\n",
              "  </div>\n"
            ],
            "application/vnd.google.colaboratory.intrinsic+json": {
              "type": "dataframe",
              "variable_name": "df",
              "summary": "{\n  \"name\": \"df\",\n  \"rows\": 5,\n  \"fields\": [\n    {\n      \"column\": \"control_id\",\n      \"properties\": {\n        \"dtype\": \"string\",\n        \"num_unique_values\": 5,\n        \"samples\": [\n          \"CTRL002\",\n          \"CTRL005\",\n          \"CTRL003\"\n        ],\n        \"semantic_type\": \"\",\n        \"description\": \"\"\n      }\n    },\n    {\n      \"column\": \"finance.level\",\n      \"properties\": {\n        \"dtype\": \"category\",\n        \"num_unique_values\": 1,\n        \"samples\": [\n          \"High\"\n        ],\n        \"semantic_type\": \"\",\n        \"description\": \"\"\n      }\n    },\n    {\n      \"column\": \"compliance.level\",\n      \"properties\": {\n        \"dtype\": \"category\",\n        \"num_unique_values\": 1,\n        \"samples\": [\n          \"High\"\n        ],\n        \"semantic_type\": \"\",\n        \"description\": \"\"\n      }\n    },\n    {\n      \"column\": \"final.level\",\n      \"properties\": {\n        \"dtype\": \"category\",\n        \"num_unique_values\": 1,\n        \"samples\": [\n          \"High\"\n        ],\n        \"semantic_type\": \"\",\n        \"description\": \"\"\n      }\n    },\n    {\n      \"column\": \"final.rationale\",\n      \"properties\": {\n        \"dtype\": \"category\",\n        \"num_unique_values\": 2,\n        \"samples\": [\n          \"The unconfirmed trades worth over $1M each and valued over $300k collectively, remaining unconfirmed for three days due \\u2026\"\n        ],\n        \"semantic_type\": \"\",\n        \"description\": \"\"\n      }\n    }\n  ]\n}"
            }
          },
          "metadata": {}
        },
        {
          "output_type": "stream",
          "name": "stdout",
          "text": [
            "\n",
            "🔎 Top 2 hits for: “GDPR violation overdue certificates”\n",
            "\n",
            "— Distance 1.110 | Control CTRL002\n",
            "('[Control Narrative]\\n'\n",
            " 'Employees handling SF6 gas must hold a current EPA\\xa0608 certificate.\\n'\n",
            " '\\n'\n",
            " '[Testing Evidence]\\n'\n",
            " 'Ten out of 42 maintenance staff have certificates expired >\\xa090\\u202f'\n",
            " 'days.\\n'\n",
            " '\\n'\n",
            " '[Implication]\\n'\n",
            " 'Non‑compliance with US\\xa0EPA Subpart\\xa0LL; risk of regulatory fines.')\n",
            "\n",
            "— Distance 1.472 | Control CTRL003\n",
            "('[Control Narrative]\\n'\n",
            " 'Energy trading deals above 75\\u202fMWh require same‑day confirmation by the\\n'\n",
            " 'Risk Management desk.\\n'\n",
            " '\\n'\n",
            " '[Testing Evidence]\\n'\n",
            " 'Two trades (Deal\\xa0IDs\\xa0TX412 & TX415) >\\xa0$1\\u202fM each remained '\n",
            " 'unconfirmed for\\n'\n",
            " 'three days due to holiday staffing gaps.\\n'\n",
            " '\\n'\n",
            " '[Implication]\\n'\n",
            " '• Financial: valuation uncertainty may misstate P&L by >\\xa0$300\\u202fk.\\n'\n",
            " '• Compliance: breach of ISO\\xa037001 “timely confirmation” clause.')\n"
          ]
        }
      ]
    },
    {
      "cell_type": "code",
      "source": [
        "# 1. How many paragraph events?\n",
        "r.xlen(\"para_ready\")\n",
        "\n",
        "# 2. Look at one merged hash\n",
        "r.hgetall(\"risk:CTRL003\")\n",
        "\n",
        "# 3. Confirm merged rationale stored in Chroma\n",
        "coll.count(), coll.get(ids=[\"CTRL003_final\"])\n"
      ],
      "metadata": {
        "id": "kdfwNB8kKqcx",
        "colab": {
          "base_uri": "https://localhost:8080/"
        },
        "outputId": "ad143317-5bcd-4cb6-e9d4-49dbe70bb82c"
      },
      "execution_count": 26,
      "outputs": [
        {
          "output_type": "execute_result",
          "data": {
            "text/plain": [
              "(6,\n",
              " {'ids': ['CTRL003_final'],\n",
              "  'embeddings': None,\n",
              "  'documents': [\"The unconfirmed trades worth over $1M each and valued over $300k collectively, remaining unconfirmed for three days due to holiday staffing gaps, pose a significant risk of material financial misstatement. This could result in valuation uncertainty and potential misstatement of P&L. Additionally, there is a compliance risk as this situation may represent a breach of ISO 37001 'timely confirmation' clause.\"],\n",
              "  'uris': None,\n",
              "  'included': ['metadatas', 'documents'],\n",
              "  'data': None,\n",
              "  'metadatas': [{'type': 'merged', 'control_id': 'CTRL003'}]})"
            ]
          },
          "metadata": {},
          "execution_count": 26
        }
      ]
    },
    {
      "cell_type": "code",
      "source": [
        "x = [('1753252805802-0', {'control_id': 'CTRL001', 'doc_name': 'CTRL001_FINANCE.txt', 'para_idx': '0', 'text': '[Control Narrative]\\nAll capital expenditure above $50\\u202fk must be approved by both the Plant\\nManager and the Finance Controller before booking.\\n\\n[Testing Evidence]\\n• PO\\xa0#5312 for a 15\\u202fkV circuit breaker ($62\\u202f880) was approved only by\\n  the Plant Manager.\\n\\n[Implication]\\nPotential mis‑classification of CapEx and overstatement of fixed assets.\\n(Sample extracted 2025-07-23)'}), ('1753252805803-0', {'control_id': 'CTRL005', 'doc_name': 'CTRL005_COMPLIANCE.txt', 'para_idx': '0', 'text': '[Control Narrative]\\nAll SCADA access logs must be retained for seven years.\\n\\n[Testing Evidence]\\nLog retention policy set to 365\\xa0days; oldest log available dated\\n2025-07-23 minus 361\\xa0days.\\n\\n[Implication]\\nViolates NERC\\xa0CIP‑007‑6 R4; possible mandatory mitigation and penalties.'}), ('1753252805804-0', {'control_id': 'CTRL004', 'doc_name': 'CTRL004_FINANCE.txt', 'para_idx': '0', 'text': '[Control Narrative]\\nMonthly depreciation runs use a system‑generated economic life matrix.\\n\\n[Testing Evidence]\\nThe matrix still contains legacy assets with 35‑year lives which should\\nhave been revised to 25\\xa0years under IFRS\\xa016.\\n\\n[Implication]\\nUnder‑depreciation may overstate 2025\\xa0EBITDA by up to $450\\u202fk.'}), ('1753252805804-1', {'control_id': 'CTRL003', 'doc_name': 'CTRL003_MIXED.txt', 'para_idx': '0', 'text': '[Control Narrative]\\nEnergy trading deals above 75\\u202fMWh require same‑day confirmation by the\\nRisk Management desk.\\n\\n[Testing Evidence]\\nTwo trades (Deal\\xa0IDs\\xa0TX412 & TX415) >\\xa0$1\\u202fM each remained unconfirmed for\\nthree days due to holiday staffing gaps.\\n\\n[Implication]\\n• Financial: valuation uncertainty may misstate P&L by >\\xa0$300\\u202fk.\\n• Compliance: breach of ISO\\xa037001 “timely confirmation” clause.'}), ('1753252805805-0', {'control_id': 'CTRL002', 'doc_name': 'CTRL002_COMPLIANCE.txt', 'para_idx': '0', 'text': '[Control Narrative]\\nEmployees handling SF6 gas must hold a current EPA\\xa0608 certificate.\\n\\n[Testing Evidence]\\nTen out of 42 maintenance staff have certificates expired >\\xa090\\u202fdays.\\n\\n[Implication]\\nNon‑compliance with US\\xa0EPA Subpart\\xa0LL; risk of regulatory fines.'}), ('1753252855184-0', {'control_id': 'CTRL001', 'doc_name': 'CTRL001_FINANCE.txt', 'para_idx': '0', 'text': '[Control Narrative]\\nAll capital expenditure above $50\\u202fk must be approved by both the Plant\\nManager and the Finance Controller before booking.\\n\\n[Testing Evidence]\\n• PO\\xa0#5312 for a 15\\u202fkV circuit breaker ($62\\u202f880) was approved only by\\n  the Plant Manager.\\n\\n[Implication]\\nPotential mis‑classification of CapEx and overstatement of fixed assets.\\n(Sample extracted 2025-07-23)'}), ('1753252855185-0', {'control_id': 'CTRL005', 'doc_name': 'CTRL005_COMPLIANCE.txt', 'para_idx': '0', 'text': '[Control Narrative]\\nAll SCADA access logs must be retained for seven years.\\n\\n[Testing Evidence]\\nLog retention policy set to 365\\xa0days; oldest log available dated\\n2025-07-23 minus 361\\xa0days.\\n\\n[Implication]\\nViolates NERC\\xa0CIP‑007‑6 R4; possible mandatory mitigation and penalties.'}), ('1753252855186-0', {'control_id': 'CTRL004', 'doc_name': 'CTRL004_FINANCE.txt', 'para_idx': '0', 'text': '[Control Narrative]\\nMonthly depreciation runs use a system‑generated economic life matrix.\\n\\n[Testing Evidence]\\nThe matrix still contains legacy assets with 35‑year lives which should\\nhave been revised to 25\\xa0years under IFRS\\xa016.\\n\\n[Implication]\\nUnder‑depreciation may overstate 2025\\xa0EBITDA by up to $450\\u202fk.'}), ('1753252855186-1', {'control_id': 'CTRL003', 'doc_name': 'CTRL003_MIXED.txt', 'para_idx': '0', 'text': '[Control Narrative]\\nEnergy trading deals above 75\\u202fMWh require same‑day confirmation by the\\nRisk Management desk.\\n\\n[Testing Evidence]\\nTwo trades (Deal\\xa0IDs\\xa0TX412 & TX415) >\\xa0$1\\u202fM each remained unconfirmed for\\nthree days due to holiday staffing gaps.\\n\\n[Implication]\\n• Financial: valuation uncertainty may misstate P&L by >\\xa0$300\\u202fk.\\n• Compliance: breach of ISO\\xa037001 “timely confirmation” clause.'}), ('1753252855186-2', {'control_id': 'CTRL002', 'doc_name': 'CTRL002_COMPLIANCE.txt', 'para_idx': '0', 'text': '[Control Narrative]\\nEmployees handling SF6 gas must hold a current EPA\\xa0608 certificate.\\n\\n[Testing Evidence]\\nTen out of 42 maintenance staff have certificates expired >\\xa090\\u202fdays.\\n\\n[Implication]\\nNon‑compliance with US\\xa0EPA Subpart\\xa0LL; risk of regulatory fines.'}), ('1753253128697-0', {'control_id': 'CTRL001', 'doc_name': 'CTRL001_FINANCE.txt', 'para_idx': '0', 'text': '[Control Narrative]\\nAll capital expenditure above $50\\u202fk must be approved by both the Plant\\nManager and the Finance Controller before booking.\\n\\n[Testing Evidence]\\n• PO\\xa0#5312 for a 15\\u202fkV circuit breaker ($62\\u202f880) was approved only by\\n  the Plant Manager.\\n\\n[Implication]\\nPotential mis‑classification of CapEx and overstatement of fixed assets.\\n(Sample extracted 2025-07-23)'}), ('1753253128698-0', {'control_id': 'CTRL005', 'doc_name': 'CTRL005_COMPLIANCE.txt', 'para_idx': '0', 'text': '[Control Narrative]\\nAll SCADA access logs must be retained for seven years.\\n\\n[Testing Evidence]\\nLog retention policy set to 365\\xa0days; oldest log available dated\\n2025-07-23 minus 361\\xa0days.\\n\\n[Implication]\\nViolates NERC\\xa0CIP‑007‑6 R4; possible mandatory mitigation and penalties.'}), ('1753253128698-1', {'control_id': 'CTRL004', 'doc_name': 'CTRL004_FINANCE.txt', 'para_idx': '0', 'text': '[Control Narrative]\\nMonthly depreciation runs use a system‑generated economic life matrix.\\n\\n[Testing Evidence]\\nThe matrix still contains legacy assets with 35‑year lives which should\\nhave been revised to 25\\xa0years under IFRS\\xa016.\\n\\n[Implication]\\nUnder‑depreciation may overstate 2025\\xa0EBITDA by up to $450\\u202fk.'}), ('1753253128699-0', {'control_id': 'CTRL003', 'doc_name': 'CTRL003_MIXED.txt', 'para_idx': '0', 'text': '[Control Narrative]\\nEnergy trading deals above 75\\u202fMWh require same‑day confirmation by the\\nRisk Management desk.\\n\\n[Testing Evidence]\\nTwo trades (Deal\\xa0IDs\\xa0TX412 & TX415) >\\xa0$1\\u202fM each remained unconfirmed for\\nthree days due to holiday staffing gaps.\\n\\n[Implication]\\n• Financial: valuation uncertainty may misstate P&L by >\\xa0$300\\u202fk.\\n• Compliance: breach of ISO\\xa037001 “timely confirmation” clause.'}), ('1753253128699-1', {'control_id': 'CTRL002', 'doc_name': 'CTRL002_COMPLIANCE.txt', 'para_idx': '0', 'text': '[Control Narrative]\\nEmployees handling SF6 gas must hold a current EPA\\xa0608 certificate.\\n\\n[Testing Evidence]\\nTen out of 42 maintenance staff have certificates expired >\\xa090\\u202fdays.\\n\\n[Implication]\\nNon‑compliance with US\\xa0EPA Subpart\\xa0LL; risk of regulatory fines.'}), ('1753253146499-0', {'control_id': 'CTRL001', 'doc_name': 'CTRL001_FINANCE.txt', 'para_idx': '0', 'text': '[Control Narrative]\\nAll capital expenditure above $50\\u202fk must be approved by both the Plant\\nManager and the Finance Controller before booking.\\n\\n[Testing Evidence]\\n• PO\\xa0#5312 for a 15\\u202fkV circuit breaker ($62\\u202f880) was approved only by\\n  the Plant Manager.\\n\\n[Implication]\\nPotential mis‑classification of CapEx and overstatement of fixed assets.\\n(Sample extracted 2025-07-23)'}), ('1753253146500-0', {'control_id': 'CTRL005', 'doc_name': 'CTRL005_COMPLIANCE.txt', 'para_idx': '0', 'text': '[Control Narrative]\\nAll SCADA access logs must be retained for seven years.\\n\\n[Testing Evidence]\\nLog retention policy set to 365\\xa0days; oldest log available dated\\n2025-07-23 minus 361\\xa0days.\\n\\n[Implication]\\nViolates NERC\\xa0CIP‑007‑6 R4; possible mandatory mitigation and penalties.'}), ('1753253146500-1', {'control_id': 'CTRL004', 'doc_name': 'CTRL004_FINANCE.txt', 'para_idx': '0', 'text': '[Control Narrative]\\nMonthly depreciation runs use a system‑generated economic life matrix.\\n\\n[Testing Evidence]\\nThe matrix still contains legacy assets with 35‑year lives which should\\nhave been revised to 25\\xa0years under IFRS\\xa016.\\n\\n[Implication]\\nUnder‑depreciation may overstate 2025\\xa0EBITDA by up to $450\\u202fk.'}), ('1753253146501-0', {'control_id': 'CTRL003', 'doc_name': 'CTRL003_MIXED.txt', 'para_idx': '0', 'text': '[Control Narrative]\\nEnergy trading deals above 75\\u202fMWh require same‑day confirmation by the\\nRisk Management desk.\\n\\n[Testing Evidence]\\nTwo trades (Deal\\xa0IDs\\xa0TX412 & TX415) >\\xa0$1\\u202fM each remained unconfirmed for\\nthree days due to holiday staffing gaps.\\n\\n[Implication]\\n• Financial: valuation uncertainty may misstate P&L by >\\xa0$300\\u202fk.\\n• Compliance: breach of ISO\\xa037001 “timely confirmation” clause.'}), ('1753253146501-1', {'control_id': 'CTRL002', 'doc_name': 'CTRL002_COMPLIANCE.txt', 'para_idx': '0', 'text': '[Control Narrative]\\nEmployees handling SF6 gas must hold a current EPA\\xa0608 certificate.\\n\\n[Testing Evidence]\\nTen out of 42 maintenance staff have certificates expired >\\xa090\\u202fdays.\\n\\n[Implication]\\nNon‑compliance with US\\xa0EPA Subpart\\xa0LL; risk of regulatory fines.'}), ('1753256369337-0', {'control_id': 'CTRL001', 'doc_name': 'CTRL001_FINANCE.txt', 'para_idx': '0', 'text': '[Control Narrative]\\nAll capital expenditure above $50\\u202fk must be approved by both the Plant\\nManager and the Finance Controller before booking.\\n\\n[Testing Evidence]\\n• PO\\xa0#5312 for a 15\\u202fkV circuit breaker ($62\\u202f880) was approved only by\\n  the Plant Manager.\\n\\n[Implication]\\nPotential mis‑classification of CapEx and overstatement of fixed assets.\\n(Sample extracted 2025-07-23)'}), ('1753256369338-0', {'control_id': 'CTRL005', 'doc_name': 'CTRL005_COMPLIANCE.txt', 'para_idx': '0', 'text': '[Control Narrative]\\nAll SCADA access logs must be retained for seven years.\\n\\n[Testing Evidence]\\nLog retention policy set to 365\\xa0days; oldest log available dated\\n2025-07-23 minus 361\\xa0days.\\n\\n[Implication]\\nViolates NERC\\xa0CIP‑007‑6 R4; possible mandatory mitigation and penalties.'}), ('1753256369338-1', {'control_id': 'CTRL004', 'doc_name': 'CTRL004_FINANCE.txt', 'para_idx': '0', 'text': '[Control Narrative]\\nMonthly depreciation runs use a system‑generated economic life matrix.\\n\\n[Testing Evidence]\\nThe matrix still contains legacy assets with 35‑year lives which should\\nhave been revised to 25\\xa0years under IFRS\\xa016.\\n\\n[Implication]\\nUnder‑depreciation may overstate 2025\\xa0EBITDA by up to $450\\u202fk.'}), ('1753256369339-0', {'control_id': 'CTRL003', 'doc_name': 'CTRL003_MIXED.txt', 'para_idx': '0', 'text': '[Control Narrative]\\nEnergy trading deals above 75\\u202fMWh require same‑day confirmation by the\\nRisk Management desk.\\n\\n[Testing Evidence]\\nTwo trades (Deal\\xa0IDs\\xa0TX412 & TX415) >\\xa0$1\\u202fM each remained unconfirmed for\\nthree days due to holiday staffing gaps.\\n\\n[Implication]\\n• Financial: valuation uncertainty may misstate P&L by >\\xa0$300\\u202fk.\\n• Compliance: breach of ISO\\xa037001 “timely confirmation” clause.'}), ('1753256369339-1', {'control_id': 'CTRL002', 'doc_name': 'CTRL002_COMPLIANCE.txt', 'para_idx': '0', 'text': '[Control Narrative]\\nEmployees handling SF6 gas must hold a current EPA\\xa0608 certificate.\\n\\n[Testing Evidence]\\nTen out of 42 maintenance staff have certificates expired >\\xa090\\u202fdays.\\n\\n[Implication]\\nNon‑compliance with US\\xa0EPA Subpart\\xa0LL; risk of regulatory fines.'}), ('1753257114412-0', {'control_id': 'CTRL001', 'doc_name': 'CTRL001_FINANCE.txt', 'para_idx': '0', 'text': '[Control Narrative]\\nAll capital expenditure above $50\\u202fk must be approved by both the Plant\\nManager and the Finance Controller before booking.\\n\\n[Testing Evidence]\\n• PO\\xa0#5312 for a 15\\u202fkV circuit breaker ($62\\u202f880) was approved only by\\n  the Plant Manager.\\n\\n[Implication]\\nPotential mis‑classification of CapEx and overstatement of fixed assets.\\n(Sample extracted 2025-07-23)'}), ('1753257114413-0', {'control_id': 'CTRL005', 'doc_name': 'CTRL005_COMPLIANCE.txt', 'para_idx': '0', 'text': '[Control Narrative]\\nAll SCADA access logs must be retained for seven years.\\n\\n[Testing Evidence]\\nLog retention policy set to 365\\xa0days; oldest log available dated\\n2025-07-23 minus 361\\xa0days.\\n\\n[Implication]\\nViolates NERC\\xa0CIP‑007‑6 R4; possible mandatory mitigation and penalties.'}), ('1753257114414-0', {'control_id': 'CTRL004', 'doc_name': 'CTRL004_FINANCE.txt', 'para_idx': '0', 'text': '[Control Narrative]\\nMonthly depreciation runs use a system‑generated economic life matrix.\\n\\n[Testing Evidence]\\nThe matrix still contains legacy assets with 35‑year lives which should\\nhave been revised to 25\\xa0years under IFRS\\xa016.\\n\\n[Implication]\\nUnder‑depreciation may overstate 2025\\xa0EBITDA by up to $450\\u202fk.'}), ('1753257114414-1', {'control_id': 'CTRL003', 'doc_name': 'CTRL003_MIXED.txt', 'para_idx': '0', 'text': '[Control Narrative]\\nEnergy trading deals above 75\\u202fMWh require same‑day confirmation by the\\nRisk Management desk.\\n\\n[Testing Evidence]\\nTwo trades (Deal\\xa0IDs\\xa0TX412 & TX415) >\\xa0$1\\u202fM each remained unconfirmed for\\nthree days due to holiday staffing gaps.\\n\\n[Implication]\\n• Financial: valuation uncertainty may misstate P&L by >\\xa0$300\\u202fk.\\n• Compliance: breach of ISO\\xa037001 “timely confirmation” clause.'}), ('1753257114414-2', {'control_id': 'CTRL002', 'doc_name': 'CTRL002_COMPLIANCE.txt', 'para_idx': '0', 'text': '[Control Narrative]\\nEmployees handling SF6 gas must hold a current EPA\\xa0608 certificate.\\n\\n[Testing Evidence]\\nTen out of 42 maintenance staff have certificates expired >\\xa090\\u202fdays.\\n\\n[Implication]\\nNon‑compliance with US\\xa0EPA Subpart\\xa0LL; risk of regulatory fines.'}), ('1753257398708-0', {'control_id': 'CTRL001', 'doc_name': 'CTRL001_FINANCE.txt', 'para_idx': '0', 'text': '[Control Narrative]\\nAll capital expenditure above $50\\u202fk must be approved by both the Plant\\nManager and the Finance Controller before booking.\\n\\n[Testing Evidence]\\n• PO\\xa0#5312 for a 15\\u202fkV circuit breaker ($62\\u202f880) was approved only by\\n  the Plant Manager.\\n\\n[Implication]\\nPotential mis‑classification of CapEx and overstatement of fixed assets.\\n(Sample extracted 2025-07-23)'}), ('1753257398710-0', {'control_id': 'CTRL005', 'doc_name': 'CTRL005_COMPLIANCE.txt', 'para_idx': '0', 'text': '[Control Narrative]\\nAll SCADA access logs must be retained for seven years.\\n\\n[Testing Evidence]\\nLog retention policy set to 365\\xa0days; oldest log available dated\\n2025-07-23 minus 361\\xa0days.\\n\\n[Implication]\\nViolates NERC\\xa0CIP‑007‑6 R4; possible mandatory mitigation and penalties.'}), ('1753257398710-1', {'control_id': 'CTRL004', 'doc_name': 'CTRL004_FINANCE.txt', 'para_idx': '0', 'text': '[Control Narrative]\\nMonthly depreciation runs use a system‑generated economic life matrix.\\n\\n[Testing Evidence]\\nThe matrix still contains legacy assets with 35‑year lives which should\\nhave been revised to 25\\xa0years under IFRS\\xa016.\\n\\n[Implication]\\nUnder‑depreciation may overstate 2025\\xa0EBITDA by up to $450\\u202fk.'}), ('1753257398710-2', {'control_id': 'CTRL003', 'doc_name': 'CTRL003_MIXED.txt', 'para_idx': '0', 'text': '[Control Narrative]\\nEnergy trading deals above 75\\u202fMWh require same‑day confirmation by the\\nRisk Management desk.\\n\\n[Testing Evidence]\\nTwo trades (Deal\\xa0IDs\\xa0TX412 & TX415) >\\xa0$1\\u202fM each remained unconfirmed for\\nthree days due to holiday staffing gaps.\\n\\n[Implication]\\n• Financial: valuation uncertainty may misstate P&L by >\\xa0$300\\u202fk.\\n• Compliance: breach of ISO\\xa037001 “timely confirmation” clause.'}), ('1753257398711-0', {'control_id': 'CTRL002', 'doc_name': 'CTRL002_COMPLIANCE.txt', 'para_idx': '0', 'text': '[Control Narrative]\\nEmployees handling SF6 gas must hold a current EPA\\xa0608 certificate.\\n\\n[Testing Evidence]\\nTen out of 42 maintenance staff have certificates expired >\\xa090\\u202fdays.\\n\\n[Implication]\\nNon‑compliance with US\\xa0EPA Subpart\\xa0LL; risk of regulatory fines.'})]\n",
        "\n",
        "for i in x:\n",
        "  print(i)"
      ],
      "metadata": {
        "id": "n8bEaO14Th8f",
        "colab": {
          "base_uri": "https://localhost:8080/"
        },
        "outputId": "7d8f62df-987a-4341-fe3c-d5addee778ac"
      },
      "execution_count": 27,
      "outputs": [
        {
          "output_type": "stream",
          "name": "stdout",
          "text": [
            "('1753252805802-0', {'control_id': 'CTRL001', 'doc_name': 'CTRL001_FINANCE.txt', 'para_idx': '0', 'text': '[Control Narrative]\\nAll capital expenditure above $50\\u202fk must be approved by both the Plant\\nManager and the Finance Controller before booking.\\n\\n[Testing Evidence]\\n• PO\\xa0#5312 for a 15\\u202fkV circuit breaker ($62\\u202f880) was approved only by\\n  the Plant Manager.\\n\\n[Implication]\\nPotential mis‑classification of CapEx and overstatement of fixed assets.\\n(Sample extracted 2025-07-23)'})\n",
            "('1753252805803-0', {'control_id': 'CTRL005', 'doc_name': 'CTRL005_COMPLIANCE.txt', 'para_idx': '0', 'text': '[Control Narrative]\\nAll SCADA access logs must be retained for seven years.\\n\\n[Testing Evidence]\\nLog retention policy set to 365\\xa0days; oldest log available dated\\n2025-07-23 minus 361\\xa0days.\\n\\n[Implication]\\nViolates NERC\\xa0CIP‑007‑6 R4; possible mandatory mitigation and penalties.'})\n",
            "('1753252805804-0', {'control_id': 'CTRL004', 'doc_name': 'CTRL004_FINANCE.txt', 'para_idx': '0', 'text': '[Control Narrative]\\nMonthly depreciation runs use a system‑generated economic life matrix.\\n\\n[Testing Evidence]\\nThe matrix still contains legacy assets with 35‑year lives which should\\nhave been revised to 25\\xa0years under IFRS\\xa016.\\n\\n[Implication]\\nUnder‑depreciation may overstate 2025\\xa0EBITDA by up to $450\\u202fk.'})\n",
            "('1753252805804-1', {'control_id': 'CTRL003', 'doc_name': 'CTRL003_MIXED.txt', 'para_idx': '0', 'text': '[Control Narrative]\\nEnergy trading deals above 75\\u202fMWh require same‑day confirmation by the\\nRisk Management desk.\\n\\n[Testing Evidence]\\nTwo trades (Deal\\xa0IDs\\xa0TX412 & TX415) >\\xa0$1\\u202fM each remained unconfirmed for\\nthree days due to holiday staffing gaps.\\n\\n[Implication]\\n• Financial: valuation uncertainty may misstate P&L by >\\xa0$300\\u202fk.\\n• Compliance: breach of ISO\\xa037001 “timely confirmation” clause.'})\n",
            "('1753252805805-0', {'control_id': 'CTRL002', 'doc_name': 'CTRL002_COMPLIANCE.txt', 'para_idx': '0', 'text': '[Control Narrative]\\nEmployees handling SF6 gas must hold a current EPA\\xa0608 certificate.\\n\\n[Testing Evidence]\\nTen out of 42 maintenance staff have certificates expired >\\xa090\\u202fdays.\\n\\n[Implication]\\nNon‑compliance with US\\xa0EPA Subpart\\xa0LL; risk of regulatory fines.'})\n",
            "('1753252855184-0', {'control_id': 'CTRL001', 'doc_name': 'CTRL001_FINANCE.txt', 'para_idx': '0', 'text': '[Control Narrative]\\nAll capital expenditure above $50\\u202fk must be approved by both the Plant\\nManager and the Finance Controller before booking.\\n\\n[Testing Evidence]\\n• PO\\xa0#5312 for a 15\\u202fkV circuit breaker ($62\\u202f880) was approved only by\\n  the Plant Manager.\\n\\n[Implication]\\nPotential mis‑classification of CapEx and overstatement of fixed assets.\\n(Sample extracted 2025-07-23)'})\n",
            "('1753252855185-0', {'control_id': 'CTRL005', 'doc_name': 'CTRL005_COMPLIANCE.txt', 'para_idx': '0', 'text': '[Control Narrative]\\nAll SCADA access logs must be retained for seven years.\\n\\n[Testing Evidence]\\nLog retention policy set to 365\\xa0days; oldest log available dated\\n2025-07-23 minus 361\\xa0days.\\n\\n[Implication]\\nViolates NERC\\xa0CIP‑007‑6 R4; possible mandatory mitigation and penalties.'})\n",
            "('1753252855186-0', {'control_id': 'CTRL004', 'doc_name': 'CTRL004_FINANCE.txt', 'para_idx': '0', 'text': '[Control Narrative]\\nMonthly depreciation runs use a system‑generated economic life matrix.\\n\\n[Testing Evidence]\\nThe matrix still contains legacy assets with 35‑year lives which should\\nhave been revised to 25\\xa0years under IFRS\\xa016.\\n\\n[Implication]\\nUnder‑depreciation may overstate 2025\\xa0EBITDA by up to $450\\u202fk.'})\n",
            "('1753252855186-1', {'control_id': 'CTRL003', 'doc_name': 'CTRL003_MIXED.txt', 'para_idx': '0', 'text': '[Control Narrative]\\nEnergy trading deals above 75\\u202fMWh require same‑day confirmation by the\\nRisk Management desk.\\n\\n[Testing Evidence]\\nTwo trades (Deal\\xa0IDs\\xa0TX412 & TX415) >\\xa0$1\\u202fM each remained unconfirmed for\\nthree days due to holiday staffing gaps.\\n\\n[Implication]\\n• Financial: valuation uncertainty may misstate P&L by >\\xa0$300\\u202fk.\\n• Compliance: breach of ISO\\xa037001 “timely confirmation” clause.'})\n",
            "('1753252855186-2', {'control_id': 'CTRL002', 'doc_name': 'CTRL002_COMPLIANCE.txt', 'para_idx': '0', 'text': '[Control Narrative]\\nEmployees handling SF6 gas must hold a current EPA\\xa0608 certificate.\\n\\n[Testing Evidence]\\nTen out of 42 maintenance staff have certificates expired >\\xa090\\u202fdays.\\n\\n[Implication]\\nNon‑compliance with US\\xa0EPA Subpart\\xa0LL; risk of regulatory fines.'})\n",
            "('1753253128697-0', {'control_id': 'CTRL001', 'doc_name': 'CTRL001_FINANCE.txt', 'para_idx': '0', 'text': '[Control Narrative]\\nAll capital expenditure above $50\\u202fk must be approved by both the Plant\\nManager and the Finance Controller before booking.\\n\\n[Testing Evidence]\\n• PO\\xa0#5312 for a 15\\u202fkV circuit breaker ($62\\u202f880) was approved only by\\n  the Plant Manager.\\n\\n[Implication]\\nPotential mis‑classification of CapEx and overstatement of fixed assets.\\n(Sample extracted 2025-07-23)'})\n",
            "('1753253128698-0', {'control_id': 'CTRL005', 'doc_name': 'CTRL005_COMPLIANCE.txt', 'para_idx': '0', 'text': '[Control Narrative]\\nAll SCADA access logs must be retained for seven years.\\n\\n[Testing Evidence]\\nLog retention policy set to 365\\xa0days; oldest log available dated\\n2025-07-23 minus 361\\xa0days.\\n\\n[Implication]\\nViolates NERC\\xa0CIP‑007‑6 R4; possible mandatory mitigation and penalties.'})\n",
            "('1753253128698-1', {'control_id': 'CTRL004', 'doc_name': 'CTRL004_FINANCE.txt', 'para_idx': '0', 'text': '[Control Narrative]\\nMonthly depreciation runs use a system‑generated economic life matrix.\\n\\n[Testing Evidence]\\nThe matrix still contains legacy assets with 35‑year lives which should\\nhave been revised to 25\\xa0years under IFRS\\xa016.\\n\\n[Implication]\\nUnder‑depreciation may overstate 2025\\xa0EBITDA by up to $450\\u202fk.'})\n",
            "('1753253128699-0', {'control_id': 'CTRL003', 'doc_name': 'CTRL003_MIXED.txt', 'para_idx': '0', 'text': '[Control Narrative]\\nEnergy trading deals above 75\\u202fMWh require same‑day confirmation by the\\nRisk Management desk.\\n\\n[Testing Evidence]\\nTwo trades (Deal\\xa0IDs\\xa0TX412 & TX415) >\\xa0$1\\u202fM each remained unconfirmed for\\nthree days due to holiday staffing gaps.\\n\\n[Implication]\\n• Financial: valuation uncertainty may misstate P&L by >\\xa0$300\\u202fk.\\n• Compliance: breach of ISO\\xa037001 “timely confirmation” clause.'})\n",
            "('1753253128699-1', {'control_id': 'CTRL002', 'doc_name': 'CTRL002_COMPLIANCE.txt', 'para_idx': '0', 'text': '[Control Narrative]\\nEmployees handling SF6 gas must hold a current EPA\\xa0608 certificate.\\n\\n[Testing Evidence]\\nTen out of 42 maintenance staff have certificates expired >\\xa090\\u202fdays.\\n\\n[Implication]\\nNon‑compliance with US\\xa0EPA Subpart\\xa0LL; risk of regulatory fines.'})\n",
            "('1753253146499-0', {'control_id': 'CTRL001', 'doc_name': 'CTRL001_FINANCE.txt', 'para_idx': '0', 'text': '[Control Narrative]\\nAll capital expenditure above $50\\u202fk must be approved by both the Plant\\nManager and the Finance Controller before booking.\\n\\n[Testing Evidence]\\n• PO\\xa0#5312 for a 15\\u202fkV circuit breaker ($62\\u202f880) was approved only by\\n  the Plant Manager.\\n\\n[Implication]\\nPotential mis‑classification of CapEx and overstatement of fixed assets.\\n(Sample extracted 2025-07-23)'})\n",
            "('1753253146500-0', {'control_id': 'CTRL005', 'doc_name': 'CTRL005_COMPLIANCE.txt', 'para_idx': '0', 'text': '[Control Narrative]\\nAll SCADA access logs must be retained for seven years.\\n\\n[Testing Evidence]\\nLog retention policy set to 365\\xa0days; oldest log available dated\\n2025-07-23 minus 361\\xa0days.\\n\\n[Implication]\\nViolates NERC\\xa0CIP‑007‑6 R4; possible mandatory mitigation and penalties.'})\n",
            "('1753253146500-1', {'control_id': 'CTRL004', 'doc_name': 'CTRL004_FINANCE.txt', 'para_idx': '0', 'text': '[Control Narrative]\\nMonthly depreciation runs use a system‑generated economic life matrix.\\n\\n[Testing Evidence]\\nThe matrix still contains legacy assets with 35‑year lives which should\\nhave been revised to 25\\xa0years under IFRS\\xa016.\\n\\n[Implication]\\nUnder‑depreciation may overstate 2025\\xa0EBITDA by up to $450\\u202fk.'})\n",
            "('1753253146501-0', {'control_id': 'CTRL003', 'doc_name': 'CTRL003_MIXED.txt', 'para_idx': '0', 'text': '[Control Narrative]\\nEnergy trading deals above 75\\u202fMWh require same‑day confirmation by the\\nRisk Management desk.\\n\\n[Testing Evidence]\\nTwo trades (Deal\\xa0IDs\\xa0TX412 & TX415) >\\xa0$1\\u202fM each remained unconfirmed for\\nthree days due to holiday staffing gaps.\\n\\n[Implication]\\n• Financial: valuation uncertainty may misstate P&L by >\\xa0$300\\u202fk.\\n• Compliance: breach of ISO\\xa037001 “timely confirmation” clause.'})\n",
            "('1753253146501-1', {'control_id': 'CTRL002', 'doc_name': 'CTRL002_COMPLIANCE.txt', 'para_idx': '0', 'text': '[Control Narrative]\\nEmployees handling SF6 gas must hold a current EPA\\xa0608 certificate.\\n\\n[Testing Evidence]\\nTen out of 42 maintenance staff have certificates expired >\\xa090\\u202fdays.\\n\\n[Implication]\\nNon‑compliance with US\\xa0EPA Subpart\\xa0LL; risk of regulatory fines.'})\n",
            "('1753256369337-0', {'control_id': 'CTRL001', 'doc_name': 'CTRL001_FINANCE.txt', 'para_idx': '0', 'text': '[Control Narrative]\\nAll capital expenditure above $50\\u202fk must be approved by both the Plant\\nManager and the Finance Controller before booking.\\n\\n[Testing Evidence]\\n• PO\\xa0#5312 for a 15\\u202fkV circuit breaker ($62\\u202f880) was approved only by\\n  the Plant Manager.\\n\\n[Implication]\\nPotential mis‑classification of CapEx and overstatement of fixed assets.\\n(Sample extracted 2025-07-23)'})\n",
            "('1753256369338-0', {'control_id': 'CTRL005', 'doc_name': 'CTRL005_COMPLIANCE.txt', 'para_idx': '0', 'text': '[Control Narrative]\\nAll SCADA access logs must be retained for seven years.\\n\\n[Testing Evidence]\\nLog retention policy set to 365\\xa0days; oldest log available dated\\n2025-07-23 minus 361\\xa0days.\\n\\n[Implication]\\nViolates NERC\\xa0CIP‑007‑6 R4; possible mandatory mitigation and penalties.'})\n",
            "('1753256369338-1', {'control_id': 'CTRL004', 'doc_name': 'CTRL004_FINANCE.txt', 'para_idx': '0', 'text': '[Control Narrative]\\nMonthly depreciation runs use a system‑generated economic life matrix.\\n\\n[Testing Evidence]\\nThe matrix still contains legacy assets with 35‑year lives which should\\nhave been revised to 25\\xa0years under IFRS\\xa016.\\n\\n[Implication]\\nUnder‑depreciation may overstate 2025\\xa0EBITDA by up to $450\\u202fk.'})\n",
            "('1753256369339-0', {'control_id': 'CTRL003', 'doc_name': 'CTRL003_MIXED.txt', 'para_idx': '0', 'text': '[Control Narrative]\\nEnergy trading deals above 75\\u202fMWh require same‑day confirmation by the\\nRisk Management desk.\\n\\n[Testing Evidence]\\nTwo trades (Deal\\xa0IDs\\xa0TX412 & TX415) >\\xa0$1\\u202fM each remained unconfirmed for\\nthree days due to holiday staffing gaps.\\n\\n[Implication]\\n• Financial: valuation uncertainty may misstate P&L by >\\xa0$300\\u202fk.\\n• Compliance: breach of ISO\\xa037001 “timely confirmation” clause.'})\n",
            "('1753256369339-1', {'control_id': 'CTRL002', 'doc_name': 'CTRL002_COMPLIANCE.txt', 'para_idx': '0', 'text': '[Control Narrative]\\nEmployees handling SF6 gas must hold a current EPA\\xa0608 certificate.\\n\\n[Testing Evidence]\\nTen out of 42 maintenance staff have certificates expired >\\xa090\\u202fdays.\\n\\n[Implication]\\nNon‑compliance with US\\xa0EPA Subpart\\xa0LL; risk of regulatory fines.'})\n",
            "('1753257114412-0', {'control_id': 'CTRL001', 'doc_name': 'CTRL001_FINANCE.txt', 'para_idx': '0', 'text': '[Control Narrative]\\nAll capital expenditure above $50\\u202fk must be approved by both the Plant\\nManager and the Finance Controller before booking.\\n\\n[Testing Evidence]\\n• PO\\xa0#5312 for a 15\\u202fkV circuit breaker ($62\\u202f880) was approved only by\\n  the Plant Manager.\\n\\n[Implication]\\nPotential mis‑classification of CapEx and overstatement of fixed assets.\\n(Sample extracted 2025-07-23)'})\n",
            "('1753257114413-0', {'control_id': 'CTRL005', 'doc_name': 'CTRL005_COMPLIANCE.txt', 'para_idx': '0', 'text': '[Control Narrative]\\nAll SCADA access logs must be retained for seven years.\\n\\n[Testing Evidence]\\nLog retention policy set to 365\\xa0days; oldest log available dated\\n2025-07-23 minus 361\\xa0days.\\n\\n[Implication]\\nViolates NERC\\xa0CIP‑007‑6 R4; possible mandatory mitigation and penalties.'})\n",
            "('1753257114414-0', {'control_id': 'CTRL004', 'doc_name': 'CTRL004_FINANCE.txt', 'para_idx': '0', 'text': '[Control Narrative]\\nMonthly depreciation runs use a system‑generated economic life matrix.\\n\\n[Testing Evidence]\\nThe matrix still contains legacy assets with 35‑year lives which should\\nhave been revised to 25\\xa0years under IFRS\\xa016.\\n\\n[Implication]\\nUnder‑depreciation may overstate 2025\\xa0EBITDA by up to $450\\u202fk.'})\n",
            "('1753257114414-1', {'control_id': 'CTRL003', 'doc_name': 'CTRL003_MIXED.txt', 'para_idx': '0', 'text': '[Control Narrative]\\nEnergy trading deals above 75\\u202fMWh require same‑day confirmation by the\\nRisk Management desk.\\n\\n[Testing Evidence]\\nTwo trades (Deal\\xa0IDs\\xa0TX412 & TX415) >\\xa0$1\\u202fM each remained unconfirmed for\\nthree days due to holiday staffing gaps.\\n\\n[Implication]\\n• Financial: valuation uncertainty may misstate P&L by >\\xa0$300\\u202fk.\\n• Compliance: breach of ISO\\xa037001 “timely confirmation” clause.'})\n",
            "('1753257114414-2', {'control_id': 'CTRL002', 'doc_name': 'CTRL002_COMPLIANCE.txt', 'para_idx': '0', 'text': '[Control Narrative]\\nEmployees handling SF6 gas must hold a current EPA\\xa0608 certificate.\\n\\n[Testing Evidence]\\nTen out of 42 maintenance staff have certificates expired >\\xa090\\u202fdays.\\n\\n[Implication]\\nNon‑compliance with US\\xa0EPA Subpart\\xa0LL; risk of regulatory fines.'})\n",
            "('1753257398708-0', {'control_id': 'CTRL001', 'doc_name': 'CTRL001_FINANCE.txt', 'para_idx': '0', 'text': '[Control Narrative]\\nAll capital expenditure above $50\\u202fk must be approved by both the Plant\\nManager and the Finance Controller before booking.\\n\\n[Testing Evidence]\\n• PO\\xa0#5312 for a 15\\u202fkV circuit breaker ($62\\u202f880) was approved only by\\n  the Plant Manager.\\n\\n[Implication]\\nPotential mis‑classification of CapEx and overstatement of fixed assets.\\n(Sample extracted 2025-07-23)'})\n",
            "('1753257398710-0', {'control_id': 'CTRL005', 'doc_name': 'CTRL005_COMPLIANCE.txt', 'para_idx': '0', 'text': '[Control Narrative]\\nAll SCADA access logs must be retained for seven years.\\n\\n[Testing Evidence]\\nLog retention policy set to 365\\xa0days; oldest log available dated\\n2025-07-23 minus 361\\xa0days.\\n\\n[Implication]\\nViolates NERC\\xa0CIP‑007‑6 R4; possible mandatory mitigation and penalties.'})\n",
            "('1753257398710-1', {'control_id': 'CTRL004', 'doc_name': 'CTRL004_FINANCE.txt', 'para_idx': '0', 'text': '[Control Narrative]\\nMonthly depreciation runs use a system‑generated economic life matrix.\\n\\n[Testing Evidence]\\nThe matrix still contains legacy assets with 35‑year lives which should\\nhave been revised to 25\\xa0years under IFRS\\xa016.\\n\\n[Implication]\\nUnder‑depreciation may overstate 2025\\xa0EBITDA by up to $450\\u202fk.'})\n",
            "('1753257398710-2', {'control_id': 'CTRL003', 'doc_name': 'CTRL003_MIXED.txt', 'para_idx': '0', 'text': '[Control Narrative]\\nEnergy trading deals above 75\\u202fMWh require same‑day confirmation by the\\nRisk Management desk.\\n\\n[Testing Evidence]\\nTwo trades (Deal\\xa0IDs\\xa0TX412 & TX415) >\\xa0$1\\u202fM each remained unconfirmed for\\nthree days due to holiday staffing gaps.\\n\\n[Implication]\\n• Financial: valuation uncertainty may misstate P&L by >\\xa0$300\\u202fk.\\n• Compliance: breach of ISO\\xa037001 “timely confirmation” clause.'})\n",
            "('1753257398711-0', {'control_id': 'CTRL002', 'doc_name': 'CTRL002_COMPLIANCE.txt', 'para_idx': '0', 'text': '[Control Narrative]\\nEmployees handling SF6 gas must hold a current EPA\\xa0608 certificate.\\n\\n[Testing Evidence]\\nTen out of 42 maintenance staff have certificates expired >\\xa090\\u202fdays.\\n\\n[Implication]\\nNon‑compliance with US\\xa0EPA Subpart\\xa0LL; risk of regulatory fines.'})\n"
          ]
        }
      ]
    },
    {
      "cell_type": "code",
      "source": [],
      "metadata": {
        "id": "L9bwOM2mTLdv"
      },
      "execution_count": 27,
      "outputs": []
    }
  ]
}